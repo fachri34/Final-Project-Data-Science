{
 "cells": [
  {
   "cell_type": "markdown",
   "id": "4ff448c1-aa31-41b2-a0e5-0ff90aa8e373",
   "metadata": {},
   "source": [
    "### HR Analytics: Mengoptimalkan Sumber Daya Manusia melalui Data\n",
    "\n",
    "Dalam dunia bisnis yang terus berubah, peran Sumber Daya Manusia (HR) telah berkembang menjadi lebih dari sekadar administrasi dan pengelolaan karyawan. Saat ini, HR memegang peranan strategis yang penting dalam pengambilan keputusan organisasi. Bagaimana HR dapat mengoptimalkan tenaga kerja, meningkatkan produktivitas, dan memastikan kepuasan karyawan? Jawabannya adalah dengan menerapkan HR Analytics.\n",
    "\n",
    "HR Analytics adalah pendekatan yang memanfaatkan data dan analisis untuk memahami lebih dalam dinamika organisasi, karyawan, dan lingkungan kerja. Ini membantu HR dalam mengidentifikasi pola-pola yang mungkin terlewatkan, memprediksi kebutuhan sumber daya manusia di masa depan, dan mengukur dampak kebijakan dan program HR. Dengan HR Analytics, perusahaan dapat membuat keputusan yang lebih tepat dan terinformasi.\n",
    "\n",
    "Dalam perjalanan ini, kita akan menjelajahi dunia HR Analytics, memahami bagaimana data dapat digunakan untuk meningkatkan pengelolaan sumber daya manusia, memaksimalkan produktivitas karyawan, dan mencapai tujuan organisasi. Kami akan melihat berbagai metode analisis, teknik visualisasi, dan praktik terbaik dalam HR Analytics untuk membantu Anda meraih keberhasilan dalam pengelolaan sumber daya manusia. Mari kita mulai perjalanan ini menuju pemahaman yang lebih dalam tentang dunia HR Analytics.\n",
    "\n",
    "Berikut dibawah ini merupakan Exploratory Data Analysis dari kelompok kami Data Wizards mengenai HR Analytics"
   ]
  },
  {
   "cell_type": "code",
   "execution_count": 2,
   "id": "9eb495ee-c68d-4e25-b104-691ad0b00488",
   "metadata": {
    "jupyter": {
     "source_hidden": true
    },
    "tags": []
   },
   "outputs": [],
   "source": [
    "import pandas as pd\n",
    "import seaborn as sns\n",
    "import matplotlib.pyplot as plt\n",
    "import numpy as np"
   ]
  },
  {
   "cell_type": "markdown",
   "id": "32ba4eca-da6f-4c25-94c8-6c4a04f76c21",
   "metadata": {
    "tags": []
   },
   "source": [
    "# 1. Descriptive Statistics\n",
    "\n",
    "A. Apakah ada kolom dengan tipe data kurang sesuai, atau nama kolom dan isinya kurang sesuai? </br>\n",
    "B. Apakah ada kolom yang memiliki nilai kosong? Jika ada, apa saja?</br>\n",
    "C. Apakah ada kolom yang memiliki nilai summary agak aneh?</br>\n",
    "(min/mean/median/max/unique/top/freq)"
   ]
  },
  {
   "cell_type": "code",
   "execution_count": 3,
   "id": "a9193ede-d349-414b-a12e-7c896a7dbc0f",
   "metadata": {
    "tags": []
   },
   "outputs": [
    {
     "data": {
      "text/html": [
       "<div>\n",
       "<style scoped>\n",
       "    .dataframe tbody tr th:only-of-type {\n",
       "        vertical-align: middle;\n",
       "    }\n",
       "\n",
       "    .dataframe tbody tr th {\n",
       "        vertical-align: top;\n",
       "    }\n",
       "\n",
       "    .dataframe thead th {\n",
       "        text-align: right;\n",
       "    }\n",
       "</style>\n",
       "<table border=\"1\" class=\"dataframe\">\n",
       "  <thead>\n",
       "    <tr style=\"text-align: right;\">\n",
       "      <th></th>\n",
       "      <th>enrollee_id</th>\n",
       "      <th>city</th>\n",
       "      <th>city_development_index</th>\n",
       "      <th>gender</th>\n",
       "      <th>relevent_experience</th>\n",
       "      <th>enrolled_university</th>\n",
       "      <th>education_level</th>\n",
       "      <th>major_discipline</th>\n",
       "      <th>experience</th>\n",
       "      <th>company_size</th>\n",
       "      <th>company_type</th>\n",
       "      <th>last_new_job</th>\n",
       "      <th>training_hours</th>\n",
       "      <th>target</th>\n",
       "    </tr>\n",
       "  </thead>\n",
       "  <tbody>\n",
       "    <tr>\n",
       "      <th>13165</th>\n",
       "      <td>25655</td>\n",
       "      <td>city_136</td>\n",
       "      <td>0.897</td>\n",
       "      <td>Male</td>\n",
       "      <td>Has relevent experience</td>\n",
       "      <td>no_enrollment</td>\n",
       "      <td>Masters</td>\n",
       "      <td>STEM</td>\n",
       "      <td>10</td>\n",
       "      <td>50-99</td>\n",
       "      <td>Funded Startup</td>\n",
       "      <td>1</td>\n",
       "      <td>158</td>\n",
       "      <td>0.0</td>\n",
       "    </tr>\n",
       "    <tr>\n",
       "      <th>4560</th>\n",
       "      <td>1011</td>\n",
       "      <td>city_103</td>\n",
       "      <td>0.920</td>\n",
       "      <td>NaN</td>\n",
       "      <td>No relevent experience</td>\n",
       "      <td>Full time course</td>\n",
       "      <td>Graduate</td>\n",
       "      <td>STEM</td>\n",
       "      <td>4</td>\n",
       "      <td>NaN</td>\n",
       "      <td>NaN</td>\n",
       "      <td>never</td>\n",
       "      <td>31</td>\n",
       "      <td>1.0</td>\n",
       "    </tr>\n",
       "    <tr>\n",
       "      <th>6402</th>\n",
       "      <td>8830</td>\n",
       "      <td>city_103</td>\n",
       "      <td>0.920</td>\n",
       "      <td>NaN</td>\n",
       "      <td>Has relevent experience</td>\n",
       "      <td>no_enrollment</td>\n",
       "      <td>Graduate</td>\n",
       "      <td>Humanities</td>\n",
       "      <td>&gt;20</td>\n",
       "      <td>1000-4999</td>\n",
       "      <td>Pvt Ltd</td>\n",
       "      <td>1</td>\n",
       "      <td>30</td>\n",
       "      <td>0.0</td>\n",
       "    </tr>\n",
       "    <tr>\n",
       "      <th>5946</th>\n",
       "      <td>9543</td>\n",
       "      <td>city_30</td>\n",
       "      <td>0.698</td>\n",
       "      <td>Male</td>\n",
       "      <td>Has relevent experience</td>\n",
       "      <td>no_enrollment</td>\n",
       "      <td>Graduate</td>\n",
       "      <td>STEM</td>\n",
       "      <td>8</td>\n",
       "      <td>100-500</td>\n",
       "      <td>Pvt Ltd</td>\n",
       "      <td>&gt;4</td>\n",
       "      <td>17</td>\n",
       "      <td>0.0</td>\n",
       "    </tr>\n",
       "    <tr>\n",
       "      <th>6128</th>\n",
       "      <td>29462</td>\n",
       "      <td>city_103</td>\n",
       "      <td>0.920</td>\n",
       "      <td>Female</td>\n",
       "      <td>Has relevent experience</td>\n",
       "      <td>no_enrollment</td>\n",
       "      <td>Graduate</td>\n",
       "      <td>Humanities</td>\n",
       "      <td>5</td>\n",
       "      <td>&lt;10</td>\n",
       "      <td>NGO</td>\n",
       "      <td>1</td>\n",
       "      <td>15</td>\n",
       "      <td>0.0</td>\n",
       "    </tr>\n",
       "  </tbody>\n",
       "</table>\n",
       "</div>"
      ],
      "text/plain": [
       "       enrollee_id      city  city_development_index  gender  \\\n",
       "13165        25655  city_136                   0.897    Male   \n",
       "4560          1011  city_103                   0.920     NaN   \n",
       "6402          8830  city_103                   0.920     NaN   \n",
       "5946          9543   city_30                   0.698    Male   \n",
       "6128         29462  city_103                   0.920  Female   \n",
       "\n",
       "           relevent_experience enrolled_university education_level  \\\n",
       "13165  Has relevent experience       no_enrollment         Masters   \n",
       "4560    No relevent experience    Full time course        Graduate   \n",
       "6402   Has relevent experience       no_enrollment        Graduate   \n",
       "5946   Has relevent experience       no_enrollment        Graduate   \n",
       "6128   Has relevent experience       no_enrollment        Graduate   \n",
       "\n",
       "      major_discipline experience company_size    company_type last_new_job  \\\n",
       "13165             STEM         10        50-99  Funded Startup            1   \n",
       "4560              STEM          4          NaN             NaN        never   \n",
       "6402        Humanities        >20    1000-4999         Pvt Ltd            1   \n",
       "5946              STEM          8      100-500         Pvt Ltd           >4   \n",
       "6128        Humanities          5          <10             NGO            1   \n",
       "\n",
       "       training_hours  target  \n",
       "13165             158     0.0  \n",
       "4560               31     1.0  \n",
       "6402               30     0.0  \n",
       "5946               17     0.0  \n",
       "6128               15     0.0  "
      ]
     },
     "execution_count": 3,
     "metadata": {},
     "output_type": "execute_result"
    }
   ],
   "source": [
    "# Membaca masing masing data set serta menampilkan 5 sampling data dari setiap data set train dan test\n",
    "df_train = pd.read_csv('aug_train.csv')\n",
    "df_test = pd.read_csv('aug_test.csv')\n",
    "df_train.sample(5)"
   ]
  },
  {
   "cell_type": "code",
   "execution_count": 4,
   "id": "63d95259-6f98-4b01-bf64-5af8c6230ff7",
   "metadata": {
    "tags": []
   },
   "outputs": [
    {
     "data": {
      "text/html": [
       "<div>\n",
       "<style scoped>\n",
       "    .dataframe tbody tr th:only-of-type {\n",
       "        vertical-align: middle;\n",
       "    }\n",
       "\n",
       "    .dataframe tbody tr th {\n",
       "        vertical-align: top;\n",
       "    }\n",
       "\n",
       "    .dataframe thead th {\n",
       "        text-align: right;\n",
       "    }\n",
       "</style>\n",
       "<table border=\"1\" class=\"dataframe\">\n",
       "  <thead>\n",
       "    <tr style=\"text-align: right;\">\n",
       "      <th></th>\n",
       "      <th>enrollee_id</th>\n",
       "      <th>city</th>\n",
       "      <th>city_development_index</th>\n",
       "      <th>gender</th>\n",
       "      <th>relevent_experience</th>\n",
       "      <th>enrolled_university</th>\n",
       "      <th>education_level</th>\n",
       "      <th>major_discipline</th>\n",
       "      <th>experience</th>\n",
       "      <th>company_size</th>\n",
       "      <th>company_type</th>\n",
       "      <th>last_new_job</th>\n",
       "      <th>training_hours</th>\n",
       "    </tr>\n",
       "  </thead>\n",
       "  <tbody>\n",
       "    <tr>\n",
       "      <th>1346</th>\n",
       "      <td>22392</td>\n",
       "      <td>city_19</td>\n",
       "      <td>0.682</td>\n",
       "      <td>Male</td>\n",
       "      <td>No relevent experience</td>\n",
       "      <td>Full time course</td>\n",
       "      <td>Graduate</td>\n",
       "      <td>STEM</td>\n",
       "      <td>3</td>\n",
       "      <td>NaN</td>\n",
       "      <td>NaN</td>\n",
       "      <td>never</td>\n",
       "      <td>139</td>\n",
       "    </tr>\n",
       "    <tr>\n",
       "      <th>2112</th>\n",
       "      <td>28552</td>\n",
       "      <td>city_134</td>\n",
       "      <td>0.698</td>\n",
       "      <td>Male</td>\n",
       "      <td>Has relevent experience</td>\n",
       "      <td>no_enrollment</td>\n",
       "      <td>Graduate</td>\n",
       "      <td>STEM</td>\n",
       "      <td>4</td>\n",
       "      <td>50-99</td>\n",
       "      <td>Pvt Ltd</td>\n",
       "      <td>1</td>\n",
       "      <td>36</td>\n",
       "    </tr>\n",
       "    <tr>\n",
       "      <th>1389</th>\n",
       "      <td>8031</td>\n",
       "      <td>city_71</td>\n",
       "      <td>0.884</td>\n",
       "      <td>Male</td>\n",
       "      <td>Has relevent experience</td>\n",
       "      <td>no_enrollment</td>\n",
       "      <td>High School</td>\n",
       "      <td>NaN</td>\n",
       "      <td>&gt;20</td>\n",
       "      <td>&lt;10</td>\n",
       "      <td>Pvt Ltd</td>\n",
       "      <td>&gt;4</td>\n",
       "      <td>41</td>\n",
       "    </tr>\n",
       "    <tr>\n",
       "      <th>874</th>\n",
       "      <td>9649</td>\n",
       "      <td>city_103</td>\n",
       "      <td>0.920</td>\n",
       "      <td>Male</td>\n",
       "      <td>Has relevent experience</td>\n",
       "      <td>no_enrollment</td>\n",
       "      <td>Graduate</td>\n",
       "      <td>Business Degree</td>\n",
       "      <td>16</td>\n",
       "      <td>50-99</td>\n",
       "      <td>Pvt Ltd</td>\n",
       "      <td>1</td>\n",
       "      <td>33</td>\n",
       "    </tr>\n",
       "    <tr>\n",
       "      <th>581</th>\n",
       "      <td>5243</td>\n",
       "      <td>city_101</td>\n",
       "      <td>0.558</td>\n",
       "      <td>NaN</td>\n",
       "      <td>Has relevent experience</td>\n",
       "      <td>no_enrollment</td>\n",
       "      <td>Graduate</td>\n",
       "      <td>STEM</td>\n",
       "      <td>6</td>\n",
       "      <td>10/49</td>\n",
       "      <td>Pvt Ltd</td>\n",
       "      <td>&gt;4</td>\n",
       "      <td>12</td>\n",
       "    </tr>\n",
       "  </tbody>\n",
       "</table>\n",
       "</div>"
      ],
      "text/plain": [
       "      enrollee_id      city  city_development_index gender  \\\n",
       "1346        22392   city_19                   0.682   Male   \n",
       "2112        28552  city_134                   0.698   Male   \n",
       "1389         8031   city_71                   0.884   Male   \n",
       "874          9649  city_103                   0.920   Male   \n",
       "581          5243  city_101                   0.558    NaN   \n",
       "\n",
       "          relevent_experience enrolled_university education_level  \\\n",
       "1346   No relevent experience    Full time course        Graduate   \n",
       "2112  Has relevent experience       no_enrollment        Graduate   \n",
       "1389  Has relevent experience       no_enrollment     High School   \n",
       "874   Has relevent experience       no_enrollment        Graduate   \n",
       "581   Has relevent experience       no_enrollment        Graduate   \n",
       "\n",
       "     major_discipline experience company_size company_type last_new_job  \\\n",
       "1346             STEM          3          NaN          NaN        never   \n",
       "2112             STEM          4        50-99      Pvt Ltd            1   \n",
       "1389              NaN        >20          <10      Pvt Ltd           >4   \n",
       "874   Business Degree         16        50-99      Pvt Ltd            1   \n",
       "581              STEM          6        10/49      Pvt Ltd           >4   \n",
       "\n",
       "      training_hours  \n",
       "1346             139  \n",
       "2112              36  \n",
       "1389              41  \n",
       "874               33  \n",
       "581               12  "
      ]
     },
     "execution_count": 4,
     "metadata": {},
     "output_type": "execute_result"
    }
   ],
   "source": [
    "df_test.sample(5)"
   ]
  },
  {
   "cell_type": "markdown",
   "id": "352c1feb-dc6a-4ba3-84b3-727a2037f519",
   "metadata": {},
   "source": [
    "Data ini mencakup informasi terkait sumber daya manusia, dengan berbagai variabel seperti pengalaman, pendidikan, jenis kelamin, lokasi, dan lainnya. Terdapat beberapa nilai yang hilang dalam kolom-kolom seperti \"gender\" dan \"company_size\". Terdapat juga variasi dalam kolom \"last_new_job\" yang mencerminkan berapa lama seseorang telah mengganti pekerjaan terakhirnya. Data ini memiliki potensi besar untuk analisis HR yang mendalam. Dengan penerapan HR Analytics, perusahaan dapat memahami tren dalam perekrutan, retensi, dan pengembangan karyawan. Namun, sebelumnya, perlu melakukan pengelolaan data seperti mengisi nilai yang hilang dan memeriksa outlier."
   ]
  },
  {
   "cell_type": "code",
   "execution_count": 5,
   "id": "d68b709a-02b2-469a-8a52-1c2089c53c83",
   "metadata": {
    "jupyter": {
     "source_hidden": true
    },
    "tags": []
   },
   "outputs": [
    {
     "ename": "NameError",
     "evalue": "name 'df' is not defined",
     "output_type": "error",
     "traceback": [
      "\u001b[1;31m---------------------------------------------------------------------------\u001b[0m",
      "\u001b[1;31mNameError\u001b[0m                                 Traceback (most recent call last)",
      "Cell \u001b[1;32mIn[5], line 2\u001b[0m\n\u001b[0;32m      1\u001b[0m \u001b[38;5;66;03m# Informasi Data Frame\u001b[39;00m\n\u001b[1;32m----> 2\u001b[0m df\u001b[38;5;241m.\u001b[39minfo()\n",
      "\u001b[1;31mNameError\u001b[0m: name 'df' is not defined"
     ]
    }
   ],
   "source": [
    "# Informasi Data Frame\n",
    "df.info()"
   ]
  },
  {
   "cell_type": "markdown",
   "id": "4515c2d7-13ce-43b1-bf57-22d569bff104",
   "metadata": {
    "tags": []
   },
   "source": [
    "Jumlah Data: Data frame ini memiliki total <b>19,158 baris (entri) dan 14 kolom</b>.</br>\n",
    "\n",
    "#### Kolom dengan Data Tipe Integer (int64):\n",
    "\n",
    "enrollee_id: Kolom ID pendaftar.</br>\n",
    "training_hours: Kolom jumlah jam pelatihan.</br>\n",
    "\n",
    "#### Kolom dengan Data Tipe Float (float64):</br>\n",
    "\n",
    "city_development_index: Indeks perkembangan kota.</br>\n",
    "target: Kolom target, mungkin berhubungan dengan suatu prediksi atau klasifikasi.</br>\n",
    "\n",
    "#### Kolom dengan Data Tipe Object (teks):</br>\n",
    "\n",
    "city: Nama kota.</br>\n",
    "gender: Jenis kelamin pendaftar.</br>\n",
    "relevent_experience: Pengalaman yang relevan.</br>\n",
    "enrolled_university: Universitas tempat pendaftar terdaftar.</br>\n",
    "education_level: Tingkat pendidikan pendaftar.</br>\n",
    "major_discipline: Disiplin ilmu utama pendaftar.</br>\n",
    "experience: Pengalaman pendaftar.</br>\n",
    "company_size: Ukuran perusahaan di mana pendaftar bekerja.</br>\n",
    "company_type: Tipe perusahaan di mana pendaftar bekerja.</br>\n",
    "last_new_job: Jumlah tahun sejak pekerjaan terakhir.</br>\n",
    "\n",
    "#### Target Variable:\n",
    "Kolom  target digunakan sebagai variabel target untuk tugas analisis atau pemodelan. Tipe data kolom ini adalah float64, yang menunjukkan kemungkinan ini adalah kolom target yang mengandung nilai numerik."
   ]
  },
  {
   "cell_type": "code",
   "execution_count": null,
   "id": "65670c76-1c7a-422b-b0e2-c36f0fc27205",
   "metadata": {
    "jupyter": {
     "source_hidden": true
    },
    "tags": []
   },
   "outputs": [],
   "source": [
    "# Mengelompokkan kolom - kolom dari data frame\n",
    "cats=['city','gender','relevent_experience','enrolled_university','education_level','major_discipline','experience','company_size',\n",
    "      'company_type','last_new_job']\n",
    "nums=['enrollee_id','city_development_index','training_hours','target']"
   ]
  },
  {
   "cell_type": "code",
   "execution_count": null,
   "id": "88faf8cc-69f7-475e-b2c7-b32df715cb2d",
   "metadata": {
    "tags": []
   },
   "outputs": [],
   "source": [
    "#Statistik Deskriptif kolom numerikal\n",
    "df[nums].describe()"
   ]
  },
  {
   "cell_type": "markdown",
   "id": "6f5b5c26-5c00-4e95-af74-5af1c5d944fd",
   "metadata": {},
   "source": [
    "Statistik deskriptif untuk kolom numerikal:</br>\n",
    "1. Kolom 'enrollee_id' memiliki rentang ID pendaftar dari 1 hingga 33,380, dengan distribusi yang merata.</br>\n",
    "2. Kolom 'city_development_index' memiliki rata-rata sekitar 0.829 dengan range yang wajar antara 0.448 hingga 0.949.</br>\n",
    "3. Kolom 'training_hours' memiliki rata-rata sekitar 65.37 dengan range antara 1 hingga 336.</br>\n",
    "4. Kolom 'target' adalah variabel biner, di mana sekitar 25% pendaftar memiliki nilai target 1.</br>\n",
    "\n",
    "<b>Tidak ada data yang mencolok atau aneh dalam statistik ini.</b>"
   ]
  },
  {
   "cell_type": "code",
   "execution_count": null,
   "id": "9d589ef2-f71c-43c1-a3d6-5285495272b6",
   "metadata": {
    "tags": []
   },
   "outputs": [],
   "source": [
    "# Statistik deskriptif kolom kategorikal\n",
    "df[cats].describe()"
   ]
  },
  {
   "cell_type": "code",
   "execution_count": null,
   "id": "9412b5f7-1dfc-4443-a1a8-23d157646e1f",
   "metadata": {
    "jupyter": {
     "source_hidden": true
    },
    "tags": []
   },
   "outputs": [],
   "source": [
    "import matplotlib.pyplot as plt\n",
    "\n",
    "columns = [\"city\", \"gender\", \"relevent_experience\", \"enrolled_university\", \"education_level\", \"major_discipline\", \"experience\", \"company_size\", \"company_type\", \"last_new_job\"]\n",
    "count = [19158, 14650, 19158, 18772, 18698, 16345, 19093, 13220, 13018, 18735]\n",
    "unique_values = [123, 3, 2, 3, 5, 6, 22, 8, 6, 6]\n",
    "\n",
    "plt.figure(figsize=(10, 6))\n",
    "bar_width = 0.3 \n",
    "index = range(len(columns))\n",
    "\n",
    "plt.barh(index, count, bar_width, color='skyblue', label='Jumlah Data')\n",
    "plt.barh(index, unique_values, bar_width, color='lightgrey', label='Jumlah Kategori Unik')\n",
    "\n",
    "for i in index:\n",
    "    plt.text(count[i] + 200, i, f'{unique_values[i]} ({count[i]})', va='center')\n",
    "\n",
    "plt.xlabel('Count')\n",
    "plt.title('Jumlah Kategori Unik dan Total Data dalam Setiap Kolom')\n",
    "plt.yticks(index, columns)\n",
    "plt.gca().invert_yaxis()\n",
    "plt.legend()\n",
    "plt.show()\n"
   ]
  },
  {
   "cell_type": "markdown",
   "id": "c776fc07-4e5c-4514-ae1e-7fd2f56c5aae",
   "metadata": {},
   "source": [
    "Statistik deskriptif untuk kolom kategorikal:</br>\n",
    "\n",
    "1. Kolom 'gender' memiliki data yang hilang dan berisi jenis kelamin paling umum adalah 'Male' dengan jenis kelamin Unik ada 3 dan Jumlah data 14.650.\n",
    "2. Kolom 'enrolled_university' memiliki data yang hilang dan mayoritas tidak terdaftar di universitas jumlah Unik 3 dan Jumlah data 18.772.\n",
    "3. Kolom 'education_level' memiliki data yang hilang dan mayoritas adalah lulusan Nilai Unik: 5 Jumlah Data: 18,698\n",
    "4. Kolom 'major_discipline' memiliki beberapa nilai unik dan yang paling umum adalah 'STEM' Nilai Unik: 6 Jumlah Data: 16,345.\n",
    "5. Kolom 'company_size' memiliki data yang hilang dan ukuran '50-99' adalah yang paling umum Nilai Unik: 8 Jumlah Data: 13,220\n",
    "6. Kolom 'company_type' memiliki data yang hilang dan 'Pvt Ltd' adalah yang paling umum Nilai Unik: 6 Jumlah Data: 13,018\n",
    "7. Kolom 'last_new_job' memiliki data yang hilang dan '1' adalah yang paling umum Nilai Unik: 6 Jumlah Data: 18,735\n",
    "\n",
    "<b>!! Kolom gender memiliki 3 nilai unik (seharusnya terdapat 2 gender saja (Male dan Female))</b>"
   ]
  },
  {
   "cell_type": "code",
   "execution_count": null,
   "id": "58d6c740-9678-4540-9d70-8e705a404f8e",
   "metadata": {
    "jupyter": {
     "source_hidden": true
    },
    "tags": []
   },
   "outputs": [],
   "source": [
    "# Menghitung jumlah NaN atau nilai yang kosong\n",
    "print(\"Missing Values\")\n",
    "print(df.isnull().sum())\n",
    "\n",
    "#Check for missing values Percentage\n",
    "print(\"\\nMissing Values Percentage\")\n",
    "print(df.isna().sum()/len(df))"
   ]
  },
  {
   "cell_type": "markdown",
   "id": "eef66be5-dc98-4fb7-ae48-78571f8337ce",
   "metadata": {
    "tags": []
   },
   "source": [
    "#### Data yang Tidak Lengkap (NaN): \n",
    "Beberapa kolom seperti <b>gender, enrolled_university, education_level, major_discipline, experience, company_size, dan company_type </b> memiliki nilai yang hilang (NaN)."
   ]
  },
  {
   "cell_type": "markdown",
   "id": "97d8d919-3a21-474a-9f91-99c551bbf381",
   "metadata": {
    "tags": []
   },
   "source": [
    "# 1. Descriptive Statistics (Kesimpulan)\n",
    "\n",
    "A. Semua tipe data sudah sesuai </br>\n",
    "B. Kolom <b> gender, enrolled_university, education_level, major_discipline, experience, company_size, company_type, last_new job, dan training_hours</b> memiliki nilai kosong </br>\n",
    "C. Kolom gender yang seharusnya memiliki 2 nilai unik ternyata memiliki 3 nilai unik."
   ]
  },
  {
   "cell_type": "markdown",
   "id": "13a88db1-e901-493b-accf-45b17277319f",
   "metadata": {},
   "source": [
    "# 2. Univariate Analysis\n",
    "\n",
    "Gunakan <b>visualisasi</b> untuk melihat distribusi masing-masing kolom (feature maupun target).</br>\n",
    "Tuliskan hasil observasinya, misalnya jika ada suatu kolom yang distribusinya\n",
    "menarik</br> (misal skewed, bimodal, ada outlier, ada nilai yang mendominasi, kategorinya\n",
    "terlalu banyak, dsb).</br> Jelaskan juga apa yang harus di-follow up saat data pre-processing."
   ]
  },
  {
   "cell_type": "markdown",
   "id": "29202fc7-6953-4c5d-adc5-7cefaf25c011",
   "metadata": {},
   "source": [
    "### Numerical Features"
   ]
  },
  {
   "cell_type": "code",
   "execution_count": null,
   "id": "50d4b0e3-26b7-4b7d-be31-ef9889b486bb",
   "metadata": {
    "tags": []
   },
   "outputs": [],
   "source": [
    "import pandas as pd\n",
    "import matplotlib.pyplot as plt\n",
    "import seaborn as sns\n",
    "import warnings\n",
    "warnings.filterwarnings(\"ignore\")\n",
    "\n",
    "df_train = pd.read_csv('aug_train.csv')\n",
    "\n",
    "sns.set(style='whitegrid')\n",
    "\n",
    "fig, axes = plt.subplots(2, 3, figsize=(18, 10))\n",
    "plt.subplots_adjust(wspace=0.4, hspace=0.4)\n",
    "\n",
    "sns.histplot(ax=axes[0, 0], x=df_train['city_development_index'], bins=30, kde=True, color='skyblue')\n",
    "axes[0, 0].set_title('Distribution of City Development Index')\n",
    "axes[0, 0].set_xlabel('City Development Index')\n",
    "axes[0, 0].set_ylabel('Frequency')\n",
    "sns.boxplot(ax=axes[1, 0], x=df_train['city_development_index'], color='skyblue', width=0.2)\n",
    "\n",
    "sns.histplot(ax=axes[0, 1], x=df_train['training_hours'], bins=30, kde=True, color='skyblue')\n",
    "axes[0, 1].set_title('Distribution of Training Hours')\n",
    "axes[0, 1].set_xlabel('Training Hours')\n",
    "axes[0, 1].set_ylabel('Frequency')\n",
    "sns.boxplot(ax=axes[1, 1], x=df_train['training_hours'], color='skyblue', width=0.2)\n",
    "\n",
    "sns.histplot(ax=axes[0, 2], x=df_train['target'], bins=2, kde=True, color='skyblue')\n",
    "axes[0, 2].set_title('Distribution of Target')\n",
    "axes[0, 2].set_xlabel('Target')\n",
    "axes[0, 2].set_ylabel('Frequency')\n",
    "sns.boxplot(ax=axes[1, 2], x=df_train['target'], color='skyblue', width=0.2)\n",
    "\n",
    "plt.tight_layout()\n",
    "\n",
    "plt.show()\n"
   ]
  },
  {
   "cell_type": "markdown",
   "id": "2da4049b-b6a6-42d4-a77a-1455b7701a74",
   "metadata": {
    "tags": []
   },
   "source": [
    "#### Kesimpulan data numerikal\n",
    "\n",
    "1. Distribution of City Development Index (Distribusi Indeks Pembangunan Kota):\n",
    "CDI memiliki distribusi <b>bimodal</b> dengan dua puncak.</br>\n",
    "Mayoritas data terkonsentrasi di sekitar nilai tengah indeks pembangunan kota.</br>\n",
    "Terdapat beberapa nilai ekstrem yang diidentifikasi sebagai outlier dalam box plot.</br>\n",
    "2. Distribution of Training Hours (Distribusi Jam Pelatihan):\n",
    "Distribusi jam pelatihan <b>skew ke kanan</b> (positively skewed) dengan nilai<b> median yang lebih kecil daripada mean</b> (lihat df.describe pada no.1).\n",
    "Mayoritas data berpusat di sekitar nilai rendah hingga menengah jam pelatihan.\n",
    "Terdapat beberapa data yang diidentifikasi sebagai outlier dalam box plot, yang mengindikasikan jam pelatihan yang jauh lebih tinggi dari mayoritas.</br>\n",
    "3. Distribution of Target (Distribusi Target):\n",
    "Distribusi target menunjukkan bahwa mayoritas data adalah \"non-seeking\" (tidak mencari pekerjaan) dengan <b>persentase 3:1</b>.\n",
    "Dengan kata lain, hanya 25% enrollee adalah pencari pekerjaan baru."
   ]
  },
  {
   "cell_type": "markdown",
   "id": "7507ba7f-96e8-4106-a4b9-37a905c0b310",
   "metadata": {},
   "source": [
    "### Categorical Features"
   ]
  },
  {
   "cell_type": "code",
   "execution_count": null,
   "id": "40753599-4e88-4e47-bd44-8d4043b9875e",
   "metadata": {
    "tags": []
   },
   "outputs": [],
   "source": [
    "# Select the categorical features\n",
    "categorical_features = ['city', 'gender', 'relevent_experience', 'enrolled_university',\n",
    "                        'education_level', 'major_discipline', 'experience', 'company_size',\n",
    "                        'company_type', 'last_new_job']\n",
    "\n",
    "# Set up the figure and axes\n",
    "fig, axes = plt.subplots(nrows=5, ncols=2, figsize=(15, 25))\n",
    "\n",
    "# Flatten the axes for easy iteration\n",
    "axes = axes.flatten()\n",
    "\n",
    "# Loop through categorical features and plot bar charts\n",
    "for i, feature in enumerate(categorical_features):\n",
    "    sns.countplot(data=df, y=feature, ax=axes[i], order=df[feature].value_counts().index, color='skyblue')\n",
    "    axes[i].set_title(f'Countplot of {feature}')\n",
    "    axes[i].set_xlabel('Count')\n",
    "    axes[i].set_ylabel(feature)\n",
    "\n",
    "# Adjust layout and show the plots\n",
    "plt.tight_layout()\n",
    "plt.show()"
   ]
  },
  {
   "cell_type": "markdown",
   "id": "1dd0cf5b-5979-42c9-ac1c-e4d3fd81c7d5",
   "metadata": {},
   "source": [
    "#### Kesimpulan data kategorikal\n",
    "city: Distribusi kota agak <b>tidak merata</b>, beberapa kota memiliki <b>frekuensi yang tinggi</b>.</br>\n",
    "gender: Terdapat kategori <b>'Other'</b> yang mungkin perlu diperiksa lebih lanjut. Selain itu, <b>perbedaan frekuensi antara jenis kelamin cukup besar</b>.</br>\n",
    "relevent_experience: <b>Mayoritas</b> kandidat<B> memiliki pengalaman relevan</b>.</br>\n",
    "education_level: Kategori <b>'Primary School'</b> memiliki frekuensi yang <b>rendah</b> dibandingkan dengan kategori lainnya.</br>\n",
    "major_discipline: Mayoritas kandidat memiliki disiplin mayor di bidang <b>Engineering</b>.</br>\n",
    "experience: Distribusi pengalaman terlihat wajar, namun ada beberapa nilai yang mungkin perlu diinspeksi lebih lanjut.</br>\n",
    "company_size: Kategori <b>'50-99' dan '100-500' memiliki frekuensi tertinggi</b>. Nilai 10/49 perlu diubah menjadi 10-49</br>\n",
    "company_type: Mayoritas kandidat bekerja di perusahaan sektor <b>Private</b>.</br>\n",
    "last_new_job: Mayoritas kandidat telah mengganti pekerjaan dalam waktu <b>kurang dari satu tahun</b>.</br>\n",
    "target: <b>Distribusi target tidak seimbang</b>, dengan <b>mayoritas</b> kandidat <b>tidak mencari perubahan pekerjaan</b>.</br>"
   ]
  },
  {
   "cell_type": "markdown",
   "id": "d371776f-4632-4483-8120-c19b84551865",
   "metadata": {},
   "source": [
    "#### Follow-up <b>data preprocessing</b> yang dapat dilakukan meliputi:\n",
    "\n",
    "Handling Missing Values: Perlu memeriksa dan mengatasi nilai yang hilang pada kolom dengan missing values seperti 'gender','enrolled_university', 'education_level', dsb.</br>\n",
    "Outlier Detection and Handling: Memeriksa apakah ada outlier pada variabel numerik dan mengambil tindakan yang sesuai jika ada.</br>\n",
    "Encoding Categorical Variables: Melakukan encoding pada variabel kategorikal untuk mengubahnya menjadi bentuk numerik yang dapat digunakan dalam pemodelan.</br>\n",
    "Balancing Target: Mengambil tindakan untuk menangani ketidakseimbangan dalam target (oversampling, undersampling, atau metode lainnya).</br>\n",
    "Feature Scaling: Melakukan normalisasi atau standardisasi pada variabel numerik jika dibutuhkan.</br>\n",
    "Feature Engineering: Mungkin ada kemungkinan untuk menggabungkan, memisahkan, atau mengubah fitur untuk meningkatkan kinerja model.</br>\n",
    "Validasi Data: Memastikan bahwa dataset telah divalidasi dengan benar untuk mengidentifikasi potensi masalah atau anomali lain yang perlu ditangani."
   ]
  },
  {
   "cell_type": "markdown",
   "id": "49c8c0bd-4f86-4cae-b57b-bcb10f784d78",
   "metadata": {},
   "source": [
    "# 3. Multivariate Analysis + 4. Business Insight\n",
    "Lakukan multivariate analysis (seperti correlation heatmap dan category plots, sesuai yang\n",
    "diajarkan di kelas).</br> Tuliskan hasil observasinya, seperti:</br>\n",
    "A. Bagaimana korelasi antara masing-masing feature dan label. Kira-kira feature mana\n",
    "saja yang paling relevan dan harus dipertahankan?</br>\n",
    "B. Bagaimana korelasi antar-feature, apakah ada pola yang menarik? Apa yang perlu\n",
    "dilakukan terhadap feature itu?</br>\n",
    "* Tuliskan juga jika memang tidak ada feature yang saling berkorelasi"
   ]
  },
  {
   "cell_type": "code",
   "execution_count": null,
   "id": "b4ef0c30-e52f-4c1d-b986-8d6a173f9c63",
   "metadata": {
    "jupyter": {
     "source_hidden": true
    },
    "tags": []
   },
   "outputs": [],
   "source": [
    "# Selecting the numerical features and target\n",
    "numerical_features = ['city_development_index', 'training_hours', 'target']\n",
    "\n",
    "# Subset the DataFrame with only the numerical features\n",
    "numerical_df = df[numerical_features]\n",
    "\n",
    "# Calculate the correlation matrix\n",
    "correlation_matrix = numerical_df.corr()\n",
    "\n",
    "# Plot a heatmap to visualize the correlation matrix\n",
    "plt.figure(figsize=(10, 6))\n",
    "sns.heatmap(correlation_matrix, annot=True, cmap='Blues', fmt='.2f', square=True)\n",
    "plt.title('Correlation Heatmap')\n",
    "plt.show()"
   ]
  },
  {
   "cell_type": "markdown",
   "id": "89cf8b89-f263-4e5e-b09d-1318582415a2",
   "metadata": {},
   "source": [
    "\n",
    "Dari heatmap korelasi antara fitur-fitur numerik dan target (\"city_development_index\", \"training_hours,\" dan \"target\"), kita dapat membuat beberapa kesimpulan:\n",
    "\n",
    "1. City Development Index (CDI): Korelasi antara CDI dan target sangat rendah (0.04). Ini menunjukkan bahwa <b>CDI tidak memiliki pengaruh signifikan terhadap keputusan pencari kerja untuk mencari pekerjaan baru.</b>\n",
    "\n",
    "2. Training Hours: Korelasi antara jumlah jam pelatihan (\"training_hours\") dan target juga rendah (-0.021). Ini menunjukkan bahwa <b>jumlah jam pelatihan yang diambil oleh pencari kerja juga tidak memiliki pengaruh signifikan terhadap keputusan mereka untuk mencari pekerjaan baru.</b>\n",
    "\n",
    "Kesimpulannya, dari analisis korelasi, tidak ada fitur numerik yang memiliki korelasi yang kuat dengan kolom \"target.\" Ini menunjukkan bahwa keputusan pencari kerja untuk mencari pekerjaan baru <b>kemungkinan besar dipengaruhi oleh faktor-faktor lain yang tidak tercakup dalam fitur-fitur numerik ini.</b> Oleh karena itu, penting untuk mempertimbangkan fitur-fitur lain atau faktor-faktor kualitatif dalam analisis yang mungkin lebih memengaruhi keputusan pencari kerja."
   ]
  },
  {
   "cell_type": "code",
   "execution_count": null,
   "id": "924083bc-4378-4f9c-9768-4e7b64486227",
   "metadata": {
    "jupyter": {
     "source_hidden": true
    },
    "tags": []
   },
   "outputs": [],
   "source": [
    "import pandas as pd\n",
    "import matplotlib.pyplot as plt\n",
    "import seaborn as sns\n",
    "\n",
    "# Load dataset\n",
    "df_train = pd.read_csv('aug_train.csv')\n",
    "\n",
    "custom_palette = [\"skyblue\", \"grey\"]\n",
    "\n",
    "# Define selected features for the pairplot\n",
    "selected_features = ['city_development_index', 'training_hours', 'target']\n",
    "\n",
    "# Create pairplot for selected features\n",
    "sns.pairplot(df_train[selected_features], hue='target', palette=custom_palette, diag_kind='kde')\n",
    "plt.show()"
   ]
  },
  {
   "cell_type": "markdown",
   "id": "c8dc8551-120f-4fcd-9952-dbcd85ba7cc1",
   "metadata": {},
   "source": [
    "Pairplot ini memvisualisasikan hubungan antara variabel 'city_development_index' dan 'training_hours' dengan membedakan berdasarkan variabel target.\n",
    "Seaborn pairplot digunakan untuk memahami sebaran data antara variabel 'city_development_index' dan 'training_hours' terhadap target (1 atau 0).\n",
    "Tidak ada perbedaan signifikan dalam pola antara orang yang mencari pekerjaan baru (target 1) dan yang tidak (target 0) berdasarkan hubungan antara 'city_development_index' dan 'training_hours'. Ini terlihat dari sebaran titik-titik yang relatif seragam.\n",
    "\n",
    "Hasil dari korelasi antara 'city_development_index' dan 'training_hours' terhadap target tidak ditampilkan dalam visualisasi. Namun, Anda dapat melihat korelasi ini di luar pairplot.\n",
    "Nilai korelasi antara 'city_development_index' dan 'training_hours' dengan target akan memberikan informasi lebih lanjut tentang sejauh mana kedua fitur ini berhubungan dengan variabel target.\n",
    "Kesimpulannya, pairplot mengungkapkan perbedaan yang signifikan dalam pola data antara variabel 'city_development_index' dan 'training_hours' dengan variabel target. "
   ]
  },
  {
   "cell_type": "code",
   "execution_count": null,
   "id": "e6baed08-4172-4e89-9113-9e5443ac480e",
   "metadata": {
    "jupyter": {
     "source_hidden": true
    },
    "tags": []
   },
   "outputs": [],
   "source": [
    "import matplotlib.pyplot as plt\n",
    "\n",
    "cats1 = ['gender', 'relevent_experience', 'enrolled_university', 'education_level', 'major_discipline', 'company_size', 'company_type', 'last_new_job']\n",
    "\n",
    "num_categories = len(cats1)\n",
    "subplots_per_row = 3\n",
    "num_rows = (num_categories + subplots_per_row - 1) // subplots_per_row\n",
    "\n",
    "fig, axes = plt.subplots(num_rows, subplots_per_row, figsize=(15, num_rows * 5))\n",
    "plt.subplots_adjust(wspace=0.4, hspace=0.4)\n",
    "\n",
    "# Define the colors for 'Non seeking' and 'Seeking'\n",
    "colors = ['skyblue', 'lightgrey']\n",
    "\n",
    "for i, cols in enumerate(cats1, 1):\n",
    "    data = df.groupby([cols, 'target'])['target'].count().unstack().fillna(0)\n",
    "    data_percentage = data.div(data.sum(axis=1), axis=0)\n",
    "\n",
    "    row = (i - 1) // subplots_per_row\n",
    "    col = (i - 1) % subplots_per_row\n",
    "\n",
    "    ax = data_percentage.plot(kind='bar', stacked=True, color=colors, ax=axes[row, col])\n",
    "    ax.set_title(f'Percentage of Job Seeking by {cols}')\n",
    "    ax.legend(labels=('Non seeking', 'Seeking'))\n",
    "    ax.set_xticklabels(data_percentage.index, rotation=25)\n",
    "    ax.set_yticklabels(['{:.0%}'.format(x) for x in ax.get_yticks()])\n",
    "\n",
    "for i in range(num_categories, num_rows * subplots_per_row):\n",
    "    row = i // subplots_per_row\n",
    "    col = i % subplots_per_row\n",
    "    fig.delaxes(axes[row, col])\n",
    "\n",
    "plt.tight_layout()\n",
    "plt.show()\n"
   ]
  },
  {
   "cell_type": "markdown",
   "id": "9fa85e12-e06b-4ee4-b09a-2d109478002e",
   "metadata": {},
   "source": [
    "Dari visualisasi yang disajikan, kita dapat menarik beberapa kesimpulan terkait dengan persentase pencari pekerjaan (seeking) berdasarkan berbagai kategori yang terdapat dalam dataset:\n",
    "\n",
    "1. <b>Gender</b> (Jenis Kelamin):\n",
    "Presentase \"Seeking' pada gender Female lebih tinggi dibandingkan Male. Mayoritas data menunjukkan persentase \"Non Seeking\" yang lebih tinggi daripada \"Seeking\" di semua kelompok jenis kelamin.\n",
    "\n",
    "2. <b>Relevant Experience </b>(Pengalaman Terkait):\n",
    "Orang-orang dengan pengalaman terkait cenderung memiliki persentase \"Non seeking\" yang lebih tinggi dibandingkan dengan yang tidak memiliki pengalaman terkait.\n",
    "\n",
    "3. <b>Enrolled University </b>(Status Pendaftaran Universitas):\n",
    "Orang-orang yang terdaftar di universitas memiliki persentase \"Seeking\" yang lebih tinggi dibandingkan dengan mereka yang tidak terdaftar di universitas.\n",
    "Mungkin ada korelasi antara tidak terdaftarnya di universitas dengan pencarian pekerjaan baru.\n",
    "\n",
    "4. <b>Education Level</b> (Tingkat Pendidikan):\n",
    "Tidak ada tren yang konsisten dalam persentase pencari pekerjaan berdasarkan tingkat pendidikan. Namun, individu dengan tingkat pendidikan \"Graduate\" cenderung memiliki persentase \"Seeking\" yang lebih tinggi.\n",
    "\n",
    "5. <b>Major Discipline </b>(Disiplin Ilmu Utama):\n",
    "Tidak ada perbedaan yang signifikan dalam persentase pencari pekerjaan berdasarkan disiplin ilmu utama.\n",
    "Persentase \"Non seeking\" lebih dominan dalam semua disiplin ilmu utama.\n",
    "\n",
    "6. <b>Company Size</b> (Ukuran Perusahaan):\n",
    "Individu yang bekerja di perusahaan dengan ukuran 10-49 orang cenderung memiliki persentase \"Seeking\" yang lebih tinggi.\n",
    "Perusahaan dengan ukuran 100-500 dan 1000-4999 memiliki persentase \"Non seeking\" yang lebih tinggi.\n",
    "\n",
    "7. <b>Company Type</b> (Jenis Perusahaan):\n",
    "Perusahaan berjenis 'Funded Startup' memiliki presentase 'Seeking' terkecil dibanding jenis perusahaan lainnya.\n",
    "\n",
    "8. <b>Last New Job</b> (Pekerjaan Terakhir):\n",
    "Orang-orang yang telah bekerja dalam pekerjaan sebelumnya selama 1 tahun memiliki persentase \"Seeking\" yang lebih tinggi.\n",
    "Individu dengan pekerjaan terakhir selama 4-5 tahun cenderung memiliki persentase \"Non seeking\" yang lebih tinggi."
   ]
  },
  {
   "cell_type": "code",
   "execution_count": null,
   "id": "ce078bb6-1424-45c8-b367-f762884869b0",
   "metadata": {
    "tags": []
   },
   "outputs": [],
   "source": [
    "df0 = df[df['target']==0]\n",
    "df1 = df[df['target']==1]\n",
    "\n",
    "fig = sns.kdeplot(df0['city_development_index'] , fill=True, color=\"skyblue\")\n",
    "fig = sns.kdeplot(df1['city_development_index'], fill=True, color=\"lightgrey\")\n",
    "plt.title('City Development Index comparison')\n",
    "plt.legend(labels=('Not seeking','Seeking'), loc='upper left')\n",
    "plt.show()"
   ]
  },
  {
   "cell_type": "code",
<<<<<<< Updated upstream
   "execution_count": 1,
   "id": "6e24f3a2-3fcd-464b-87c8-8dbb5df41ecd",
   "metadata": {
=======
   "execution_count": 6,
   "id": "6b31629a-bbc8-47df-9542-92c263b325f4",
   "metadata": {
    "jupyter": {
     "source_hidden": true
    },
>>>>>>> Stashed changes
    "tags": []
   },
   "outputs": [
    {
<<<<<<< Updated upstream
     "ename": "NameError",
     "evalue": "name 'df' is not defined",
     "output_type": "error",
     "traceback": [
      "\u001b[1;31m---------------------------------------------------------------------------\u001b[0m",
      "\u001b[1;31mNameError\u001b[0m                                 Traceback (most recent call last)",
      "Cell \u001b[1;32mIn[1], line 1\u001b[0m\n\u001b[1;32m----> 1\u001b[0m df0 \u001b[38;5;241m=\u001b[39m df[df[\u001b[38;5;124m'\u001b[39m\u001b[38;5;124mtarget\u001b[39m\u001b[38;5;124m'\u001b[39m]\u001b[38;5;241m==\u001b[39m\u001b[38;5;241m0\u001b[39m]\n\u001b[0;32m      2\u001b[0m df1 \u001b[38;5;241m=\u001b[39m df[df[\u001b[38;5;124m'\u001b[39m\u001b[38;5;124mtarget\u001b[39m\u001b[38;5;124m'\u001b[39m]\u001b[38;5;241m==\u001b[39m\u001b[38;5;241m1\u001b[39m]\n\u001b[0;32m      4\u001b[0m fig \u001b[38;5;241m=\u001b[39m sns\u001b[38;5;241m.\u001b[39mkdeplot(df0[\u001b[38;5;124m'\u001b[39m\u001b[38;5;124mtraining_hours\u001b[39m\u001b[38;5;124m'\u001b[39m] , fill\u001b[38;5;241m=\u001b[39m\u001b[38;5;28;01mTrue\u001b[39;00m, color\u001b[38;5;241m=\u001b[39m\u001b[38;5;124m\"\u001b[39m\u001b[38;5;124mskyblue\u001b[39m\u001b[38;5;124m\"\u001b[39m)\n",
      "\u001b[1;31mNameError\u001b[0m: name 'df' is not defined"
     ]
    }
   ],
   "source": [
    "df0 = df[df['target']==0]\n",
    "df1 = df[df['target']==1]\n",
    "\n",
    "fig = sns.kdeplot(df0['training_hours'] , fill=True, color=\"skyblue\")\n",
    "fig = sns.kdeplot(df1['training_hours'], fill=True, color=\"lightgrey\")\n",
    "plt.title('Training Hours')\n",
=======
     "data": {
      "image/png": "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",
      "text/plain": [
       "<Figure size 640x480 with 1 Axes>"
      ]
     },
     "metadata": {},
     "output_type": "display_data"
    }
   ],
   "source": [
    "df0 = df_train[df_train['target']==0]\n",
    "df1 = df_train[df_train['target']==1]\n",
    "\n",
    "fig = sns.kdeplot(df0['training_hours'] , fill=True, color=\"skyblue\")\n",
    "fig = sns.kdeplot(df1['training_hours'], fill=True, color=\"lightgrey\")\n",
    "plt.title('Training Hours Comparison')\n",
>>>>>>> Stashed changes
    "plt.legend(labels=('Not seeking','Seeking'), loc='upper left')\n",
    "plt.show()"
   ]
  },
  {
   "cell_type": "markdown",
   "id": "cbd16a8f-87e0-45f5-ad01-ec0c0c07f053",
   "metadata": {},
   "source": [
    "Training Hours antara yang mencari pekerjaan dan tidak, tidak memiliki perbedaan yang signifikan."
   ]
  },
  {
   "cell_type": "markdown",
   "id": "67d97407-26fb-44f7-948c-05b6b6fcaf5b",
   "metadata": {
    "tags": []
   },
   "source": [
    "### Business Insight"
   ]
  },
  {
   "cell_type": "code",
   "execution_count": 77,
   "id": "81ae82ac-dee7-40a0-b0a7-9452878531b0",
   "metadata": {
    "jupyter": {
     "source_hidden": true
    },
    "tags": []
   },
   "outputs": [
    {
     "data": {
      "image/png": "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",
      "text/plain": [
       "<Figure size 1200x600 with 1 Axes>"
      ]
     },
     "metadata": {},
     "output_type": "display_data"
    }
   ],
   "source": [
    "plt.figure(figsize=(12, 6))\n",
    "custom_palette = [\"skyblue\", \"grey\"]\n",
    "sns.countplot(data=df, x='company_size', hue='target', order=df['company_size'].value_counts().index, palette=custom_palette)\n",
    "plt.title('Distribusi Ukuran Perusahaan berdasarkan Keinginan untuk Mengganti Pekerjaan')\n",
    "plt.xlabel('Ukuran Perusahaan')\n",
    "plt.ylabel('Jumlah')\n",
    "plt.xticks(rotation=45)\n",
    "plt.legend(title='Target', labels=['Tidak Ingin Mengganti', 'Ingin Mengganti'])\n",
    "plt.show()"
   ]
  },
  {
   "cell_type": "code",
   "execution_count": 88,
   "id": "40a6a2a8-f28b-4a3b-85e6-ff45919eba23",
   "metadata": {
    "jupyter": {
     "source_hidden": true
    },
    "tags": []
   },
   "outputs": [
    {
     "data": {
      "text/plain": [
       "<Figure size 1200x600 with 0 Axes>"
      ]
     },
     "metadata": {},
     "output_type": "display_data"
    },
    {
     "data": {
      "image/png": "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",
      "text/plain": [
       "<Figure size 640x480 with 1 Axes>"
      ]
     },
     "metadata": {},
     "output_type": "display_data"
    }
   ],
   "source": [
    "plt.figure(figsize=(12,6))\n",
    "df.groupby('company_size')['target'].value_counts(normalize=True).unstack('target').plot.bar(stacked=True, color=custom_palette)\n",
    "plt.title(f'Percentage of Job Seeking by Company Size')\n",
    "plt.legend(labels=('Non seeking', 'Seeking'))\n",
    "plt.xticks(rotation = 25)\n",
    "    \n",
    "plt.tight_layout()\n",
    "plt.show()"
   ]
  },
  {
   "cell_type": "markdown",
   "id": "c9e9ff25-f4ff-4bab-b99d-35aa1cc741cc",
   "metadata": {},
   "source": [
    "Dalam plot distribusi ukuran perusahaan berdasarkan keinginan untuk mengganti pekerjaan, kami menggunakan warna \"skyblue\" untuk merepresentasikan kategori \"Tidak Ingin Mengganti\" dan warna \"grey\" untuk merepresentasikan kategori \"Ingin Mengganti\". Beberapa kesimpulan dari plot ini adalah:\n",
    "\n",
    "1. Walaupun secara jumlah, perusahaan berukuran \"50-99\" dan \"100-500\" menjadi perusahaan dengan jumlah sampel enrollee terbanyak, namun secara presentase, kedua perusahaan tersebut memiliki jumlah \"Seeker\" yang masih di bawah 20%.\n",
    "\n",
    "2. Begitupun dengan ukuran perusahaan \"500-999\" dan \"5000-9999\", dengan jumlah sampel yang sedikit, kedua perusahaan tersebut-pun masih memiliki presentase \"Seeker\" di bawah 20%.\n",
    "\n",
    "3. Sebaliknya, satu-satunya perusahaan yang memiliki presentase pencari pekerjaan lebih dari 20% adalah yang berukuran \"10-49\".\n",
    "\n",
    "Insight Bisnis :\n",
    "\n",
    "1. Penyelidikan Lanjutan: Meskipun tidak ada ukuran perusahaan yang secara signifikan mendominasi, perusahaan berukuran \"50-99\" tampaknya menarik bagi karyawan baik yang ingin mengganti pekerjaan maupun yang tidak. Bisnis dapat melakukan penyelidikan lebih lanjut untuk memahami faktor-faktor yang membuat ukuran perusahaan ini menarik.\n",
    "\n",
    "2. Perbedaan Preferensi: Distribusi ukuran perusahaan yang bervariasi menunjukkan bahwa preferensi karyawan dalam hal ukuran perusahaan dapat sangat beragam. Ini menyoroti pentingnya beragam dalam strategi rekrutmen dan retensi karyawan.\n",
    "\n",
    "3. Strategi HR: Analisis ini dapat membantu departemen sumber daya manusia (HR) dalam merancang strategi untuk menjaga karyawan yang sudah ada dan merekrut karyawan baru. Misalnya, perusahaan dengan ukuran \"50-99\" dapat menjadi fokus bagi upaya rekrutmen.\n",
    "\n",
    "4. Pemahaman Pasar Tenaga Kerja: Mengetahui preferensi karyawan terkait ukuran perusahaan dapat membantu bisnis dalam memahami pasar tenaga kerja dan merespons perubahan dalam preferensi karyawan.\n",
    "\n",
    "5. Bisa dipertimbangkan mengingat perusahaaan di kota dengan CDI >0.75 memiliki retention rate yang lebih tinggi untuk berfokus pada penempatan perusahaan baru di kota-kota dengan CDI yang lebih tinggi.\n",
    "\n",
    "6. Perlu penyelidikan lebih lanjut khusus untuk perusahaan berukuran <b> 10-49</b> untuk mengetahui penyebab tingginya presentase enrollee yang mencari pekerjaan baru.\n",
    "\n",
    "7. Pentingnya 'relevant experience': Karyawan yang memiliki pengalaman terkait dapat lebih diprioritaskan untuk training mengingat rate of retention mereka yang lebih tinggi.\n",
    "\n",
    "8. Rate of retention <b>'Graduate'</b> yang hanya sekitar 70% dapat diteliti lebih lanjut, apakah faktor kausalnya. "
   ]
  }
 ],
 "metadata": {
  "kernelspec": {
   "display_name": "Python 3 (ipykernel)",
   "language": "python",
   "name": "python3"
  },
  "language_info": {
   "codemirror_mode": {
    "name": "ipython",
    "version": 3
   },
   "file_extension": ".py",
   "mimetype": "text/x-python",
   "name": "python",
   "nbconvert_exporter": "python",
   "pygments_lexer": "ipython3",
   "version": "3.11.3"
  }
 },
 "nbformat": 4,
 "nbformat_minor": 5
}
