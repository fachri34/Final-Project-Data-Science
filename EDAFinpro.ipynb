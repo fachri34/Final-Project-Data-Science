{
 "cells": [
  {
   "cell_type": "code",
   "execution_count": 1,
   "id": "8cb74301-a523-4482-94e2-ec98e5cc69f5",
   "metadata": {
    "tags": []
   },
   "outputs": [],
   "source": [
    "import numpy as np\n",
    "import pandas as pd\n",
    "import datetime\n",
    "import seaborn as sns\n",
    "import matplotlib.pyplot as plt"
   ]
  },
  {
   "cell_type": "code",
   "execution_count": 2,
   "id": "02bf8b9d-1251-410b-a3fb-0d77192bb39b",
   "metadata": {
    "tags": []
   },
   "outputs": [
    {
     "data": {
      "text/html": [
       "<div>\n",
       "<style scoped>\n",
       "    .dataframe tbody tr th:only-of-type {\n",
       "        vertical-align: middle;\n",
       "    }\n",
       "\n",
       "    .dataframe tbody tr th {\n",
       "        vertical-align: top;\n",
       "    }\n",
       "\n",
       "    .dataframe thead th {\n",
       "        text-align: right;\n",
       "    }\n",
       "</style>\n",
       "<table border=\"1\" class=\"dataframe\">\n",
       "  <thead>\n",
       "    <tr style=\"text-align: right;\">\n",
       "      <th></th>\n",
       "      <th>enrollee_id</th>\n",
       "      <th>city</th>\n",
       "      <th>city_development_index</th>\n",
       "      <th>gender</th>\n",
       "      <th>relevent_experience</th>\n",
       "      <th>enrolled_university</th>\n",
       "      <th>education_level</th>\n",
       "      <th>major_discipline</th>\n",
       "      <th>experience</th>\n",
       "      <th>company_size</th>\n",
       "      <th>company_type</th>\n",
       "      <th>last_new_job</th>\n",
       "      <th>training_hours</th>\n",
       "      <th>target</th>\n",
       "    </tr>\n",
       "  </thead>\n",
       "  <tbody>\n",
       "    <tr>\n",
       "      <th>12330</th>\n",
       "      <td>24707</td>\n",
       "      <td>city_23</td>\n",
       "      <td>0.899</td>\n",
       "      <td>Male</td>\n",
       "      <td>Has relevent experience</td>\n",
       "      <td>no_enrollment</td>\n",
       "      <td>Masters</td>\n",
       "      <td>STEM</td>\n",
       "      <td>&gt;20</td>\n",
       "      <td>&lt;10</td>\n",
       "      <td>Early Stage Startup</td>\n",
       "      <td>1</td>\n",
       "      <td>15</td>\n",
       "      <td>0.0</td>\n",
       "    </tr>\n",
       "    <tr>\n",
       "      <th>8145</th>\n",
       "      <td>8640</td>\n",
       "      <td>city_103</td>\n",
       "      <td>0.920</td>\n",
       "      <td>NaN</td>\n",
       "      <td>Has relevent experience</td>\n",
       "      <td>Part time course</td>\n",
       "      <td>Graduate</td>\n",
       "      <td>STEM</td>\n",
       "      <td>9</td>\n",
       "      <td>1000-4999</td>\n",
       "      <td>NGO</td>\n",
       "      <td>NaN</td>\n",
       "      <td>136</td>\n",
       "      <td>1.0</td>\n",
       "    </tr>\n",
       "    <tr>\n",
       "      <th>12551</th>\n",
       "      <td>27981</td>\n",
       "      <td>city_103</td>\n",
       "      <td>0.920</td>\n",
       "      <td>Male</td>\n",
       "      <td>Has relevent experience</td>\n",
       "      <td>no_enrollment</td>\n",
       "      <td>Graduate</td>\n",
       "      <td>STEM</td>\n",
       "      <td>14</td>\n",
       "      <td>1000-4999</td>\n",
       "      <td>Pvt Ltd</td>\n",
       "      <td>&gt;4</td>\n",
       "      <td>15</td>\n",
       "      <td>0.0</td>\n",
       "    </tr>\n",
       "    <tr>\n",
       "      <th>2236</th>\n",
       "      <td>31842</td>\n",
       "      <td>city_24</td>\n",
       "      <td>0.698</td>\n",
       "      <td>Female</td>\n",
       "      <td>Has relevent experience</td>\n",
       "      <td>no_enrollment</td>\n",
       "      <td>Masters</td>\n",
       "      <td>STEM</td>\n",
       "      <td>12</td>\n",
       "      <td>50-99</td>\n",
       "      <td>Pvt Ltd</td>\n",
       "      <td>3</td>\n",
       "      <td>6</td>\n",
       "      <td>0.0</td>\n",
       "    </tr>\n",
       "    <tr>\n",
       "      <th>7866</th>\n",
       "      <td>20549</td>\n",
       "      <td>city_21</td>\n",
       "      <td>0.624</td>\n",
       "      <td>Male</td>\n",
       "      <td>Has relevent experience</td>\n",
       "      <td>Full time course</td>\n",
       "      <td>Graduate</td>\n",
       "      <td>STEM</td>\n",
       "      <td>2</td>\n",
       "      <td>&lt;10</td>\n",
       "      <td>Public Sector</td>\n",
       "      <td>2</td>\n",
       "      <td>83</td>\n",
       "      <td>0.0</td>\n",
       "    </tr>\n",
       "  </tbody>\n",
       "</table>\n",
       "</div>"
      ],
      "text/plain": [
       "       enrollee_id      city  city_development_index  gender  \\\n",
       "12330        24707   city_23                   0.899    Male   \n",
       "8145          8640  city_103                   0.920     NaN   \n",
       "12551        27981  city_103                   0.920    Male   \n",
       "2236         31842   city_24                   0.698  Female   \n",
       "7866         20549   city_21                   0.624    Male   \n",
       "\n",
       "           relevent_experience enrolled_university education_level  \\\n",
       "12330  Has relevent experience       no_enrollment         Masters   \n",
       "8145   Has relevent experience    Part time course        Graduate   \n",
       "12551  Has relevent experience       no_enrollment        Graduate   \n",
       "2236   Has relevent experience       no_enrollment         Masters   \n",
       "7866   Has relevent experience    Full time course        Graduate   \n",
       "\n",
       "      major_discipline experience company_size         company_type  \\\n",
       "12330             STEM        >20          <10  Early Stage Startup   \n",
       "8145              STEM          9    1000-4999                  NGO   \n",
       "12551             STEM         14    1000-4999              Pvt Ltd   \n",
       "2236              STEM         12        50-99              Pvt Ltd   \n",
       "7866              STEM          2          <10        Public Sector   \n",
       "\n",
       "      last_new_job  training_hours  target  \n",
       "12330            1              15     0.0  \n",
       "8145           NaN             136     1.0  \n",
       "12551           >4              15     0.0  \n",
       "2236             3               6     0.0  \n",
       "7866             2              83     0.0  "
      ]
     },
     "execution_count": 2,
     "metadata": {},
     "output_type": "execute_result"
    }
   ],
   "source": [
    "df= pd.read_csv('aug_train.csv')\n",
    "df.sample(5)"
   ]
  },
  {
   "cell_type": "code",
   "execution_count": 3,
   "id": "72864bf7-bd94-4d2f-8ebd-8cbbfa95b33c",
   "metadata": {
    "tags": []
   },
   "outputs": [
    {
     "name": "stdout",
     "output_type": "stream",
     "text": [
      "Basic information about the dataset\n",
      "<class 'pandas.core.frame.DataFrame'>\n",
      "RangeIndex: 19158 entries, 0 to 19157\n",
      "Data columns (total 14 columns):\n",
      " #   Column                  Non-Null Count  Dtype  \n",
      "---  ------                  --------------  -----  \n",
      " 0   enrollee_id             19158 non-null  int64  \n",
      " 1   city                    19158 non-null  object \n",
      " 2   city_development_index  19158 non-null  float64\n",
      " 3   gender                  14650 non-null  object \n",
      " 4   relevent_experience     19158 non-null  object \n",
      " 5   enrolled_university     18772 non-null  object \n",
      " 6   education_level         18698 non-null  object \n",
      " 7   major_discipline        16345 non-null  object \n",
      " 8   experience              19093 non-null  object \n",
      " 9   company_size            13220 non-null  object \n",
      " 10  company_type            13018 non-null  object \n",
      " 11  last_new_job            18735 non-null  object \n",
      " 12  training_hours          19158 non-null  int64  \n",
      " 13  target                  19158 non-null  float64\n",
      "dtypes: float64(2), int64(2), object(10)\n",
      "memory usage: 2.0+ MB\n",
      "None\n",
      "\n",
      "Summary Statistics\n",
      "        enrollee_id  city_development_index  training_hours        target\n",
      "count  19158.000000            19158.000000    19158.000000  19158.000000\n",
      "mean   16875.358179                0.828848       65.366896      0.249348\n",
      "std     9616.292592                0.123362       60.058462      0.432647\n",
      "min        1.000000                0.448000        1.000000      0.000000\n",
      "25%     8554.250000                0.740000       23.000000      0.000000\n",
      "50%    16982.500000                0.903000       47.000000      0.000000\n",
      "75%    25169.750000                0.920000       88.000000      0.000000\n",
      "max    33380.000000                0.949000      336.000000      1.000000\n",
      "\n",
      "Missing Values Percentage\n",
      "enrollee_id               0.000000\n",
      "city                      0.000000\n",
      "city_development_index    0.000000\n",
      "gender                    0.235306\n",
      "relevent_experience       0.000000\n",
      "enrolled_university       0.020148\n",
      "education_level           0.024011\n",
      "major_discipline          0.146832\n",
      "experience                0.003393\n",
      "company_size              0.309949\n",
      "company_type              0.320493\n",
      "last_new_job              0.022080\n",
      "training_hours            0.000000\n",
      "target                    0.000000\n",
      "dtype: float64\n"
     ]
    }
   ],
   "source": [
    "#Basic information about the dataset\n",
    "print(\"Basic information about the dataset\")\n",
    "print(df.info())\n",
    "\n",
    "#Summary statistics\n",
    "print(\"\\nSummary Statistics\")\n",
    "print(df.describe())\n",
    "\n",
    "#Check for missing values Percentage\n",
    "print(\"\\nMissing Values Percentage\")\n",
    "print(df.isna().sum()/len(df))"
   ]
  },
  {
   "cell_type": "markdown",
   "id": "f12fcb6f-fe81-41ea-beb9-678f1c47191e",
   "metadata": {},
   "source": [
    "Kolom Gender, COmpany size dan company type memiliki tingkat kekosongan data lebih dari 20%. --> Sebaiknya diapakan?"
   ]
  },
  {
   "cell_type": "code",
   "execution_count": 4,
   "id": "676a9e66-483f-42db-bb49-39662cc66bb2",
   "metadata": {
    "tags": []
   },
   "outputs": [
    {
     "data": {
      "text/plain": [
       "array(['>20', '15', '5', '<1', '11', '13', '7', '17', '2', '16', '1', '4',\n",
       "       '10', '14', '18', '19', '12', '3', '6', '9', '8', '20', nan],\n",
       "      dtype=object)"
      ]
     },
     "execution_count": 4,
     "metadata": {},
     "output_type": "execute_result"
    }
   ],
   "source": [
    "df['experience'].unique()"
   ]
  },
  {
   "cell_type": "code",
   "execution_count": 6,
   "id": "3a6788eb-12c8-4dd4-aa25-5a3fd5da7fe6",
   "metadata": {
    "tags": []
   },
   "outputs": [],
   "source": [
    "#Mengubah tipe data pada kolom-kolom yang belum sesuai\n",
    "df['enrollee_id'] = df['enrollee_id'].astype(str)\n",
    "\n",
    "df['experience'] = df['experience'].apply(lambda x: '0' if x=='<1' else x)\n",
    "df['experience'] = df['experience'].apply(lambda x: '20' if x=='>20' else x)\n",
    "# df['experience'] = df['experience'].astype(str).astype(int)\n",
    "\n",
    "#?? pertanyaan untuk kolom company size + last job, sebaiknya diapakan? dijadikan kategori?"
   ]
  },
  {
   "cell_type": "code",
   "execution_count": 7,
   "id": "67b61b63-7cf2-4827-b1a2-db5bd7b0423c",
   "metadata": {
    "tags": []
   },
   "outputs": [
    {
     "name": "stdout",
     "output_type": "stream",
     "text": [
      "       enrollee_id      city gender      relevent_experience  \\\n",
      "count        19158     19158  14650                    19158   \n",
      "unique       19158       123      3                        2   \n",
      "top           8949  city_103   Male  Has relevent experience   \n",
      "freq             1      4355  13221                    13792   \n",
      "\n",
      "       enrolled_university education_level major_discipline company_size  \\\n",
      "count                18772           18698            16345        13220   \n",
      "unique                   3               5                6            8   \n",
      "top          no_enrollment        Graduate             STEM        50-99   \n",
      "freq                 13817           11598            14492         3083   \n",
      "\n",
      "       company_type last_new_job  \n",
      "count         13018        18735  \n",
      "unique            6            6  \n",
      "top         Pvt Ltd            1  \n",
      "freq           9817         8040  \n",
      "\n",
      "        city_development_index  training_hours        target\n",
      "count            19158.000000    19158.000000  19158.000000\n",
      "mean                 0.828848       65.366896      0.249348\n",
      "std                  0.123362       60.058462      0.432647\n",
      "min                  0.448000        1.000000      0.000000\n",
      "25%                  0.740000       23.000000      0.000000\n",
      "50%                  0.903000       47.000000      0.000000\n",
      "75%                  0.920000       88.000000      0.000000\n",
      "max                  0.949000      336.000000      1.000000\n"
     ]
    }
   ],
   "source": [
    "cats = ['enrollee_id','city', 'gender', 'relevent_experience', 'enrolled_university', 'education_level','major_discipline','company_size', 'company_type','last_new_job']\n",
    "nums = ['city_development_index','experience','training_hours','target']\n",
    "\n",
    "print(df[cats].describe())\n",
    "print(\"\\n\", df[nums].describe())\n"
   ]
  },
  {
   "cell_type": "code",
   "execution_count": null,
   "id": "27739360-1862-434a-ab20-be1026fdf45b",
   "metadata": {
    "tags": []
   },
   "outputs": [],
   "source": [
    "df"
   ]
  },
  {
   "cell_type": "code",
   "execution_count": null,
   "id": "c5f1d24c-a85d-43bf-a5c1-448cc9018ee5",
   "metadata": {},
   "outputs": [],
   "source": [
    "#Create count plots for categorical colums\n",
    "cats1=['relevent_experience', 'enrolled_university', 'education_level','major_discipline','company_size', 'company_type','last_new_job']\n",
    "plt.figure(figsize=(12,20))\n",
    "for i, col in enumerate(cats1, 1):\n",
    "    plt.subplot(4, 2, i)\n",
    "    sns.countplot(data=df, x=col)\n",
    "    plt.title(f'Count Plot of {col}')\n",
    "    plt.xticks(rotation = 25)\n",
    "plt.tight_layout()\n",
    "plt.show()"
   ]
  },
  {
   "cell_type": "code",
   "execution_count": null,
   "id": "aa8f5326-caad-4315-af60-202ecbb5fa3b",
   "metadata": {},
   "outputs": [],
   "source": [
    "#Create histograms for numeric columns\n",
    "df[nums].hist(bins=15, figsize=(12,8))\n",
    "plt.suptitle('Histograms of Numeric Columns')\n",
    "plt.show()"
   ]
  },
  {
   "cell_type": "code",
   "execution_count": null,
   "id": "0983ebf1-b7ba-4129-a0e0-0acf77919d37",
   "metadata": {},
   "outputs": [],
   "source": [
    "plt.figure(figsize=(8, 8))\n",
    "sns.heatmap(df.corr(), cmap='Blues', annot=True, fmt='.2f')"
   ]
  }
 ],
 "metadata": {
  "kernelspec": {
   "display_name": "Python 3 (ipykernel)",
   "language": "python",
   "name": "python3"
  },
  "language_info": {
   "codemirror_mode": {
    "name": "ipython",
    "version": 3
   },
   "file_extension": ".py",
   "mimetype": "text/x-python",
   "name": "python",
   "nbconvert_exporter": "python",
   "pygments_lexer": "ipython3",
   "version": "3.11.3"
  }
 },
 "nbformat": 4,
 "nbformat_minor": 5
}
