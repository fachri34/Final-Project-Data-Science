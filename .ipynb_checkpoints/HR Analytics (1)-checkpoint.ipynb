{
 "cells": [
  {
   "cell_type": "markdown",
   "id": "4ff448c1-aa31-41b2-a0e5-0ff90aa8e373",
   "metadata": {},
   "source": [
    "### HR Analytics: Mengoptimalkan Sumber Daya Manusia melalui Data\n",
    "\n",
    "Dalam dunia bisnis yang terus berubah, peran Sumber Daya Manusia (HR) telah berkembang menjadi lebih dari sekadar administrasi dan pengelolaan karyawan. Saat ini, HR memegang peranan strategis yang penting dalam pengambilan keputusan organisasi. Bagaimana HR dapat mengoptimalkan tenaga kerja, meningkatkan produktivitas, dan memastikan kepuasan karyawan? Jawabannya adalah dengan menerapkan HR Analytics.\n",
    "\n",
    "HR Analytics adalah pendekatan yang memanfaatkan data dan analisis untuk memahami lebih dalam dinamika organisasi, karyawan, dan lingkungan kerja. Ini membantu HR dalam mengidentifikasi pola-pola yang mungkin terlewatkan, memprediksi kebutuhan sumber daya manusia di masa depan, dan mengukur dampak kebijakan dan program HR. Dengan HR Analytics, perusahaan dapat membuat keputusan yang lebih tepat dan terinformasi.\n",
    "\n",
    "Dalam perjalanan ini, kita akan menjelajahi dunia HR Analytics, memahami bagaimana data dapat digunakan untuk meningkatkan pengelolaan sumber daya manusia, memaksimalkan produktivitas karyawan, dan mencapai tujuan organisasi. Kami akan melihat berbagai metode analisis, teknik visualisasi, dan praktik terbaik dalam HR Analytics untuk membantu Anda meraih keberhasilan dalam pengelolaan sumber daya manusia. Mari kita mulai perjalanan ini menuju pemahaman yang lebih dalam tentang dunia HR Analytics.\n",
    "\n",
    "Berikut dibawah ini merupakan Exploratory Data Analysis dari kelompok kami Data Wizards mengenai HR Analytics"
   ]
  },
  {
   "cell_type": "code",
   "execution_count": 2,
   "id": "9eb495ee-c68d-4e25-b104-691ad0b00488",
   "metadata": {
    "jupyter": {
     "source_hidden": true
    },
    "tags": []
   },
   "outputs": [],
   "source": [
    "import pandas as pd\n",
    "import seaborn as sns\n",
    "import matplotlib.pyplot as plt\n",
    "import numpy as np\n",
    "import warnings\n",
    "warnings.filterwarnings(\"ignore\")"
   ]
  },
  {
   "cell_type": "markdown",
   "id": "32ba4eca-da6f-4c25-94c8-6c4a04f76c21",
   "metadata": {
    "tags": []
   },
   "source": [
    "# 1. Descriptive Statistics\n",
    "\n",
    "A. Apakah ada kolom dengan tipe data kurang sesuai, atau nama kolom dan isinya kurang sesuai? </br>\n",
    "B. Apakah ada kolom yang memiliki nilai kosong? Jika ada, apa saja?</br>\n",
    "C. Apakah ada kolom yang memiliki nilai summary agak aneh?</br>\n",
    "(min/mean/median/max/unique/top/freq)"
   ]
  },
  {
   "cell_type": "code",
   "execution_count": 3,
   "id": "a9193ede-d349-414b-a12e-7c896a7dbc0f",
   "metadata": {
    "tags": []
   },
   "outputs": [
    {
     "ename": "FileNotFoundError",
     "evalue": "[Errno 2] No such file or directory: 'aug_train.csv'",
     "output_type": "error",
     "traceback": [
      "\u001b[1;31m---------------------------------------------------------------------------\u001b[0m",
      "\u001b[1;31mFileNotFoundError\u001b[0m                         Traceback (most recent call last)",
      "Cell \u001b[1;32mIn[3], line 2\u001b[0m\n\u001b[0;32m      1\u001b[0m \u001b[38;5;66;03m# Membaca masing masing data set serta menampilkan 5 sampling data dari setiap data set train dan test\u001b[39;00m\n\u001b[1;32m----> 2\u001b[0m df_train \u001b[38;5;241m=\u001b[39m pd\u001b[38;5;241m.\u001b[39mread_csv(\u001b[38;5;124m'\u001b[39m\u001b[38;5;124maug_train.csv\u001b[39m\u001b[38;5;124m'\u001b[39m)\n\u001b[0;32m      3\u001b[0m df_test \u001b[38;5;241m=\u001b[39m pd\u001b[38;5;241m.\u001b[39mread_csv(\u001b[38;5;124m'\u001b[39m\u001b[38;5;124maug_test.csv\u001b[39m\u001b[38;5;124m'\u001b[39m)\n\u001b[0;32m      4\u001b[0m df_train\u001b[38;5;241m.\u001b[39msample(\u001b[38;5;241m5\u001b[39m)\n",
      "File \u001b[1;32m~\\anaconda3\\Lib\\site-packages\\pandas\\io\\parsers\\readers.py:912\u001b[0m, in \u001b[0;36mread_csv\u001b[1;34m(filepath_or_buffer, sep, delimiter, header, names, index_col, usecols, dtype, engine, converters, true_values, false_values, skipinitialspace, skiprows, skipfooter, nrows, na_values, keep_default_na, na_filter, verbose, skip_blank_lines, parse_dates, infer_datetime_format, keep_date_col, date_parser, date_format, dayfirst, cache_dates, iterator, chunksize, compression, thousands, decimal, lineterminator, quotechar, quoting, doublequote, escapechar, comment, encoding, encoding_errors, dialect, on_bad_lines, delim_whitespace, low_memory, memory_map, float_precision, storage_options, dtype_backend)\u001b[0m\n\u001b[0;32m    899\u001b[0m kwds_defaults \u001b[38;5;241m=\u001b[39m _refine_defaults_read(\n\u001b[0;32m    900\u001b[0m     dialect,\n\u001b[0;32m    901\u001b[0m     delimiter,\n\u001b[1;32m   (...)\u001b[0m\n\u001b[0;32m    908\u001b[0m     dtype_backend\u001b[38;5;241m=\u001b[39mdtype_backend,\n\u001b[0;32m    909\u001b[0m )\n\u001b[0;32m    910\u001b[0m kwds\u001b[38;5;241m.\u001b[39mupdate(kwds_defaults)\n\u001b[1;32m--> 912\u001b[0m \u001b[38;5;28;01mreturn\u001b[39;00m _read(filepath_or_buffer, kwds)\n",
      "File \u001b[1;32m~\\anaconda3\\Lib\\site-packages\\pandas\\io\\parsers\\readers.py:577\u001b[0m, in \u001b[0;36m_read\u001b[1;34m(filepath_or_buffer, kwds)\u001b[0m\n\u001b[0;32m    574\u001b[0m _validate_names(kwds\u001b[38;5;241m.\u001b[39mget(\u001b[38;5;124m\"\u001b[39m\u001b[38;5;124mnames\u001b[39m\u001b[38;5;124m\"\u001b[39m, \u001b[38;5;28;01mNone\u001b[39;00m))\n\u001b[0;32m    576\u001b[0m \u001b[38;5;66;03m# Create the parser.\u001b[39;00m\n\u001b[1;32m--> 577\u001b[0m parser \u001b[38;5;241m=\u001b[39m TextFileReader(filepath_or_buffer, \u001b[38;5;241m*\u001b[39m\u001b[38;5;241m*\u001b[39mkwds)\n\u001b[0;32m    579\u001b[0m \u001b[38;5;28;01mif\u001b[39;00m chunksize \u001b[38;5;129;01mor\u001b[39;00m iterator:\n\u001b[0;32m    580\u001b[0m     \u001b[38;5;28;01mreturn\u001b[39;00m parser\n",
      "File \u001b[1;32m~\\anaconda3\\Lib\\site-packages\\pandas\\io\\parsers\\readers.py:1407\u001b[0m, in \u001b[0;36mTextFileReader.__init__\u001b[1;34m(self, f, engine, **kwds)\u001b[0m\n\u001b[0;32m   1404\u001b[0m     \u001b[38;5;28mself\u001b[39m\u001b[38;5;241m.\u001b[39moptions[\u001b[38;5;124m\"\u001b[39m\u001b[38;5;124mhas_index_names\u001b[39m\u001b[38;5;124m\"\u001b[39m] \u001b[38;5;241m=\u001b[39m kwds[\u001b[38;5;124m\"\u001b[39m\u001b[38;5;124mhas_index_names\u001b[39m\u001b[38;5;124m\"\u001b[39m]\n\u001b[0;32m   1406\u001b[0m \u001b[38;5;28mself\u001b[39m\u001b[38;5;241m.\u001b[39mhandles: IOHandles \u001b[38;5;241m|\u001b[39m \u001b[38;5;28;01mNone\u001b[39;00m \u001b[38;5;241m=\u001b[39m \u001b[38;5;28;01mNone\u001b[39;00m\n\u001b[1;32m-> 1407\u001b[0m \u001b[38;5;28mself\u001b[39m\u001b[38;5;241m.\u001b[39m_engine \u001b[38;5;241m=\u001b[39m \u001b[38;5;28mself\u001b[39m\u001b[38;5;241m.\u001b[39m_make_engine(f, \u001b[38;5;28mself\u001b[39m\u001b[38;5;241m.\u001b[39mengine)\n",
      "File \u001b[1;32m~\\anaconda3\\Lib\\site-packages\\pandas\\io\\parsers\\readers.py:1661\u001b[0m, in \u001b[0;36mTextFileReader._make_engine\u001b[1;34m(self, f, engine)\u001b[0m\n\u001b[0;32m   1659\u001b[0m     \u001b[38;5;28;01mif\u001b[39;00m \u001b[38;5;124m\"\u001b[39m\u001b[38;5;124mb\u001b[39m\u001b[38;5;124m\"\u001b[39m \u001b[38;5;129;01mnot\u001b[39;00m \u001b[38;5;129;01min\u001b[39;00m mode:\n\u001b[0;32m   1660\u001b[0m         mode \u001b[38;5;241m+\u001b[39m\u001b[38;5;241m=\u001b[39m \u001b[38;5;124m\"\u001b[39m\u001b[38;5;124mb\u001b[39m\u001b[38;5;124m\"\u001b[39m\n\u001b[1;32m-> 1661\u001b[0m \u001b[38;5;28mself\u001b[39m\u001b[38;5;241m.\u001b[39mhandles \u001b[38;5;241m=\u001b[39m get_handle(\n\u001b[0;32m   1662\u001b[0m     f,\n\u001b[0;32m   1663\u001b[0m     mode,\n\u001b[0;32m   1664\u001b[0m     encoding\u001b[38;5;241m=\u001b[39m\u001b[38;5;28mself\u001b[39m\u001b[38;5;241m.\u001b[39moptions\u001b[38;5;241m.\u001b[39mget(\u001b[38;5;124m\"\u001b[39m\u001b[38;5;124mencoding\u001b[39m\u001b[38;5;124m\"\u001b[39m, \u001b[38;5;28;01mNone\u001b[39;00m),\n\u001b[0;32m   1665\u001b[0m     compression\u001b[38;5;241m=\u001b[39m\u001b[38;5;28mself\u001b[39m\u001b[38;5;241m.\u001b[39moptions\u001b[38;5;241m.\u001b[39mget(\u001b[38;5;124m\"\u001b[39m\u001b[38;5;124mcompression\u001b[39m\u001b[38;5;124m\"\u001b[39m, \u001b[38;5;28;01mNone\u001b[39;00m),\n\u001b[0;32m   1666\u001b[0m     memory_map\u001b[38;5;241m=\u001b[39m\u001b[38;5;28mself\u001b[39m\u001b[38;5;241m.\u001b[39moptions\u001b[38;5;241m.\u001b[39mget(\u001b[38;5;124m\"\u001b[39m\u001b[38;5;124mmemory_map\u001b[39m\u001b[38;5;124m\"\u001b[39m, \u001b[38;5;28;01mFalse\u001b[39;00m),\n\u001b[0;32m   1667\u001b[0m     is_text\u001b[38;5;241m=\u001b[39mis_text,\n\u001b[0;32m   1668\u001b[0m     errors\u001b[38;5;241m=\u001b[39m\u001b[38;5;28mself\u001b[39m\u001b[38;5;241m.\u001b[39moptions\u001b[38;5;241m.\u001b[39mget(\u001b[38;5;124m\"\u001b[39m\u001b[38;5;124mencoding_errors\u001b[39m\u001b[38;5;124m\"\u001b[39m, \u001b[38;5;124m\"\u001b[39m\u001b[38;5;124mstrict\u001b[39m\u001b[38;5;124m\"\u001b[39m),\n\u001b[0;32m   1669\u001b[0m     storage_options\u001b[38;5;241m=\u001b[39m\u001b[38;5;28mself\u001b[39m\u001b[38;5;241m.\u001b[39moptions\u001b[38;5;241m.\u001b[39mget(\u001b[38;5;124m\"\u001b[39m\u001b[38;5;124mstorage_options\u001b[39m\u001b[38;5;124m\"\u001b[39m, \u001b[38;5;28;01mNone\u001b[39;00m),\n\u001b[0;32m   1670\u001b[0m )\n\u001b[0;32m   1671\u001b[0m \u001b[38;5;28;01massert\u001b[39;00m \u001b[38;5;28mself\u001b[39m\u001b[38;5;241m.\u001b[39mhandles \u001b[38;5;129;01mis\u001b[39;00m \u001b[38;5;129;01mnot\u001b[39;00m \u001b[38;5;28;01mNone\u001b[39;00m\n\u001b[0;32m   1672\u001b[0m f \u001b[38;5;241m=\u001b[39m \u001b[38;5;28mself\u001b[39m\u001b[38;5;241m.\u001b[39mhandles\u001b[38;5;241m.\u001b[39mhandle\n",
      "File \u001b[1;32m~\\anaconda3\\Lib\\site-packages\\pandas\\io\\common.py:859\u001b[0m, in \u001b[0;36mget_handle\u001b[1;34m(path_or_buf, mode, encoding, compression, memory_map, is_text, errors, storage_options)\u001b[0m\n\u001b[0;32m    854\u001b[0m \u001b[38;5;28;01melif\u001b[39;00m \u001b[38;5;28misinstance\u001b[39m(handle, \u001b[38;5;28mstr\u001b[39m):\n\u001b[0;32m    855\u001b[0m     \u001b[38;5;66;03m# Check whether the filename is to be opened in binary mode.\u001b[39;00m\n\u001b[0;32m    856\u001b[0m     \u001b[38;5;66;03m# Binary mode does not support 'encoding' and 'newline'.\u001b[39;00m\n\u001b[0;32m    857\u001b[0m     \u001b[38;5;28;01mif\u001b[39;00m ioargs\u001b[38;5;241m.\u001b[39mencoding \u001b[38;5;129;01mand\u001b[39;00m \u001b[38;5;124m\"\u001b[39m\u001b[38;5;124mb\u001b[39m\u001b[38;5;124m\"\u001b[39m \u001b[38;5;129;01mnot\u001b[39;00m \u001b[38;5;129;01min\u001b[39;00m ioargs\u001b[38;5;241m.\u001b[39mmode:\n\u001b[0;32m    858\u001b[0m         \u001b[38;5;66;03m# Encoding\u001b[39;00m\n\u001b[1;32m--> 859\u001b[0m         handle \u001b[38;5;241m=\u001b[39m \u001b[38;5;28mopen\u001b[39m(\n\u001b[0;32m    860\u001b[0m             handle,\n\u001b[0;32m    861\u001b[0m             ioargs\u001b[38;5;241m.\u001b[39mmode,\n\u001b[0;32m    862\u001b[0m             encoding\u001b[38;5;241m=\u001b[39mioargs\u001b[38;5;241m.\u001b[39mencoding,\n\u001b[0;32m    863\u001b[0m             errors\u001b[38;5;241m=\u001b[39merrors,\n\u001b[0;32m    864\u001b[0m             newline\u001b[38;5;241m=\u001b[39m\u001b[38;5;124m\"\u001b[39m\u001b[38;5;124m\"\u001b[39m,\n\u001b[0;32m    865\u001b[0m         )\n\u001b[0;32m    866\u001b[0m     \u001b[38;5;28;01melse\u001b[39;00m:\n\u001b[0;32m    867\u001b[0m         \u001b[38;5;66;03m# Binary mode\u001b[39;00m\n\u001b[0;32m    868\u001b[0m         handle \u001b[38;5;241m=\u001b[39m \u001b[38;5;28mopen\u001b[39m(handle, ioargs\u001b[38;5;241m.\u001b[39mmode)\n",
      "\u001b[1;31mFileNotFoundError\u001b[0m: [Errno 2] No such file or directory: 'aug_train.csv'"
     ]
    }
   ],
   "source": [
    "# Membaca masing masing data set serta menampilkan 5 sampling data dari setiap data set train dan test\n",
    "df_train = pd.read_csv('aug_train.csv')\n",
    "df_test = pd.read_csv('aug_test.csv')\n",
    "df_train.sample(5)"
   ]
  },
  {
   "cell_type": "code",
   "execution_count": null,
   "id": "63d95259-6f98-4b01-bf64-5af8c6230ff7",
   "metadata": {
    "tags": []
   },
   "outputs": [],
   "source": [
    "df_test.sample(5)"
   ]
  },
  {
   "cell_type": "markdown",
   "id": "352c1feb-dc6a-4ba3-84b3-727a2037f519",
   "metadata": {},
   "source": [
    "Data ini mencakup informasi terkait sumber daya manusia, dengan berbagai variabel seperti pengalaman, pendidikan, jenis kelamin, lokasi, dan lainnya. Terdapat beberapa nilai yang hilang dalam kolom-kolom seperti \"gender\" dan \"company_size\". Terdapat juga variasi dalam kolom \"last_new_job\" yang mencerminkan berapa lama seseorang telah mengganti pekerjaan terakhirnya. Data ini memiliki potensi besar untuk analisis HR yang mendalam. Dengan penerapan HR Analytics, perusahaan dapat memahami tren dalam perekrutan, retensi, dan pengembangan karyawan. Namun, sebelumnya, perlu melakukan pengelolaan data seperti mengisi nilai yang hilang dan memeriksa outlier."
   ]
  },
  {
   "cell_type": "code",
   "execution_count": null,
   "id": "d68b709a-02b2-469a-8a52-1c2089c53c83",
   "metadata": {
    "jupyter": {
     "source_hidden": true
    },
    "tags": []
   },
   "outputs": [],
   "source": [
    "# Informasi Data Frame\n",
    "df_train.info()"
   ]
  },
  {
   "cell_type": "markdown",
   "id": "4515c2d7-13ce-43b1-bf57-22d569bff104",
   "metadata": {
    "tags": []
   },
   "source": [
    "Jumlah Data: Data frame ini memiliki total <b>19,158 baris (entri) dan 14 kolom</b>.</br>\n",
    "\n",
    "#### Kolom dengan Data Tipe Integer (int64):\n",
    "\n",
    "enrollee_id: Kolom ID pendaftar.</br>\n",
    "training_hours: Kolom jumlah jam pelatihan.</br>\n",
    "\n",
    "#### Kolom dengan Data Tipe Float (float64):</br>\n",
    "\n",
    "city_development_index: Indeks perkembangan kota.</br>\n",
    "target: Kolom target, mungkin berhubungan dengan suatu prediksi atau klasifikasi.</br>\n",
    "\n",
    "#### Kolom dengan Data Tipe Object (teks):</br>\n",
    "\n",
    "city: Nama kota.</br>\n",
    "gender: Jenis kelamin pendaftar.</br>\n",
    "relevent_experience: Pengalaman yang relevan.</br>\n",
    "enrolled_university: Universitas tempat pendaftar terdaftar.</br>\n",
    "education_level: Tingkat pendidikan pendaftar.</br>\n",
    "major_discipline: Disiplin ilmu utama pendaftar.</br>\n",
    "experience: Pengalaman pendaftar.</br>\n",
    "company_size: Ukuran perusahaan di mana pendaftar bekerja.</br>\n",
    "company_type: Tipe perusahaan di mana pendaftar bekerja.</br>\n",
    "last_new_job: Jumlah tahun sejak pekerjaan terakhir.</br>\n",
    "\n",
    "#### Target Variable:\n",
    "Kolom  target digunakan sebagai variabel target untuk tugas analisis atau pemodelan. Tipe data kolom ini adalah float64, yang menunjukkan kemungkinan ini adalah kolom target yang mengandung nilai numerik."
   ]
  },
  {
   "cell_type": "code",
   "execution_count": null,
   "id": "65670c76-1c7a-422b-b0e2-c36f0fc27205",
   "metadata": {
    "jupyter": {
     "source_hidden": true
    },
    "tags": []
   },
   "outputs": [],
   "source": [
    "# Mengelompokkan kolom - kolom dari data frame\n",
    "cats=['city','gender','relevent_experience','enrolled_university','education_level','major_discipline','experience','company_size',\n",
    "      'company_type','last_new_job']\n",
    "nums=['enrollee_id','city_development_index','training_hours','target']"
   ]
  },
  {
   "cell_type": "code",
   "execution_count": null,
   "id": "88faf8cc-69f7-475e-b2c7-b32df715cb2d",
   "metadata": {
    "tags": []
   },
   "outputs": [],
   "source": [
    "#Statistik Deskriptif kolom numerikal\n",
    "df_train[nums].describe()"
   ]
  },
  {
   "cell_type": "markdown",
   "id": "6f5b5c26-5c00-4e95-af74-5af1c5d944fd",
   "metadata": {},
   "source": [
    "Statistik deskriptif untuk kolom numerikal:</br>\n",
    "1. Kolom 'enrollee_id' memiliki rentang ID pendaftar dari 1 hingga 33,380, dengan distribusi yang merata.</br>\n",
    "2. Kolom 'city_development_index' memiliki rata-rata sekitar 0.829 dengan range yang wajar antara 0.448 hingga 0.949.</br>\n",
    "3. Kolom 'training_hours' memiliki rata-rata sekitar 65.37 dengan range antara 1 hingga 336.</br>\n",
    "4. Kolom 'target' adalah variabel biner, di mana sekitar 25% pendaftar memiliki nilai target 1.</br>\n",
    "\n",
    "<b>Tidak ada data yang mencolok atau aneh dalam statistik ini.</b>"
   ]
  },
  {
   "cell_type": "code",
   "execution_count": null,
   "id": "9d589ef2-f71c-43c1-a3d6-5285495272b6",
   "metadata": {
    "tags": []
   },
   "outputs": [],
   "source": [
    "# Statistik deskriptif kolom kategorikal\n",
    "df_train[cats].describe()"
   ]
  },
  {
   "cell_type": "code",
   "execution_count": null,
   "id": "9412b5f7-1dfc-4443-a1a8-23d157646e1f",
   "metadata": {
    "jupyter": {
     "source_hidden": true
    },
    "tags": []
   },
   "outputs": [],
   "source": [
    "columns = [\"city\", \"gender\", \"relevent_experience\", \"enrolled_university\", \"education_level\", \"major_discipline\", \"experience\", \"company_size\", \"company_type\", \"last_new_job\"]\n",
    "count = [19158, 14650, 19158, 18772, 18698, 16345, 19093, 13220, 13018, 18735]\n",
    "unique_values = [123, 3, 2, 3, 5, 6, 22, 8, 6, 6]\n",
    "\n",
    "plt.figure(figsize=(10, 6))\n",
    "bar_width = 0.3 \n",
    "index = range(len(columns))\n",
    "\n",
    "plt.barh(index, count, bar_width, color='skyblue', label='Jumlah Data')\n",
    "plt.barh(index, unique_values, bar_width, color='lightgrey', label='Jumlah Kategori Unik')\n",
    "\n",
    "for i in index:\n",
    "    plt.text(count[i] + 200, i, f'{unique_values[i]} ({count[i]})', va='center')\n",
    "\n",
    "plt.xlabel('Count')\n",
    "plt.title('Jumlah Kategori Unik dan Total Data dalam Setiap Kolom')\n",
    "plt.yticks(index, columns)\n",
    "plt.gca().invert_yaxis()\n",
    "plt.legend()\n",
    "plt.show()\n"
   ]
  },
  {
   "cell_type": "markdown",
   "id": "c776fc07-4e5c-4514-ae1e-7fd2f56c5aae",
   "metadata": {},
   "source": [
    "Statistik deskriptif untuk kolom kategorikal:</br>\n",
    "\n",
    "1. Kolom 'gender' memiliki data yang hilang dan berisi jenis kelamin paling umum adalah 'Male' dengan jenis kelamin Unik ada 3 dan Jumlah data 14.650.\n",
    "2. Kolom 'enrolled_university' memiliki data yang hilang dan mayoritas tidak terdaftar di universitas jumlah Unik 3 dan Jumlah data 18.772.\n",
    "3. Kolom 'education_level' memiliki data yang hilang dan mayoritas adalah lulusan Nilai Unik: 5 Jumlah Data: 18,698\n",
    "4. Kolom 'major_discipline' memiliki beberapa nilai unik dan yang paling umum adalah 'STEM' Nilai Unik: 6 Jumlah Data: 16,345.\n",
    "5. Kolom 'company_size' memiliki data yang hilang dan ukuran '50-99' adalah yang paling umum Nilai Unik: 8 Jumlah Data: 13,220\n",
    "6. Kolom 'company_type' memiliki data yang hilang dan 'Pvt Ltd' adalah yang paling umum Nilai Unik: 6 Jumlah Data: 13,018\n",
    "7. Kolom 'last_new_job' memiliki data yang hilang dan '1' adalah yang paling umum Nilai Unik: 6 Jumlah Data: 18,735\n",
    "\n",
    "<b>!! Kolom gender memiliki 3 nilai unik (seharusnya terdapat 2 gender saja (Male dan Female))</b>"
   ]
  },
  {
   "cell_type": "code",
   "execution_count": null,
   "id": "58d6c740-9678-4540-9d70-8e705a404f8e",
   "metadata": {
    "jupyter": {
     "source_hidden": true
    },
    "tags": []
   },
   "outputs": [],
   "source": [
    "# Menghitung jumlah NaN atau nilai yang kosong\n",
    "print(\"Missing Values\")\n",
    "print(df_train.isnull().sum())\n",
    "\n",
    "#Check for missing values Percentage\n",
    "print(\"\\nMissing Values Percentage\")\n",
    "print(df_train.isna().sum()/len(df_train))"
   ]
  },
  {
   "cell_type": "markdown",
   "id": "eef66be5-dc98-4fb7-ae48-78571f8337ce",
   "metadata": {
    "tags": []
   },
   "source": [
    "#### Data yang Tidak Lengkap (NaN): \n",
    "Beberapa kolom seperti <b>gender, enrolled_university, education_level, major_discipline, experience, company_size, dan company_type </b> memiliki nilai yang hilang (NaN)."
   ]
  },
  {
   "cell_type": "markdown",
   "id": "97d8d919-3a21-474a-9f91-99c551bbf381",
   "metadata": {
    "tags": []
   },
   "source": [
    "# 1. Descriptive Statistics (Kesimpulan)\n",
    "\n",
    "A. Semua tipe data sudah sesuai </br>\n",
    "B. Kolom <b> gender, enrolled_university, education_level, major_discipline, experience, company_size, company_type, last_new job, dan training_hours</b> memiliki nilai kosong </br>\n",
    "C. Kolom gender yang seharusnya memiliki 2 nilai unik ternyata memiliki 3 nilai unik."
   ]
  },
  {
   "cell_type": "markdown",
   "id": "13a88db1-e901-493b-accf-45b17277319f",
   "metadata": {},
   "source": [
    "# 2. Univariate Analysis\n",
    "\n",
    "Gunakan <b>visualisasi</b> untuk melihat distribusi masing-masing kolom (feature maupun target).</br>\n",
    "Tuliskan hasil observasinya, misalnya jika ada suatu kolom yang distribusinya\n",
    "menarik</br> (misal skewed, bimodal, ada outlier, ada nilai yang mendominasi, kategorinya\n",
    "terlalu banyak, dsb).</br> Jelaskan juga apa yang harus di-follow up saat data pre-processing."
   ]
  },
  {
   "cell_type": "markdown",
   "id": "29202fc7-6953-4c5d-adc5-7cefaf25c011",
   "metadata": {},
   "source": [
    "### Numerical Features"
   ]
  },
  {
   "cell_type": "code",
   "execution_count": null,
   "id": "50d4b0e3-26b7-4b7d-be31-ef9889b486bb",
   "metadata": {
    "tags": []
   },
   "outputs": [],
   "source": [
    "sns.set(style='whitegrid')\n",
    "\n",
    "fig, axes = plt.subplots(2, 3, figsize=(18, 10))\n",
    "plt.subplots_adjust(wspace=0.4, hspace=0.4)\n",
    "\n",
    "sns.histplot(ax=axes[0, 0], x=df_train['city_development_index'], bins=30, kde=True, color='skyblue')\n",
    "axes[0, 0].set_title('Distribution of City Development Index')\n",
    "axes[0, 0].set_xlabel('City Development Index')\n",
    "axes[0, 0].set_ylabel('Frequency')\n",
    "sns.boxplot(ax=axes[1, 0], x=df_train['city_development_index'], color='skyblue', width=0.2)\n",
    "\n",
    "sns.histplot(ax=axes[0, 1], x=df_train['training_hours'], bins=30, kde=True, color='skyblue')\n",
    "axes[0, 1].set_title('Distribution of Training Hours')\n",
    "axes[0, 1].set_xlabel('Training Hours')\n",
    "axes[0, 1].set_ylabel('Frequency')\n",
    "sns.boxplot(ax=axes[1, 1], x=df_train['training_hours'], color='skyblue', width=0.2)\n",
    "\n",
    "sns.histplot(ax=axes[0, 2], x=df_train['target'], bins=2, kde=True, color='skyblue')\n",
    "axes[0, 2].set_title('Distribution of Target')\n",
    "axes[0, 2].set_xlabel('Target')\n",
    "axes[0, 2].set_ylabel('Frequency')\n",
    "sns.boxplot(ax=axes[1, 2], x=df_train['target'], color='skyblue', width=0.2)\n",
    "\n",
    "plt.tight_layout()\n",
    "\n",
    "plt.show()\n"
   ]
  },
  {
   "cell_type": "markdown",
   "id": "2da4049b-b6a6-42d4-a77a-1455b7701a74",
   "metadata": {
    "tags": []
   },
   "source": [
    "#### Kesimpulan data numerikal\n",
    "\n",
    "1. Distribution of City Development Index (Distribusi Indeks Pembangunan Kota):\n",
    "CDI memiliki distribusi <b>bimodal</b> dengan dua puncak.</br>\n",
    "Mayoritas data terkonsentrasi di sekitar nilai tengah indeks pembangunan kota.</br>\n",
    "Terdapat beberapa nilai ekstrem yang diidentifikasi sebagai outlier dalam box plot.</br>\n",
    "2. Distribution of Training Hours (Distribusi Jam Pelatihan):\n",
    "Distribusi jam pelatihan <b>skew ke kanan</b> (positively skewed) dengan nilai<b> median yang lebih kecil daripada mean</b> (lihat df.describe pada no.1).\n",
    "Mayoritas data berpusat di sekitar nilai rendah hingga menengah jam pelatihan.\n",
    "Terdapat beberapa data yang diidentifikasi sebagai outlier dalam box plot, yang mengindikasikan jam pelatihan yang jauh lebih tinggi dari mayoritas.</br>\n",
    "3. Distribution of Target (Distribusi Target):\n",
    "Distribusi target menunjukkan bahwa mayoritas data adalah \"non-seeking\" (tidak mencari pekerjaan) dengan <b>persentase 3:1</b>.\n",
    "Dengan kata lain, hanya 25% enrollee adalah pencari pekerjaan baru."
   ]
  },
  {
   "cell_type": "markdown",
   "id": "7507ba7f-96e8-4106-a4b9-37a905c0b310",
   "metadata": {},
   "source": [
    "### Categorical Features"
   ]
  },
  {
   "cell_type": "code",
   "execution_count": null,
   "id": "40753599-4e88-4e47-bd44-8d4043b9875e",
   "metadata": {
    "jupyter": {
     "source_hidden": true
    },
    "tags": []
   },
   "outputs": [],
   "source": [
    "# Select the categorical features\n",
    "categorical_features = ['city', 'gender', 'relevent_experience', 'enrolled_university',\n",
    "                        'education_level', 'major_discipline', 'experience', 'company_size',\n",
    "                        'company_type', 'last_new_job']\n",
    "\n",
    "# Set up the figure and axes\n",
    "fig, axes = plt.subplots(nrows=5, ncols=2, figsize=(15, 25))\n",
    "\n",
    "# Flatten the axes for easy iteration\n",
    "axes = axes.flatten()\n",
    "\n",
    "# Loop through categorical features and plot bar charts\n",
    "for i, feature in enumerate(categorical_features):\n",
    "    sns.countplot(data=df_train, y=feature, ax=axes[i], order=df_train[feature].value_counts().index, color='skyblue')\n",
    "    axes[i].set_title(f'Countplot of {feature}')\n",
    "    axes[i].set_xlabel('Count')\n",
    "    axes[i].set_ylabel(feature)\n",
    "\n",
    "# Adjust layout and show the plots\n",
    "plt.tight_layout()\n",
    "plt.show()"
   ]
  },
  {
   "cell_type": "markdown",
   "id": "1dd0cf5b-5979-42c9-ac1c-e4d3fd81c7d5",
   "metadata": {},
   "source": [
    "#### Kesimpulan data kategorikal\n",
    "city: Distribusi kota agak <b>tidak merata</b>, beberapa kota memiliki <b>frekuensi yang tinggi</b>.</br>\n",
    "gender: Terdapat kategori <b>'Other'</b> yang mungkin perlu diperiksa lebih lanjut. Selain itu, <b>perbedaan frekuensi antara jenis kelamin cukup besar</b>.</br>\n",
    "relevent_experience: <b>Mayoritas</b> kandidat<B> memiliki pengalaman relevan</b>.</br>\n",
    "education_level: Kategori <b>'Primary School'</b> memiliki frekuensi yang <b>rendah</b> dibandingkan dengan kategori lainnya.</br>\n",
    "major_discipline: Mayoritas kandidat memiliki disiplin mayor di bidang <b>Engineering</b>.</br>\n",
    "experience: Distribusi pengalaman terlihat wajar, namun ada beberapa nilai yang mungkin perlu diinspeksi lebih lanjut.</br>\n",
    "company_size: Kategori <b>'50-99' dan '100-500' memiliki frekuensi tertinggi</b>. Nilai 10/49 perlu diubah menjadi 10-49</br>\n",
    "company_type: Mayoritas kandidat bekerja di perusahaan sektor <b>Private</b>.</br>\n",
    "last_new_job: Mayoritas kandidat telah mengganti pekerjaan dalam waktu <b>kurang dari satu tahun</b>.</br>\n",
    "target: <b>Distribusi target tidak seimbang</b>, dengan <b>mayoritas</b> kandidat <b>tidak mencari perubahan pekerjaan</b>.</br>"
   ]
  },
  {
   "cell_type": "markdown",
   "id": "d371776f-4632-4483-8120-c19b84551865",
   "metadata": {},
   "source": [
    "#### Follow-up <b>data preprocessing</b> yang dapat dilakukan meliputi:\n",
    "\n",
    "Handling Missing Values: Perlu memeriksa dan mengatasi nilai yang hilang pada kolom dengan missing values seperti 'gender','enrolled_university', 'education_level', dsb.</br>\n",
    "Outlier Detection and Handling: Memeriksa apakah ada outlier pada variabel numerik dan mengambil tindakan yang sesuai jika ada.</br>\n",
    "Encoding Categorical Variables: Melakukan encoding pada variabel kategorikal untuk mengubahnya menjadi bentuk numerik yang dapat digunakan dalam pemodelan.</br>\n",
    "Balancing Target: Mengambil tindakan untuk menangani ketidakseimbangan dalam target (oversampling, undersampling, atau metode lainnya).</br>\n",
    "Feature Scaling: Melakukan normalisasi atau standardisasi pada variabel numerik jika dibutuhkan.</br>\n",
    "Feature Engineering: Mungkin ada kemungkinan untuk menggabungkan, memisahkan, atau mengubah fitur untuk meningkatkan kinerja model.</br>\n",
    "Validasi Data: Memastikan bahwa dataset telah divalidasi dengan benar untuk mengidentifikasi potensi masalah atau anomali lain yang perlu ditangani."
   ]
  },
  {
   "cell_type": "markdown",
   "id": "49c8c0bd-4f86-4cae-b57b-bcb10f784d78",
   "metadata": {},
   "source": [
    "# 3. Multivariate Analysis + 4. Business Insight\n",
    "Lakukan multivariate analysis (seperti correlation heatmap dan category plots, sesuai yang\n",
    "diajarkan di kelas).</br> Tuliskan hasil observasinya, seperti:</br>\n",
    "A. Bagaimana korelasi antara masing-masing feature dan label. Kira-kira feature mana\n",
    "saja yang paling relevan dan harus dipertahankan?</br>\n",
    "B. Bagaimana korelasi antar-feature, apakah ada pola yang menarik? Apa yang perlu\n",
    "dilakukan terhadap feature itu?</br>\n",
    "* Tuliskan juga jika memang tidak ada feature yang saling berkorelasi"
   ]
  },
  {
   "cell_type": "code",
   "execution_count": null,
   "id": "b4ef0c30-e52f-4c1d-b986-8d6a173f9c63",
   "metadata": {
    "tags": []
   },
   "outputs": [],
   "source": [
    "# Selecting the numerical features and target\n",
    "numerical_features = ['city_development_index', 'training_hours', 'target']\n",
    "\n",
    "# Subset the DataFrame with only the numerical features\n",
    "numerical_df = df_train[numerical_features]\n",
    "\n",
    "# Calculate the correlation matrix\n",
    "correlation_matrix = numerical_df.corr()\n",
    "\n",
    "# Plot a heatmap to visualize the correlation matrix\n",
    "plt.figure(figsize=(10, 6))\n",
    "sns.heatmap(correlation_matrix, annot=True, cmap='Blues', fmt='.2f', square=True)\n",
    "plt.title('Correlation Heatmap')\n",
    "plt.show()"
   ]
  },
  {
   "cell_type": "markdown",
   "id": "89cf8b89-f263-4e5e-b09d-1318582415a2",
   "metadata": {},
   "source": [
    "\n",
    "Dari heatmap korelasi antara fitur-fitur numerik dan target (\"city_development_index\", \"training_hours,\" dan \"target\"), kita dapat membuat beberapa kesimpulan:\n",
    "\n",
    "1. City Development Index (CDI): Korelasi antara CDI dan target sangat rendah (0.04). Ini menunjukkan bahwa <b>CDI tidak memiliki pengaruh signifikan terhadap keputusan pencari kerja untuk mencari pekerjaan baru.</b>\n",
    "\n",
    "2. Training Hours: Korelasi antara jumlah jam pelatihan (\"training_hours\") dan target juga rendah (-0.021). Ini menunjukkan bahwa <b>jumlah jam pelatihan yang diambil oleh pencari kerja juga tidak memiliki pengaruh signifikan terhadap keputusan mereka untuk mencari pekerjaan baru.</b>\n",
    "\n",
    "Kesimpulannya, dari analisis korelasi, tidak ada fitur numerik yang memiliki korelasi yang kuat dengan kolom \"target.\" Ini menunjukkan bahwa keputusan pencari kerja untuk mencari pekerjaan baru <b>kemungkinan besar dipengaruhi oleh faktor-faktor lain yang tidak tercakup dalam fitur-fitur numerik ini.</b> Oleh karena itu, penting untuk mempertimbangkan fitur-fitur lain atau faktor-faktor kualitatif dalam analisis yang mungkin lebih memengaruhi keputusan pencari kerja."
   ]
  },
  {
   "cell_type": "code",
   "execution_count": null,
   "id": "924083bc-4378-4f9c-9768-4e7b64486227",
   "metadata": {
    "jupyter": {
     "source_hidden": true
    },
    "tags": []
   },
   "outputs": [],
   "source": [
    "custom_palette = [\"skyblue\", \"grey\"]\n",
    "\n",
    "# Define selected features for the pairplot\n",
    "selected_features = ['city_development_index', 'training_hours', 'target']\n",
    "\n",
    "# Create pairplot for selected features\n",
    "sns.pairplot(df_train[selected_features], hue='target', palette=custom_palette, diag_kind='kde')\n",
    "plt.show()"
   ]
  },
  {
   "cell_type": "markdown",
   "id": "c8dc8551-120f-4fcd-9952-dbcd85ba7cc1",
   "metadata": {},
   "source": [
    "Pairplot ini memvisualisasikan hubungan antara variabel 'city_development_index' dan 'training_hours' dengan membedakan berdasarkan variabel target.\n",
    "Seaborn pairplot digunakan untuk memahami sebaran data antara variabel 'city_development_index' dan 'training_hours' terhadap target (1 atau 0).\n",
    "Tidak ada perbedaan signifikan dalam pola antara orang yang mencari pekerjaan baru (target 1) dan yang tidak (target 0) berdasarkan hubungan antara 'city_development_index' dan 'training_hours'. Ini terlihat dari sebaran titik-titik yang relatif seragam.\n",
    "\n",
    "Hasil dari korelasi antara 'city_development_index' dan 'training_hours' terhadap target tidak ditampilkan dalam visualisasi. Namun, Anda dapat melihat korelasi ini di luar pairplot.\n",
    "Nilai korelasi antara 'city_development_index' dan 'training_hours' dengan target akan memberikan informasi lebih lanjut tentang sejauh mana kedua fitur ini berhubungan dengan variabel target.\n",
    "Kesimpulannya, pairplot mengungkapkan perbedaan yang signifikan dalam pola data antara variabel 'city_development_index' dan 'training_hours' dengan variabel target. "
   ]
  },
  {
   "cell_type": "code",
   "execution_count": null,
   "id": "e6baed08-4172-4e89-9113-9e5443ac480e",
   "metadata": {
    "jupyter": {
     "source_hidden": true
    },
    "tags": []
   },
   "outputs": [],
   "source": [
    "cats1 = ['gender', 'relevent_experience', 'enrolled_university', 'education_level', 'major_discipline', 'company_size', 'company_type', 'last_new_job']\n",
    "\n",
    "num_categories = len(cats1)\n",
    "subplots_per_row = 3\n",
    "num_rows = (num_categories + subplots_per_row - 1) // subplots_per_row\n",
    "\n",
    "fig, axes = plt.subplots(num_rows, subplots_per_row, figsize=(15, num_rows * 5))\n",
    "plt.subplots_adjust(wspace=0.4, hspace=0.4)\n",
    "\n",
    "# Define the colors for 'Non seeking' and 'Seeking'\n",
    "colors = ['skyblue', 'lightgrey']\n",
    "\n",
    "for i, cols in enumerate(cats1, 1):\n",
    "    data = df_train.groupby([cols, 'target'])['target'].count().unstack().fillna(0)\n",
    "    data_percentage = data.div(data.sum(axis=1), axis=0)\n",
    "\n",
    "    row = (i - 1) // subplots_per_row\n",
    "    col = (i - 1) % subplots_per_row\n",
    "\n",
    "    ax = data_percentage.plot(kind='bar', stacked=True, color=colors, ax=axes[row, col])\n",
    "    ax.set_title(f'Percentage of Job Seeking by {cols}')\n",
    "    ax.legend(labels=('Non seeking', 'Seeking'))\n",
    "    ax.set_xticklabels(data_percentage.index, rotation=25)\n",
    "    ax.set_yticklabels(['{:.0%}'.format(x) for x in ax.get_yticks()])\n",
    "\n",
    "for i in range(num_categories, num_rows * subplots_per_row):\n",
    "    row = i // subplots_per_row\n",
    "    col = i % subplots_per_row\n",
    "    fig.delaxes(axes[row, col])\n",
    "\n",
    "plt.tight_layout()\n",
    "plt.show()\n"
   ]
  },
  {
   "cell_type": "markdown",
   "id": "9fa85e12-e06b-4ee4-b09a-2d109478002e",
   "metadata": {},
   "source": [
    "Dari visualisasi yang disajikan, kita dapat menarik beberapa kesimpulan terkait dengan persentase pencari pekerjaan (seeking) berdasarkan berbagai kategori yang terdapat dalam dataset:\n",
    "\n",
    "1. <b>Gender</b> (Jenis Kelamin):\n",
    "Presentase \"Seeking' pada gender Female lebih tinggi dibandingkan Male. Mayoritas data menunjukkan persentase \"Non Seeking\" yang lebih tinggi daripada \"Seeking\" di semua kelompok jenis kelamin.\n",
    "\n",
    "2. <b>Relevant Experience </b>(Pengalaman Terkait):\n",
    "Orang-orang dengan pengalaman terkait cenderung memiliki persentase \"Non seeking\" yang lebih tinggi dibandingkan dengan yang tidak memiliki pengalaman terkait.\n",
    "\n",
    "3. <b>Enrolled University </b>(Status Pendaftaran Universitas):\n",
    "Orang-orang yang terdaftar di universitas memiliki persentase \"Seeking\" yang lebih tinggi dibandingkan dengan mereka yang tidak terdaftar di universitas.\n",
    "Mungkin ada korelasi antara tidak terdaftarnya di universitas dengan pencarian pekerjaan baru.\n",
    "\n",
    "4. <b>Education Level</b> (Tingkat Pendidikan):\n",
    "Tidak ada tren yang konsisten dalam persentase pencari pekerjaan berdasarkan tingkat pendidikan. Namun, individu dengan tingkat pendidikan \"Graduate\" cenderung memiliki persentase \"Seeking\" yang lebih tinggi.\n",
    "\n",
    "5. <b>Major Discipline </b>(Disiplin Ilmu Utama):\n",
    "Tidak ada perbedaan yang signifikan dalam persentase pencari pekerjaan berdasarkan disiplin ilmu utama.\n",
    "Persentase \"Non seeking\" lebih dominan dalam semua disiplin ilmu utama.\n",
    "\n",
    "6. <b>Company Size</b> (Ukuran Perusahaan):\n",
    "Individu yang bekerja di perusahaan dengan ukuran 10-49 orang cenderung memiliki persentase \"Seeking\" yang lebih tinggi.\n",
    "Perusahaan dengan ukuran 100-500 dan 1000-4999 memiliki persentase \"Non seeking\" yang lebih tinggi.\n",
    "\n",
    "7. <b>Company Type</b> (Jenis Perusahaan):\n",
    "Perusahaan berjenis 'Funded Startup' memiliki presentase 'Seeking' terkecil dibanding jenis perusahaan lainnya.\n",
    "\n",
    "8. <b>Last New Job</b> (Pekerjaan Terakhir):\n",
    "Orang-orang yang telah bekerja dalam pekerjaan sebelumnya selama 1 tahun memiliki persentase \"Seeking\" yang lebih tinggi.\n",
    "Individu dengan pekerjaan terakhir selama 4-5 tahun cenderung memiliki persentase \"Non seeking\" yang lebih tinggi."
   ]
  },
  {
   "cell_type": "code",
   "execution_count": null,
   "id": "ce078bb6-1424-45c8-b367-f762884869b0",
   "metadata": {
    "tags": []
   },
   "outputs": [],
   "source": [
    "df0 = df_train[df_train['target']==0]\n",
    "df1 = df_train[df_train['target']==1]\n",
    "\n",
    "fig = sns.kdeplot(df0['city_development_index'] , fill=True, color=\"skyblue\")\n",
    "fig = sns.kdeplot(df1['city_development_index'], fill=True, color=\"lightgrey\")\n",
    "plt.title('City Development Index comparison')\n",
    "plt.legend(labels=('Not seeking','Seeking'), loc='upper left')\n",
    "plt.show()"
   ]
  },
  {
   "cell_type": "code",
   "execution_count": null,
   "id": "7eae0e94-2e7d-4b54-a406-025aed09d184",
   "metadata": {
    "tags": []
   },
   "outputs": [],
   "source": [
    "df0 = df_train[df_train['target']==0]\n",
    "df1 = df_train[df_train['target']==1]\n",
    "\n",
    "fig = sns.kdeplot(df0['training_hours'] , fill=True, color=\"skyblue\")\n",
    "fig = sns.kdeplot(df1['training_hours'], fill=True, color=\"lightgrey\")\n",
    "plt.title('Training Hours Comparison')\n",
    "plt.legend(labels=('Not seeking','Seeking'), loc='upper right')\n",
    "plt.show()"
   ]
  },
  {
   "cell_type": "markdown",
   "id": "cbd16a8f-87e0-45f5-ad01-ec0c0c07f053",
   "metadata": {},
   "source": [
    "Dalam visualisasi \"City Development Index comparison\", terdapat dua distribusi yang dibandingkan, yaitu \"Not seeking\" (Tidak mencari pekerjaan) dan \"Seeking\" (Mencari pekerjaan) dengan menggunakan kernel density estimation (KDE). Berikut adalah kesimpulan dari grafik tersebut:\n",
    "\n",
    "1. Warna biru mewakili mereka yang tidak mencari pekerjaan (Not seeking).\n",
    "2. Warna abu-abu mewakili mereka yang sedang mencari pekerjaan (Seeking).\n",
    "3. Perpotongan antara grafik seeking dan non seeking pada CDI 0.75 menunjukan <b>mayoritas pencari pekerjaan baru (seeking) bertempat pada kota dengan CDI yang rendah (<0.75)</b>. Para <b>non-pencari kerja</b> bertempat mayoritas pada kota dengan <b>CDI > 0.75</b>."
   ]
  },
  {
   "cell_type": "markdown",
   "id": "67d97407-26fb-44f7-948c-05b6b6fcaf5b",
   "metadata": {
    "tags": []
   },
   "source": [
    "### Business Insight"
   ]
  },
  {
   "cell_type": "code",
   "execution_count": null,
   "id": "81ae82ac-dee7-40a0-b0a7-9452878531b0",
   "metadata": {
    "tags": []
   },
   "outputs": [],
   "source": [
    "plt.figure(figsize=(12, 6))\n",
    "custom_palette = [\"skyblue\", \"grey\"]\n",
    "sns.countplot(data=df_train, x='company_size', hue='target', order=df_train['company_size'].value_counts().index, palette=custom_palette)\n",
    "plt.title('Distribusi Ukuran Perusahaan berdasarkan Keinginan untuk Mengganti Pekerjaan')\n",
    "plt.xlabel('Ukuran Perusahaan')\n",
    "plt.ylabel('Jumlah')\n",
    "plt.xticks(rotation=45)\n",
    "plt.legend(title='Target', labels=['Tidak Ingin Mengganti', 'Ingin Mengganti'])\n",
    "plt.show()"
   ]
  },
  {
   "cell_type": "code",
   "execution_count": null,
   "id": "40a6a2a8-f28b-4a3b-85e6-ff45919eba23",
   "metadata": {
    "tags": []
   },
   "outputs": [],
   "source": [
    "plt.figure(figsize=(12,6))\n",
    "df_train.groupby('company_size')['target'].value_counts(normalize=True).unstack('target').plot.bar(stacked=True, color=custom_palette)\n",
    "plt.title(f'Percentage of Job Seeking by Company Size')\n",
    "plt.legend(labels=('Non seeking', 'Seeking'))\n",
    "plt.xticks(rotation = 25)\n",
    "    \n",
    "plt.tight_layout()\n",
    "plt.show()"
   ]
  },
  {
   "cell_type": "markdown",
   "id": "c9e9ff25-f4ff-4bab-b99d-35aa1cc741cc",
   "metadata": {},
   "source": [
    "Dalam plot distribusi ukuran perusahaan berdasarkan keinginan untuk mengganti pekerjaan, kami menggunakan warna \"skyblue\" untuk merepresentasikan kategori \"Tidak Ingin Mengganti\" dan warna \"grey\" untuk merepresentasikan kategori \"Ingin Mengganti\". Beberapa kesimpulan dari plot ini adalah:\n",
    "\n",
    "1. Walaupun secara jumlah, perusahaan berukuran \"50-99\" dan \"100-500\" menjadi perusahaan dengan jumlah sampel enrollee terbanyak, namun secara presentase, kedua perusahaan tersebut memiliki jumlah \"Seeker\" yang masih di bawah 20%.\n",
    "\n",
    "2. Begitupun dengan ukuran perusahaan \"500-999\" dan \"5000-9999\", dengan jumlah sampel yang sedikit, kedua perusahaan tersebut-pun masih memiliki presentase \"Seeker\" di bawah 20%.\n",
    "\n",
    "3. Sebaliknya, satu-satunya perusahaan yang memiliki presentase pencari pekerjaan lebih dari 20% adalah yang berukuran \"10-49\".\n",
    "\n",
    "Insight Bisnis :\n",
    "\n",
    "1. Penyelidikan Lanjutan: Meskipun tidak ada ukuran perusahaan yang secara signifikan mendominasi, perusahaan berukuran \"50-99\" tampaknya menarik bagi karyawan baik yang ingin mengganti pekerjaan maupun yang tidak. Bisnis dapat melakukan penyelidikan lebih lanjut untuk memahami faktor-faktor yang membuat ukuran perusahaan ini menarik.\n",
    "\n",
    "2. Perbedaan Preferensi: Distribusi ukuran perusahaan yang bervariasi menunjukkan bahwa preferensi karyawan dalam hal ukuran perusahaan dapat sangat beragam. Ini menyoroti pentingnya beragam dalam strategi rekrutmen dan retensi karyawan.\n",
    "\n",
    "3. Strategi HR: Analisis ini dapat membantu departemen sumber daya manusia (HR) dalam merancang strategi untuk menjaga karyawan yang sudah ada dan merekrut karyawan baru. Misalnya, perusahaan dengan ukuran \"50-99\" dapat menjadi fokus bagi upaya rekrutmen.\n",
    "\n",
    "4. Pemahaman Pasar Tenaga Kerja: Mengetahui preferensi karyawan terkait ukuran perusahaan dapat membantu bisnis dalam memahami pasar tenaga kerja dan merespons perubahan dalam preferensi karyawan.\n",
    "\n",
    "5. Bisa dipertimbangkan mengingat perusahaaan di kota dengan CDI >0.75 memiliki retention rate yang lebih tinggi untuk berfokus pada penempatan perusahaan baru di kota-kota dengan CDI yang lebih tinggi.\n",
    "\n",
    "6. Perlu penyelidikan lebih lanjut khusus untuk perusahaan berukuran <b> 10-49</b> untuk mengetahui penyebab tingginya presentase enrollee yang mencari pekerjaan baru.\n",
    "\n",
    "7. Pentingnya 'relevant experience': Karyawan yang memiliki pengalaman terkait dapat lebih diprioritaskan untuk training mengingat rate of retention mereka yang lebih tinggi.\n",
    "\n",
    "8. Rate of retention <b>'Graduate'</b> yang hanya sekitar 70% dapat diteliti lebih lanjut, apakah faktor kausalnya. "
   ]
  },
  {
   "cell_type": "markdown",
   "id": "ce6c7a9b",
   "metadata": {},
   "source": [
    "## Data Cleansing"
   ]
  },
  {
   "cell_type": "markdown",
   "id": "408dd704",
   "metadata": {},
   "source": [
    "### A. Handle missing values"
   ]
  },
  {
   "cell_type": "code",
   "execution_count": null,
   "id": "e09d5674",
   "metadata": {},
   "outputs": [],
   "source": [
    "# Menghitung jumlah NaN atau nilai yang kosong\n",
    "print(\"Missing Values\")\n",
    "print(df_train.isnull().sum())\n",
    "\n",
    "#Check for missing values Percentage\n",
    "print(\"\\nMissing Values Percentage\")\n",
    "print(df_train.isna().sum()/len(df_train))"
   ]
  },
  {
   "cell_type": "code",
   "execution_count": null,
   "id": "7990b734",
   "metadata": {},
   "outputs": [],
   "source": [
    "#Mengisi Missing Value\n",
    "for column in columns:\n",
    "    if df_train[column].isnull().sum()>0:\n",
    "        df_train[column].replace(np.nan,df_train[column].mode()[0],inplace=True)"
   ]
  },
  {
   "cell_type": "code",
   "execution_count": null,
   "id": "88f8cceb",
   "metadata": {},
   "outputs": [],
   "source": [
    "df_train.isnull().sum()"
   ]
  },
  {
   "cell_type": "markdown",
   "id": "cc5fee11",
   "metadata": {},
   "source": [
    "Handle Missing value di setiap kolom dengan modus"
   ]
  },
  {
   "cell_type": "markdown",
   "id": "7831b4ef",
   "metadata": {},
   "source": [
    "### B. Handle Duplicate Data"
   ]
  },
  {
   "cell_type": "code",
   "execution_count": null,
   "id": "4777e77a",
   "metadata": {},
   "outputs": [],
   "source": [
    "df_train.duplicated().sum()"
   ]
  },
  {
   "cell_type": "markdown",
   "id": "fe338009",
   "metadata": {},
   "source": [
    "Tidak ada data yang duplicate"
   ]
  },
  {
   "cell_type": "markdown",
   "id": "82339ff6",
   "metadata": {},
   "source": [
    "### C. Handle outliers"
   ]
  },
  {
   "cell_type": "code",
   "execution_count": null,
   "id": "604558a7",
   "metadata": {},
   "outputs": [],
   "source": [
    "#4. Filtering Outliers using Z-score\n",
    "# Penjelasan: Filtering hanya dilakukan pada kolom 'city_development_index','training_hours'\n",
    "# Kolom-kolom ini diharapkan menjadi fitur yang akan digunakan pada pemodelan dan dapat memprediksi \n",
    "\n",
    "from scipy import stats"
   ]
  },
  {
   "cell_type": "code",
   "execution_count": null,
   "id": "922520a6",
   "metadata": {},
   "outputs": [],
   "source": [
    "print(f'Jumlah baris sebelum memfilter outlier: {len(df_train)}')\n",
    "\n",
    "filtered_entries = np.array([True] * len(df_train))\n",
    "\n",
    "for col in ['city_development_index','training_hours']:\n",
    "    zscore = abs(stats.zscore(df_train[col])) # hitung absolute z-scorenya\n",
    "    filtered_entries = (zscore < 3) & filtered_entries # keep yang kurang dari 3 absolute z-scorenya\n",
    "    \n",
    "df = df_train[filtered_entries] # filter, cuma ambil yang z-scorenya dibawah 3\n",
    "\n",
    "print(f'Jumlah baris setelah memfilter outlier: {len(df)}')"
   ]
  },
  {
   "cell_type": "code",
   "execution_count": null,
   "id": "dd80d0cf",
   "metadata": {},
   "outputs": [],
   "source": [
    "#Distribusi data berdasarkan numerical setelah droping rows\n",
    "sns.set(style='whitegrid')\n",
    "\n",
    "fig, axes = plt.subplots(2, 3, figsize=(18, 10))\n",
    "plt.subplots_adjust(wspace=0.4, hspace=0.4)\n",
    "\n",
    "sns.histplot(ax=axes[0, 0], x=df['city_development_index'], bins=30, kde=True, color='skyblue')\n",
    "axes[0, 0].set_title('Distribution of City Development Index')\n",
    "axes[0, 0].set_xlabel('City Development Index')\n",
    "axes[0, 0].set_ylabel('Frequency')\n",
    "sns.boxplot(ax=axes[1, 0], x=df['city_development_index'], color='skyblue', width=0.2)\n",
    "\n",
    "sns.histplot(ax=axes[0, 1], x=df['training_hours'], bins=30, kde=True, color='skyblue')\n",
    "axes[0, 1].set_title('Distribution of Training Hours')\n",
    "axes[0, 1].set_xlabel('Training Hours')\n",
    "axes[0, 1].set_ylabel('Frequency')\n",
    "sns.boxplot(ax=axes[1, 1], x=df['training_hours'], color='skyblue', width=0.2)\n",
    "\n",
    "sns.histplot(ax=axes[0, 2], x=df['target'], bins=2, kde=True, color='skyblue')\n",
    "axes[0, 2].set_title('Distribution of Target')\n",
    "axes[0, 2].set_xlabel('Target')\n",
    "axes[0, 2].set_ylabel('Frequency')\n",
    "sns.boxplot(ax=axes[1, 2], x=df['target'], color='skyblue', width=0.2)\n",
    "\n",
    "plt.tight_layout()\n",
    "\n",
    "plt.show()"
   ]
  },
  {
   "cell_type": "markdown",
   "id": "ab7bfdee",
   "metadata": {},
   "source": [
    "### D. Feature Transformation"
   ]
  },
  {
   "cell_type": "code",
   "execution_count": null,
   "id": "da895f95",
   "metadata": {},
   "outputs": [],
   "source": [
    "# Transformasi fitur2 (normalisasi, standardisasi dan np log)\n",
    "\n",
    "from sklearn.preprocessing import MinMaxScaler, StandardScaler\n",
    "\n",
    "\n",
    "df['cdi_norm'] =MinMaxScaler().fit_transform(df['city_development_index'].values.reshape(len(df), 1))\n",
    "df['cdi_std'] = StandardScaler().fit_transform(df['city_development_index'].values.reshape(len(df), 1))\n",
    "df['cdi_log']= np.log(df['city_development_index'])\n",
    "\n",
    "df['th_norm'] =MinMaxScaler().fit_transform(df['training_hours'].values.reshape(len(df), 1))\n",
    "df['th_std'] = StandardScaler().fit_transform(df['training_hours'].values.reshape(len(df), 1))\n",
    "df['th_log']= np.log(df['training_hours'])\n",
    "\n",
    "df['target_norm'] =MinMaxScaler().fit_transform(df['target'].values.reshape(len(df), 1))\n",
    "df['target_std'] = StandardScaler().fit_transform(df['target'].values.reshape(len(df), 1))\n",
    "df['target_log']= np.log(df['target'])\n",
    "\n"
   ]
  },
  {
   "cell_type": "code",
   "execution_count": null,
   "id": "ebbc093e",
   "metadata": {},
   "outputs": [],
   "source": [
    "df.info()"
   ]
  },
  {
   "cell_type": "code",
   "execution_count": null,
   "id": "de25f76c",
   "metadata": {},
   "outputs": [],
   "source": [
    "#Melihat distribusi setelah transformasi fitur\n",
    "\n",
    "new_nums_df = df.select_dtypes(include='float64')\n",
    "new_nums = new_nums_df.columns\n",
    "\n",
    "\n",
    "plt.subplots_adjust(wspace=0.4, hspace=0.4)\n",
    "plt.figure( figsize=(18, 18))\n",
    "for i, cols in enumerate(new_nums, 0):\n",
    "    plt.subplot(5, 5, i+1)\n",
    "    sns.kdeplot(data=df, x=cols)\n",
    "    plt.title(f'KDE Plot of {cols}')\n",
    "    plt.xticks(rotation = 25)\n",
    "plt.tight_layout()\n",
    "plt.show()"
   ]
  },
  {
   "cell_type": "markdown",
   "id": "d012cc69",
   "metadata": {},
   "source": [
    "### E. Feature Encoding"
   ]
  },
  {
   "cell_type": "code",
   "execution_count": null,
   "id": "30b5904f",
   "metadata": {},
   "outputs": [],
   "source": [
    "# Mengganti tanda \"/\" dengan tanda \"-\"\n",
    "# Mengganti 10/49 menjadi 10-49\n",
    "\n",
    "df['company_size'] = df['company_size'].str.replace('/', '-')\n",
    "\n",
    "# Mengganti \"100-500\" menjadi \"100-499\"\n",
    "df['company_size'] = df['company_size'].str.replace('100-500', '100-499')"
   ]
  },
  {
   "cell_type": "code",
   "execution_count": null,
   "id": "6a50eb92",
   "metadata": {},
   "outputs": [],
   "source": [
    "df.sample(5)"
   ]
  },
  {
   "cell_type": "code",
   "execution_count": null,
   "id": "94526d14",
   "metadata": {},
   "outputs": [],
   "source": [
    "#label encoding feature gender\n",
    "gender_mapping = {\n",
    "    'Female': 0,\n",
    "    'Male': 1,\n",
    "    'Other': 2\n",
    "}\n",
    "\n",
    "df['gender'] = df['gender'].map(gender_mapping)\n"
   ]
  },
  {
   "cell_type": "code",
   "execution_count": null,
   "id": "8352794b",
   "metadata": {},
   "outputs": [],
   "source": [
    "df.sample(5)"
   ]
  },
  {
   "cell_type": "code",
   "execution_count": null,
   "id": "135be6b5",
   "metadata": {},
   "outputs": [],
   "source": [
    "#label encoding feature relevant_experience\n",
    "relevent_experience_mapping = {\n",
    "    'No relevent experience': 0,\n",
    "    'Has relevent experience': 1\n",
    "}\n",
    "df['relevent_experience'] = df['relevent_experience'].map(relevent_experience_mapping)"
   ]
  },
  {
   "cell_type": "code",
   "execution_count": null,
   "id": "100434ce",
   "metadata": {},
   "outputs": [],
   "source": [
    "df.sample(5)"
   ]
  },
  {
   "cell_type": "code",
   "execution_count": null,
   "id": "da6f7aba",
   "metadata": {},
   "outputs": [],
   "source": [
    "#label encoding feature enrolled_university\n",
    "enrolled_university_mapping = {\n",
    "    'no_enrollment': 0,\n",
    "    'Part time course': 1,\n",
    "    'Full time course': 2\n",
    "}\n",
    "df['enrolled_university'] = df['enrolled_university'].map(enrolled_university_mapping)"
   ]
  },
  {
   "cell_type": "code",
   "execution_count": null,
   "id": "e5a1394e",
   "metadata": {},
   "outputs": [],
   "source": [
    "df.sample(5)"
   ]
  },
  {
   "cell_type": "code",
   "execution_count": null,
   "id": "94d3567f",
   "metadata": {},
   "outputs": [],
   "source": [
    "#label encoding feature education_level\n",
    "education_level_mapping = {\n",
    "    'Primary School': 0,\n",
    "    'High School': 1,\n",
    "    'Graduate': 2,\n",
    "    'Masters': 3,\n",
    "    'Phd': 4\n",
    "}\n",
    "df['education_level'] = df['education_level'].map(education_level_mapping)"
   ]
  },
  {
   "cell_type": "code",
   "execution_count": null,
   "id": "d62c770e",
   "metadata": {},
   "outputs": [],
   "source": [
    "df.sample(5)"
   ]
  },
  {
   "cell_type": "code",
   "execution_count": null,
   "id": "3198bc98",
   "metadata": {},
   "outputs": [],
   "source": [
    "#label encoding feature company_size\n",
    "company_size_mapping = {\n",
    "    '<10': 0,\n",
    "    '10-49': 1,\n",
    "    '50-99': 2,\n",
    "    '100-499': 3,\n",
    "    '500-999': 4,\n",
    "    '1000-4999': 5,\n",
    "    '5000-9999': 6,\n",
    "    '10000+': 7\n",
    "}\n",
    "df['company_size'] = df['company_size'].map(company_size_mapping)"
   ]
  },
  {
   "cell_type": "code",
   "execution_count": null,
   "id": "8614539a",
   "metadata": {},
   "outputs": [],
   "source": [
    "df.sample(5)"
   ]
  },
  {
   "cell_type": "code",
   "execution_count": null,
   "id": "730a94e5",
   "metadata": {},
   "outputs": [],
   "source": [
    "#label encoding feature last_new_job\n",
    "last_new_job_mapping = {\n",
    "    'never': 0,\n",
    "    '1': 1,\n",
    "    '2': 2,\n",
    "    '3': 3,\n",
    "    '4': 4,\n",
    "    '>4': 5\n",
    "}\n",
    "\n",
    "df['last_new_job'] = df['last_new_job'].map(last_new_job_mapping)"
   ]
  },
  {
   "cell_type": "code",
   "execution_count": null,
   "id": "cb5e4270",
   "metadata": {},
   "outputs": [],
   "source": [
    "df.sample(5)"
   ]
  },
  {
   "cell_type": "code",
   "execution_count": null,
   "id": "b665c140",
   "metadata": {},
   "outputs": [],
   "source": [
    "# Select the categorical features\n",
    "categorical_features = ['city', 'gender', 'relevent_experience', 'enrolled_university',\n",
    "                        'education_level', 'major_discipline', 'experience', 'company_size',\n",
    "                        'company_type', 'last_new_job']\n",
    "\n",
    "# Set up the figure and axes\n",
    "fig, axes = plt.subplots(nrows=5, ncols=2, figsize=(15, 25))\n",
    "\n",
    "# Flatten the axes for easy iteration\n",
    "axes = axes.flatten()\n",
    "\n",
    "# Loop through categorical features and plot bar charts\n",
    "for i, feature in enumerate(categorical_features):\n",
    "    sns.countplot(data=df, y=feature, ax=axes[i], order=df[feature].value_counts().index, color='skyblue')\n",
    "    axes[i].set_title(f'Countplot of {feature}')\n",
    "    axes[i].set_xlabel('Count')\n",
    "    axes[i].set_ylabel(feature)\n",
    "\n",
    "# Adjust layout and show the plots\n",
    "plt.tight_layout()\n",
    "plt.show()"
   ]
  },
  {
   "cell_type": "code",
   "execution_count": null,
   "id": "27f6a2da-8e80-4951-a1be-29c844fef4ed",
   "metadata": {
    "tags": []
   },
   "outputs": [],
   "source": [
    "correlation_matrix = df.corr()\n",
    "\n",
    "# Plot a heatmap to visualize the correlation matrix\n",
    "plt.figure(figsize=(10, 6))\n",
    "sns.heatmap(correlation_matrix, annot=True, cmap='Blues', fmt='.2f', square=True)\n",
    "plt.title('Correlation Heatmap')\n",
    "plt.show()"
   ]
  },
  {
   "cell_type": "markdown",
   "id": "6831fb46",
   "metadata": {},
   "source": [
    "### F. Handle Class Imbalance"
   ]
  },
  {
   "cell_type": "code",
   "execution_count": null,
   "id": "ffb5561e",
   "metadata": {},
   "outputs": [],
   "source": []
  },
  {
   "cell_type": "code",
   "execution_count": null,
   "id": "0fa9fa94",
   "metadata": {},
   "outputs": [],
   "source": []
  }
 ],
 "metadata": {
  "kernelspec": {
   "display_name": "Python 3 (ipykernel)",
   "language": "python",
   "name": "python3"
  },
  "language_info": {
   "codemirror_mode": {
    "name": "ipython",
    "version": 3
   },
   "file_extension": ".py",
   "mimetype": "text/x-python",
   "name": "python",
   "nbconvert_exporter": "python",
   "pygments_lexer": "ipython3",
   "version": "3.11.5"
  }
 },
 "nbformat": 4,
 "nbformat_minor": 5
}
