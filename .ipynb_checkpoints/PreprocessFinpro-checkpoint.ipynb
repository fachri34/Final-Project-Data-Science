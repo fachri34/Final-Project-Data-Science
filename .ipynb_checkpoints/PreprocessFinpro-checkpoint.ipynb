{
 "cells": [
  {
   "cell_type": "code",
   "execution_count": null,
   "id": "8cb74301-a523-4482-94e2-ec98e5cc69f5",
   "metadata": {
    "tags": []
   },
   "outputs": [],
   "source": [
    "import numpy as np\n",
    "import pandas as pd\n",
    "import datetime\n",
    "import seaborn as sns\n",
    "import matplotlib.pyplot as plt"
   ]
  },
  {
   "cell_type": "code",
   "execution_count": null,
   "id": "02bf8b9d-1251-410b-a3fb-0d77192bb39b",
   "metadata": {
    "tags": []
   },
   "outputs": [],
   "source": [
    "df= pd.read_csv('aug_train.csv')\n",
    "df.sample(5)"
   ]
  },
  {
   "cell_type": "code",
   "execution_count": null,
   "id": "72864bf7-bd94-4d2f-8ebd-8cbbfa95b33c",
   "metadata": {
    "tags": []
   },
   "outputs": [],
   "source": [
    "#Basic information about the dataset\n",
    "print(\"Basic information about the dataset\")\n",
    "print(df.info())\n",
    "\n",
    "#Summary statistics\n",
    "print(\"\\nSummary Statistics\")\n",
    "print(df.describe())\n",
    "\n",
    "#Check for missing values Percentage\n",
    "print(\"\\nMissing Values Percentage\")\n",
    "print(df.isna().sum()/len(df))"
   ]
  },
  {
   "cell_type": "markdown",
   "id": "f12fcb6f-fe81-41ea-beb9-678f1c47191e",
   "metadata": {},
   "source": [
    "Kolom Gender, COmpany size dan company type memiliki tingkat kekosongan data lebih dari 20%. --> Sebaiknya diapakan?"
   ]
  },
  {
   "cell_type": "code",
   "execution_count": null,
   "id": "676a9e66-483f-42db-bb49-39662cc66bb2",
   "metadata": {
    "tags": []
   },
   "outputs": [],
   "source": [
    "df['experience'].unique()"
   ]
  },
  {
   "cell_type": "code",
   "execution_count": null,
   "id": "3a6788eb-12c8-4dd4-aa25-5a3fd5da7fe6",
   "metadata": {
    "tags": []
   },
   "outputs": [],
   "source": [
    "#Mengubah tipe data pada kolom-kolom yang belum sesuai\n",
    "df['enrollee_id'] = df['enrollee_id'].astype(str)\n",
    "\n",
    "df['experience'] = df['experience'].apply(lambda x: '0' if x=='<1' else x)\n",
    "df['experience'] = df['experience'].apply(lambda x: '20' if x=='>20' else x)\n",
    "df['experience'] = df['experience'].astype(str).astype(int)\n",
    "\n",
    "#?? pertanyaan untuk kolom company size + last job, sebaiknya diapakan? dijadikan kategori?"
   ]
  },
  {
   "cell_type": "code",
   "execution_count": null,
   "id": "67b61b63-7cf2-4827-b1a2-db5bd7b0423c",
   "metadata": {
    "tags": []
   },
   "outputs": [],
   "source": [
    "cats = ['enrollee_id','city', 'gender', 'relevent_experience', 'enrolled_university', 'education_level','major_discipline','company_size', 'company_type','last_new_job']\n",
    "nums = ['city_development_index','experience','training_hours','target']\n",
    "\n",
    "print(df[cats].describe())\n",
    "print(\"\\n\", df[nums].describe())\n"
   ]
  },
  {
   "cell_type": "code",
   "execution_count": null,
   "id": "27739360-1862-434a-ab20-be1026fdf45b",
   "metadata": {
    "tags": []
   },
   "outputs": [],
   "source": [
    "df"
   ]
  },
  {
   "cell_type": "code",
   "execution_count": null,
   "id": "c5f1d24c-a85d-43bf-a5c1-448cc9018ee5",
   "metadata": {},
   "outputs": [],
   "source": [
    "#Create count plots for categorical colums\n",
    "cats1=['relevent_experience', 'enrolled_university', 'education_level','major_discipline','company_size', 'company_type','last_new_job']\n",
    "plt.figure(figsize=(12,20))\n",
    "for i, col in enumerate(cats1, 1):\n",
    "    plt.subplot(4, 2, i)\n",
    "    sns.countplot(data=df, x=col)\n",
    "    plt.title(f'Count Plot of {col}')\n",
    "    plt.xticks(rotation = 25)\n",
    "plt.tight_layout()\n",
    "plt.show()"
   ]
  },
  {
   "cell_type": "code",
   "execution_count": null,
   "id": "aa8f5326-caad-4315-af60-202ecbb5fa3b",
   "metadata": {},
   "outputs": [],
   "source": [
    "#Create histograms for numeric columns\n",
    "df[nums].hist(bins=15, figsize=(12,8))\n",
    "plt.suptitle('Histograms of Numeric Columns')\n",
    "plt.show()"
   ]
  },
  {
   "cell_type": "code",
   "execution_count": null,
   "id": "0983ebf1-b7ba-4129-a0e0-0acf77919d37",
   "metadata": {},
   "outputs": [],
   "source": [
    "plt.figure(figsize=(8, 8))\n",
    "sns.heatmap(df.corr(), cmap='Blues', annot=True, fmt='.2f')"
   ]
  }
 ],
 "metadata": {
  "kernelspec": {
   "display_name": "Python 3 (ipykernel)",
   "language": "python",
   "name": "python3"
  },
  "language_info": {
   "codemirror_mode": {
    "name": "ipython",
    "version": 3
   },
   "file_extension": ".py",
   "mimetype": "text/x-python",
   "name": "python",
   "nbconvert_exporter": "python",
   "pygments_lexer": "ipython3",
   "version": "3.11.3"
  }
 },
 "nbformat": 4,
 "nbformat_minor": 5
}
