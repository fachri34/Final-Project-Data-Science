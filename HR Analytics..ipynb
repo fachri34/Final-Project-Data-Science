{
 "cells": [
  {
   "cell_type": "markdown",
   "id": "4ff448c1-aa31-41b2-a0e5-0ff90aa8e373",
   "metadata": {},
   "source": [
    "### HR Analytics: Mengoptimalkan Sumber Daya Manusia melalui Data\n",
    "\n",
    "Dalam dunia bisnis yang terus berubah, peran Sumber Daya Manusia (HR) telah berkembang menjadi lebih dari sekadar administrasi dan pengelolaan karyawan. Saat ini, HR memegang peranan strategis yang penting dalam pengambilan keputusan organisasi. Bagaimana HR dapat mengoptimalkan tenaga kerja, meningkatkan produktivitas, dan memastikan kepuasan karyawan? Jawabannya adalah dengan menerapkan HR Analytics.\n",
    "\n",
    "HR Analytics adalah pendekatan yang memanfaatkan data dan analisis untuk memahami lebih dalam dinamika organisasi, karyawan, dan lingkungan kerja. Ini membantu HR dalam mengidentifikasi pola-pola yang mungkin terlewatkan, memprediksi kebutuhan sumber daya manusia di masa depan, dan mengukur dampak kebijakan dan program HR. Dengan HR Analytics, perusahaan dapat membuat keputusan yang lebih tepat dan terinformasi.\n",
    "\n",
    "Dalam perjalanan ini, kita akan menjelajahi dunia HR Analytics, memahami bagaimana data dapat digunakan untuk meningkatkan pengelolaan sumber daya manusia, memaksimalkan produktivitas karyawan, dan mencapai tujuan organisasi. Kami akan melihat berbagai metode analisis, teknik visualisasi, dan praktik terbaik dalam HR Analytics untuk membantu Anda meraih keberhasilan dalam pengelolaan sumber daya manusia. Mari kita mulai perjalanan ini menuju pemahaman yang lebih dalam tentang dunia HR Analytics.\n",
    "\n",
    "Berikut dibawah ini merupakan Exploratory Data Analysis dari kelompok kami Data Wizards mengenai HR Analytics"
   ]
  },
  {
   "cell_type": "code",
   "execution_count": 2,
   "id": "9eb495ee-c68d-4e25-b104-691ad0b00488",
   "metadata": {
    "jupyter": {
     "source_hidden": true
    },
    "tags": []
   },
   "outputs": [],
   "source": [
    "import pandas as pd\n",
    "import seaborn as sns\n",
    "import matplotlib.pyplot as plt\n",
    "import numpy as np\n",
    "import warnings\n",
    "warnings.filterwarnings(\"ignore\")"
   ]
  },
  {
   "cell_type": "markdown",
   "id": "32ba4eca-da6f-4c25-94c8-6c4a04f76c21",
   "metadata": {
    "tags": []
   },
   "source": [
    "# 1. Descriptive Statistics\n",
    "\n",
    "A. Apakah ada kolom dengan tipe data kurang sesuai, atau nama kolom dan isinya kurang sesuai? </br>\n",
    "B. Apakah ada kolom yang memiliki nilai kosong? Jika ada, apa saja?</br>\n",
    "C. Apakah ada kolom yang memiliki nilai summary agak aneh?</br>\n",
    "(min/mean/median/max/unique/top/freq)"
   ]
  },
  {
   "cell_type": "code",
   "execution_count": 3,
   "id": "a9193ede-d349-414b-a12e-7c896a7dbc0f",
   "metadata": {
    "tags": []
   },
   "outputs": [
    {
     "data": {
      "text/html": [
       "<div>\n",
       "<style scoped>\n",
       "    .dataframe tbody tr th:only-of-type {\n",
       "        vertical-align: middle;\n",
       "    }\n",
       "\n",
       "    .dataframe tbody tr th {\n",
       "        vertical-align: top;\n",
       "    }\n",
       "\n",
       "    .dataframe thead th {\n",
       "        text-align: right;\n",
       "    }\n",
       "</style>\n",
       "<table border=\"1\" class=\"dataframe\">\n",
       "  <thead>\n",
       "    <tr style=\"text-align: right;\">\n",
       "      <th></th>\n",
       "      <th>enrollee_id</th>\n",
       "      <th>city</th>\n",
       "      <th>city_development_index</th>\n",
       "      <th>gender</th>\n",
       "      <th>relevent_experience</th>\n",
       "      <th>enrolled_university</th>\n",
       "      <th>education_level</th>\n",
       "      <th>major_discipline</th>\n",
       "      <th>experience</th>\n",
       "      <th>company_size</th>\n",
       "      <th>company_type</th>\n",
       "      <th>last_new_job</th>\n",
       "      <th>training_hours</th>\n",
       "      <th>target</th>\n",
       "    </tr>\n",
       "  </thead>\n",
       "  <tbody>\n",
       "    <tr>\n",
       "      <th>17023</th>\n",
       "      <td>7489</td>\n",
       "      <td>city_103</td>\n",
       "      <td>0.920</td>\n",
       "      <td>Male</td>\n",
       "      <td>Has relevent experience</td>\n",
       "      <td>no_enrollment</td>\n",
       "      <td>Graduate</td>\n",
       "      <td>STEM</td>\n",
       "      <td>&gt;20</td>\n",
       "      <td>NaN</td>\n",
       "      <td>NaN</td>\n",
       "      <td>&gt;4</td>\n",
       "      <td>109</td>\n",
       "      <td>0.0</td>\n",
       "    </tr>\n",
       "    <tr>\n",
       "      <th>14035</th>\n",
       "      <td>21552</td>\n",
       "      <td>city_114</td>\n",
       "      <td>0.926</td>\n",
       "      <td>Male</td>\n",
       "      <td>Has relevent experience</td>\n",
       "      <td>no_enrollment</td>\n",
       "      <td>Masters</td>\n",
       "      <td>STEM</td>\n",
       "      <td>&gt;20</td>\n",
       "      <td>NaN</td>\n",
       "      <td>NaN</td>\n",
       "      <td>&gt;4</td>\n",
       "      <td>23</td>\n",
       "      <td>0.0</td>\n",
       "    </tr>\n",
       "    <tr>\n",
       "      <th>15437</th>\n",
       "      <td>17636</td>\n",
       "      <td>city_114</td>\n",
       "      <td>0.926</td>\n",
       "      <td>Male</td>\n",
       "      <td>No relevent experience</td>\n",
       "      <td>no_enrollment</td>\n",
       "      <td>Masters</td>\n",
       "      <td>STEM</td>\n",
       "      <td>&gt;20</td>\n",
       "      <td>10000+</td>\n",
       "      <td>Pvt Ltd</td>\n",
       "      <td>&gt;4</td>\n",
       "      <td>308</td>\n",
       "      <td>0.0</td>\n",
       "    </tr>\n",
       "    <tr>\n",
       "      <th>4008</th>\n",
       "      <td>16275</td>\n",
       "      <td>city_76</td>\n",
       "      <td>0.698</td>\n",
       "      <td>Male</td>\n",
       "      <td>Has relevent experience</td>\n",
       "      <td>no_enrollment</td>\n",
       "      <td>Masters</td>\n",
       "      <td>STEM</td>\n",
       "      <td>10</td>\n",
       "      <td>1000-4999</td>\n",
       "      <td>Pvt Ltd</td>\n",
       "      <td>3</td>\n",
       "      <td>39</td>\n",
       "      <td>1.0</td>\n",
       "    </tr>\n",
       "    <tr>\n",
       "      <th>15843</th>\n",
       "      <td>30156</td>\n",
       "      <td>city_103</td>\n",
       "      <td>0.920</td>\n",
       "      <td>Female</td>\n",
       "      <td>Has relevent experience</td>\n",
       "      <td>no_enrollment</td>\n",
       "      <td>Masters</td>\n",
       "      <td>STEM</td>\n",
       "      <td>10</td>\n",
       "      <td>500-999</td>\n",
       "      <td>Pvt Ltd</td>\n",
       "      <td>2</td>\n",
       "      <td>41</td>\n",
       "      <td>0.0</td>\n",
       "    </tr>\n",
       "  </tbody>\n",
       "</table>\n",
       "</div>"
      ],
      "text/plain": [
       "       enrollee_id      city  city_development_index  gender  \\\n",
       "17023         7489  city_103                   0.920    Male   \n",
       "14035        21552  city_114                   0.926    Male   \n",
       "15437        17636  city_114                   0.926    Male   \n",
       "4008         16275   city_76                   0.698    Male   \n",
       "15843        30156  city_103                   0.920  Female   \n",
       "\n",
       "           relevent_experience enrolled_university education_level  \\\n",
       "17023  Has relevent experience       no_enrollment        Graduate   \n",
       "14035  Has relevent experience       no_enrollment         Masters   \n",
       "15437   No relevent experience       no_enrollment         Masters   \n",
       "4008   Has relevent experience       no_enrollment         Masters   \n",
       "15843  Has relevent experience       no_enrollment         Masters   \n",
       "\n",
       "      major_discipline experience company_size company_type last_new_job  \\\n",
       "17023             STEM        >20          NaN          NaN           >4   \n",
       "14035             STEM        >20          NaN          NaN           >4   \n",
       "15437             STEM        >20       10000+      Pvt Ltd           >4   \n",
       "4008              STEM         10    1000-4999      Pvt Ltd            3   \n",
       "15843             STEM         10      500-999      Pvt Ltd            2   \n",
       "\n",
       "       training_hours  target  \n",
       "17023             109     0.0  \n",
       "14035              23     0.0  \n",
       "15437             308     0.0  \n",
       "4008               39     1.0  \n",
       "15843              41     0.0  "
      ]
     },
     "execution_count": 3,
     "metadata": {},
     "output_type": "execute_result"
    }
   ],
   "source": [
    "# Membaca masing masing data set serta menampilkan 5 sampling data dari setiap data set train dan test\n",
    "df_train = pd.read_csv('aug_train.csv')\n",
    "df_test = pd.read_csv('aug_test.csv')\n",
    "df_train.sample(5)"
   ]
  },
  {
   "cell_type": "code",
   "execution_count": 4,
   "id": "63d95259-6f98-4b01-bf64-5af8c6230ff7",
   "metadata": {
    "tags": []
   },
   "outputs": [
    {
     "data": {
      "text/html": [
       "<div>\n",
       "<style scoped>\n",
       "    .dataframe tbody tr th:only-of-type {\n",
       "        vertical-align: middle;\n",
       "    }\n",
       "\n",
       "    .dataframe tbody tr th {\n",
       "        vertical-align: top;\n",
       "    }\n",
       "\n",
       "    .dataframe thead th {\n",
       "        text-align: right;\n",
       "    }\n",
       "</style>\n",
       "<table border=\"1\" class=\"dataframe\">\n",
       "  <thead>\n",
       "    <tr style=\"text-align: right;\">\n",
       "      <th></th>\n",
       "      <th>enrollee_id</th>\n",
       "      <th>city</th>\n",
       "      <th>city_development_index</th>\n",
       "      <th>gender</th>\n",
       "      <th>relevent_experience</th>\n",
       "      <th>enrolled_university</th>\n",
       "      <th>education_level</th>\n",
       "      <th>major_discipline</th>\n",
       "      <th>experience</th>\n",
       "      <th>company_size</th>\n",
       "      <th>company_type</th>\n",
       "      <th>last_new_job</th>\n",
       "      <th>training_hours</th>\n",
       "    </tr>\n",
       "  </thead>\n",
       "  <tbody>\n",
       "    <tr>\n",
       "      <th>1652</th>\n",
       "      <td>1443</td>\n",
       "      <td>city_75</td>\n",
       "      <td>0.939</td>\n",
       "      <td>Male</td>\n",
       "      <td>Has relevent experience</td>\n",
       "      <td>no_enrollment</td>\n",
       "      <td>Graduate</td>\n",
       "      <td>STEM</td>\n",
       "      <td>4</td>\n",
       "      <td>50-99</td>\n",
       "      <td>Funded Startup</td>\n",
       "      <td>1</td>\n",
       "      <td>12</td>\n",
       "    </tr>\n",
       "    <tr>\n",
       "      <th>1917</th>\n",
       "      <td>30109</td>\n",
       "      <td>city_103</td>\n",
       "      <td>0.920</td>\n",
       "      <td>Male</td>\n",
       "      <td>No relevent experience</td>\n",
       "      <td>Full time course</td>\n",
       "      <td>Graduate</td>\n",
       "      <td>STEM</td>\n",
       "      <td>4</td>\n",
       "      <td>NaN</td>\n",
       "      <td>NaN</td>\n",
       "      <td>1</td>\n",
       "      <td>14</td>\n",
       "    </tr>\n",
       "    <tr>\n",
       "      <th>691</th>\n",
       "      <td>23883</td>\n",
       "      <td>city_128</td>\n",
       "      <td>0.527</td>\n",
       "      <td>Male</td>\n",
       "      <td>Has relevent experience</td>\n",
       "      <td>Part time course</td>\n",
       "      <td>Masters</td>\n",
       "      <td>STEM</td>\n",
       "      <td>16</td>\n",
       "      <td>5000-9999</td>\n",
       "      <td>Public Sector</td>\n",
       "      <td>&gt;4</td>\n",
       "      <td>70</td>\n",
       "    </tr>\n",
       "    <tr>\n",
       "      <th>829</th>\n",
       "      <td>6778</td>\n",
       "      <td>city_21</td>\n",
       "      <td>0.624</td>\n",
       "      <td>NaN</td>\n",
       "      <td>Has relevent experience</td>\n",
       "      <td>no_enrollment</td>\n",
       "      <td>Graduate</td>\n",
       "      <td>STEM</td>\n",
       "      <td>7</td>\n",
       "      <td>50-99</td>\n",
       "      <td>Pvt Ltd</td>\n",
       "      <td>&gt;4</td>\n",
       "      <td>75</td>\n",
       "    </tr>\n",
       "    <tr>\n",
       "      <th>659</th>\n",
       "      <td>1670</td>\n",
       "      <td>city_103</td>\n",
       "      <td>0.920</td>\n",
       "      <td>Female</td>\n",
       "      <td>No relevent experience</td>\n",
       "      <td>Full time course</td>\n",
       "      <td>Graduate</td>\n",
       "      <td>STEM</td>\n",
       "      <td>2</td>\n",
       "      <td>&lt;10</td>\n",
       "      <td>Public Sector</td>\n",
       "      <td>1</td>\n",
       "      <td>11</td>\n",
       "    </tr>\n",
       "  </tbody>\n",
       "</table>\n",
       "</div>"
      ],
      "text/plain": [
       "      enrollee_id      city  city_development_index  gender  \\\n",
       "1652         1443   city_75                   0.939    Male   \n",
       "1917        30109  city_103                   0.920    Male   \n",
       "691         23883  city_128                   0.527    Male   \n",
       "829          6778   city_21                   0.624     NaN   \n",
       "659          1670  city_103                   0.920  Female   \n",
       "\n",
       "          relevent_experience enrolled_university education_level  \\\n",
       "1652  Has relevent experience       no_enrollment        Graduate   \n",
       "1917   No relevent experience    Full time course        Graduate   \n",
       "691   Has relevent experience    Part time course         Masters   \n",
       "829   Has relevent experience       no_enrollment        Graduate   \n",
       "659    No relevent experience    Full time course        Graduate   \n",
       "\n",
       "     major_discipline experience company_size    company_type last_new_job  \\\n",
       "1652             STEM          4        50-99  Funded Startup            1   \n",
       "1917             STEM          4          NaN             NaN            1   \n",
       "691              STEM         16    5000-9999   Public Sector           >4   \n",
       "829              STEM          7        50-99         Pvt Ltd           >4   \n",
       "659              STEM          2          <10   Public Sector            1   \n",
       "\n",
       "      training_hours  \n",
       "1652              12  \n",
       "1917              14  \n",
       "691               70  \n",
       "829               75  \n",
       "659               11  "
      ]
     },
     "execution_count": 4,
     "metadata": {},
     "output_type": "execute_result"
    }
   ],
   "source": [
    "df_test.sample(5)"
   ]
  },
  {
   "cell_type": "markdown",
   "id": "352c1feb-dc6a-4ba3-84b3-727a2037f519",
   "metadata": {},
   "source": [
    "Data ini mencakup informasi terkait sumber daya manusia, dengan berbagai variabel seperti pengalaman, pendidikan, jenis kelamin, lokasi, dan lainnya. Terdapat beberapa nilai yang hilang dalam kolom-kolom seperti \"gender\" dan \"company_size\". Terdapat juga variasi dalam kolom \"last_new_job\" yang mencerminkan berapa lama seseorang telah mengganti pekerjaan terakhirnya. Data ini memiliki potensi besar untuk analisis HR yang mendalam. Dengan penerapan HR Analytics, perusahaan dapat memahami tren dalam perekrutan, retensi, dan pengembangan karyawan. Namun, sebelumnya, perlu melakukan pengelolaan data seperti mengisi nilai yang hilang dan memeriksa outlier."
   ]
  },
  {
   "cell_type": "code",
   "execution_count": 5,
   "id": "d68b709a-02b2-469a-8a52-1c2089c53c83",
   "metadata": {
    "jupyter": {
     "source_hidden": true
    },
    "tags": []
   },
   "outputs": [
    {
     "name": "stdout",
     "output_type": "stream",
     "text": [
      "<class 'pandas.core.frame.DataFrame'>\n",
      "RangeIndex: 19158 entries, 0 to 19157\n",
      "Data columns (total 14 columns):\n",
      " #   Column                  Non-Null Count  Dtype  \n",
      "---  ------                  --------------  -----  \n",
      " 0   enrollee_id             19158 non-null  int64  \n",
      " 1   city                    19158 non-null  object \n",
      " 2   city_development_index  19158 non-null  float64\n",
      " 3   gender                  14650 non-null  object \n",
      " 4   relevent_experience     19158 non-null  object \n",
      " 5   enrolled_university     18772 non-null  object \n",
      " 6   education_level         18698 non-null  object \n",
      " 7   major_discipline        16345 non-null  object \n",
      " 8   experience              19093 non-null  object \n",
      " 9   company_size            13220 non-null  object \n",
      " 10  company_type            13018 non-null  object \n",
      " 11  last_new_job            18735 non-null  object \n",
      " 12  training_hours          19158 non-null  int64  \n",
      " 13  target                  19158 non-null  float64\n",
      "dtypes: float64(2), int64(2), object(10)\n",
      "memory usage: 2.0+ MB\n"
     ]
    }
   ],
   "source": [
    "# Informasi Data Frame\n",
    "df_train.info()"
   ]
  },
  {
   "cell_type": "markdown",
   "id": "4515c2d7-13ce-43b1-bf57-22d569bff104",
   "metadata": {
    "tags": []
   },
   "source": [
    "Jumlah Data: Data frame ini memiliki total <b>19,158 baris (entri) dan 14 kolom</b>.</br>\n",
    "\n",
    "#### Kolom dengan Data Tipe Integer (int64):\n",
    "\n",
    "enrollee_id: Kolom ID pendaftar.</br>\n",
    "training_hours: Kolom jumlah jam pelatihan.</br>\n",
    "\n",
    "#### Kolom dengan Data Tipe Float (float64):</br>\n",
    "\n",
    "city_development_index: Indeks perkembangan kota.</br>\n",
    "target: Kolom target, mungkin berhubungan dengan suatu prediksi atau klasifikasi.</br>\n",
    "\n",
    "#### Kolom dengan Data Tipe Object (teks):</br>\n",
    "\n",
    "city: Nama kota.</br>\n",
    "gender: Jenis kelamin pendaftar.</br>\n",
    "relevent_experience: Pengalaman yang relevan.</br>\n",
    "enrolled_university: Universitas tempat pendaftar terdaftar.</br>\n",
    "education_level: Tingkat pendidikan pendaftar.</br>\n",
    "major_discipline: Disiplin ilmu utama pendaftar.</br>\n",
    "experience: Pengalaman pendaftar.</br>\n",
    "company_size: Ukuran perusahaan di mana pendaftar bekerja.</br>\n",
    "company_type: Tipe perusahaan di mana pendaftar bekerja.</br>\n",
    "last_new_job: Jumlah tahun sejak pekerjaan terakhir.</br>\n",
    "\n",
    "#### Target Variable:\n",
    "Kolom  target digunakan sebagai variabel target untuk tugas analisis atau pemodelan. Tipe data kolom ini adalah float64, yang menunjukkan kemungkinan ini adalah kolom target yang mengandung nilai numerik."
   ]
  },
  {
   "cell_type": "code",
   "execution_count": 6,
   "id": "65670c76-1c7a-422b-b0e2-c36f0fc27205",
   "metadata": {
    "jupyter": {
     "source_hidden": true
    },
    "tags": []
   },
   "outputs": [],
   "source": [
    "# Mengelompokkan kolom - kolom dari data frame\n",
    "cats=['city','gender','relevent_experience','enrolled_university','education_level','major_discipline','experience','company_size',\n",
    "      'company_type','last_new_job']\n",
    "nums=['enrollee_id','city_development_index','training_hours','target']"
   ]
  },
  {
   "cell_type": "code",
   "execution_count": 7,
   "id": "88faf8cc-69f7-475e-b2c7-b32df715cb2d",
   "metadata": {
    "tags": []
   },
   "outputs": [
    {
     "data": {
      "text/html": [
       "<div>\n",
       "<style scoped>\n",
       "    .dataframe tbody tr th:only-of-type {\n",
       "        vertical-align: middle;\n",
       "    }\n",
       "\n",
       "    .dataframe tbody tr th {\n",
       "        vertical-align: top;\n",
       "    }\n",
       "\n",
       "    .dataframe thead th {\n",
       "        text-align: right;\n",
       "    }\n",
       "</style>\n",
       "<table border=\"1\" class=\"dataframe\">\n",
       "  <thead>\n",
       "    <tr style=\"text-align: right;\">\n",
       "      <th></th>\n",
       "      <th>enrollee_id</th>\n",
       "      <th>city_development_index</th>\n",
       "      <th>training_hours</th>\n",
       "      <th>target</th>\n",
       "    </tr>\n",
       "  </thead>\n",
       "  <tbody>\n",
       "    <tr>\n",
       "      <th>count</th>\n",
       "      <td>19158.000000</td>\n",
       "      <td>19158.000000</td>\n",
       "      <td>19158.000000</td>\n",
       "      <td>19158.000000</td>\n",
       "    </tr>\n",
       "    <tr>\n",
       "      <th>mean</th>\n",
       "      <td>16875.358179</td>\n",
       "      <td>0.828848</td>\n",
       "      <td>65.366896</td>\n",
       "      <td>0.249348</td>\n",
       "    </tr>\n",
       "    <tr>\n",
       "      <th>std</th>\n",
       "      <td>9616.292592</td>\n",
       "      <td>0.123362</td>\n",
       "      <td>60.058462</td>\n",
       "      <td>0.432647</td>\n",
       "    </tr>\n",
       "    <tr>\n",
       "      <th>min</th>\n",
       "      <td>1.000000</td>\n",
       "      <td>0.448000</td>\n",
       "      <td>1.000000</td>\n",
       "      <td>0.000000</td>\n",
       "    </tr>\n",
       "    <tr>\n",
       "      <th>25%</th>\n",
       "      <td>8554.250000</td>\n",
       "      <td>0.740000</td>\n",
       "      <td>23.000000</td>\n",
       "      <td>0.000000</td>\n",
       "    </tr>\n",
       "    <tr>\n",
       "      <th>50%</th>\n",
       "      <td>16982.500000</td>\n",
       "      <td>0.903000</td>\n",
       "      <td>47.000000</td>\n",
       "      <td>0.000000</td>\n",
       "    </tr>\n",
       "    <tr>\n",
       "      <th>75%</th>\n",
       "      <td>25169.750000</td>\n",
       "      <td>0.920000</td>\n",
       "      <td>88.000000</td>\n",
       "      <td>0.000000</td>\n",
       "    </tr>\n",
       "    <tr>\n",
       "      <th>max</th>\n",
       "      <td>33380.000000</td>\n",
       "      <td>0.949000</td>\n",
       "      <td>336.000000</td>\n",
       "      <td>1.000000</td>\n",
       "    </tr>\n",
       "  </tbody>\n",
       "</table>\n",
       "</div>"
      ],
      "text/plain": [
       "        enrollee_id  city_development_index  training_hours        target\n",
       "count  19158.000000            19158.000000    19158.000000  19158.000000\n",
       "mean   16875.358179                0.828848       65.366896      0.249348\n",
       "std     9616.292592                0.123362       60.058462      0.432647\n",
       "min        1.000000                0.448000        1.000000      0.000000\n",
       "25%     8554.250000                0.740000       23.000000      0.000000\n",
       "50%    16982.500000                0.903000       47.000000      0.000000\n",
       "75%    25169.750000                0.920000       88.000000      0.000000\n",
       "max    33380.000000                0.949000      336.000000      1.000000"
      ]
     },
     "execution_count": 7,
     "metadata": {},
     "output_type": "execute_result"
    }
   ],
   "source": [
    "#Statistik Deskriptif kolom numerikal\n",
    "df_train[nums].describe()"
   ]
  },
  {
   "cell_type": "markdown",
   "id": "6f5b5c26-5c00-4e95-af74-5af1c5d944fd",
   "metadata": {},
   "source": [
    "Statistik deskriptif untuk kolom numerikal:</br>\n",
    "1. Kolom 'enrollee_id' memiliki rentang ID pendaftar dari 1 hingga 33,380, dengan distribusi yang merata.</br>\n",
    "2. Kolom 'city_development_index' memiliki rata-rata sekitar 0.829 dengan range yang wajar antara 0.448 hingga 0.949.</br>\n",
    "3. Kolom 'training_hours' memiliki rata-rata sekitar 65.37 dengan range antara 1 hingga 336.</br>\n",
    "4. Kolom 'target' adalah variabel biner, di mana sekitar 25% pendaftar memiliki nilai target 1.</br>\n",
    "\n",
    "<b>Tidak ada data yang mencolok atau aneh dalam statistik ini.</b>"
   ]
  },
  {
   "cell_type": "code",
   "execution_count": 8,
   "id": "9d589ef2-f71c-43c1-a3d6-5285495272b6",
   "metadata": {
    "tags": []
   },
   "outputs": [
    {
     "data": {
      "text/html": [
       "<div>\n",
       "<style scoped>\n",
       "    .dataframe tbody tr th:only-of-type {\n",
       "        vertical-align: middle;\n",
       "    }\n",
       "\n",
       "    .dataframe tbody tr th {\n",
       "        vertical-align: top;\n",
       "    }\n",
       "\n",
       "    .dataframe thead th {\n",
       "        text-align: right;\n",
       "    }\n",
       "</style>\n",
       "<table border=\"1\" class=\"dataframe\">\n",
       "  <thead>\n",
       "    <tr style=\"text-align: right;\">\n",
       "      <th></th>\n",
       "      <th>city</th>\n",
       "      <th>gender</th>\n",
       "      <th>relevent_experience</th>\n",
       "      <th>enrolled_university</th>\n",
       "      <th>education_level</th>\n",
       "      <th>major_discipline</th>\n",
       "      <th>experience</th>\n",
       "      <th>company_size</th>\n",
       "      <th>company_type</th>\n",
       "      <th>last_new_job</th>\n",
       "    </tr>\n",
       "  </thead>\n",
       "  <tbody>\n",
       "    <tr>\n",
       "      <th>count</th>\n",
       "      <td>19158</td>\n",
       "      <td>14650</td>\n",
       "      <td>19158</td>\n",
       "      <td>18772</td>\n",
       "      <td>18698</td>\n",
       "      <td>16345</td>\n",
       "      <td>19093</td>\n",
       "      <td>13220</td>\n",
       "      <td>13018</td>\n",
       "      <td>18735</td>\n",
       "    </tr>\n",
       "    <tr>\n",
       "      <th>unique</th>\n",
       "      <td>123</td>\n",
       "      <td>3</td>\n",
       "      <td>2</td>\n",
       "      <td>3</td>\n",
       "      <td>5</td>\n",
       "      <td>6</td>\n",
       "      <td>22</td>\n",
       "      <td>8</td>\n",
       "      <td>6</td>\n",
       "      <td>6</td>\n",
       "    </tr>\n",
       "    <tr>\n",
       "      <th>top</th>\n",
       "      <td>city_103</td>\n",
       "      <td>Male</td>\n",
       "      <td>Has relevent experience</td>\n",
       "      <td>no_enrollment</td>\n",
       "      <td>Graduate</td>\n",
       "      <td>STEM</td>\n",
       "      <td>&gt;20</td>\n",
       "      <td>50-99</td>\n",
       "      <td>Pvt Ltd</td>\n",
       "      <td>1</td>\n",
       "    </tr>\n",
       "    <tr>\n",
       "      <th>freq</th>\n",
       "      <td>4355</td>\n",
       "      <td>13221</td>\n",
       "      <td>13792</td>\n",
       "      <td>13817</td>\n",
       "      <td>11598</td>\n",
       "      <td>14492</td>\n",
       "      <td>3286</td>\n",
       "      <td>3083</td>\n",
       "      <td>9817</td>\n",
       "      <td>8040</td>\n",
       "    </tr>\n",
       "  </tbody>\n",
       "</table>\n",
       "</div>"
      ],
      "text/plain": [
       "            city gender      relevent_experience enrolled_university  \\\n",
       "count      19158  14650                    19158               18772   \n",
       "unique       123      3                        2                   3   \n",
       "top     city_103   Male  Has relevent experience       no_enrollment   \n",
       "freq        4355  13221                    13792               13817   \n",
       "\n",
       "       education_level major_discipline experience company_size company_type  \\\n",
       "count            18698            16345      19093        13220        13018   \n",
       "unique               5                6         22            8            6   \n",
       "top           Graduate             STEM        >20        50-99      Pvt Ltd   \n",
       "freq             11598            14492       3286         3083         9817   \n",
       "\n",
       "       last_new_job  \n",
       "count         18735  \n",
       "unique            6  \n",
       "top               1  \n",
       "freq           8040  "
      ]
     },
     "execution_count": 8,
     "metadata": {},
     "output_type": "execute_result"
    }
   ],
   "source": [
    "# Statistik deskriptif kolom kategorikal\n",
    "df_train[cats].describe()"
   ]
  },
  {
   "cell_type": "code",
   "execution_count": 9,
   "id": "9412b5f7-1dfc-4443-a1a8-23d157646e1f",
   "metadata": {
    "jupyter": {
     "source_hidden": true
    },
    "tags": []
   },
   "outputs": [
    {
     "data": {
      "image/png": "[encoded data removed]",
      "text/plain": [
       "<Figure size 1000x600 with 1 Axes>"
      ]
     },
     "metadata": {},
     "output_type": "display_data"
    }
   ],
   "source": [
    "columns = [\"city\", \"gender\", \"relevent_experience\", \"enrolled_university\", \"education_level\", \"major_discipline\", \"experience\", \"company_size\", \"company_type\", \"last_new_job\"]\n",
    "count = [19158, 14650, 19158, 18772, 18698, 16345, 19093, 13220, 13018, 18735]\n",
    "unique_values = [123, 3, 2, 3, 5, 6, 22, 8, 6, 6]\n",
    "\n",
    "plt.figure(figsize=(10, 6))\n",
    "bar_width = 0.3 \n",
    "index = range(len(columns))\n",
    "\n",
    "plt.barh(index, count, bar_width, color='skyblue', label='Jumlah Data')\n",
    "plt.barh(index, unique_values, bar_width, color='lightgrey', label='Jumlah Kategori Unik')\n",
    "\n",
    "for i in index:\n",
    "    plt.text(count[i] + 200, i, f'{unique_values[i]} ({count[i]})', va='center')\n",
    "\n",
    "plt.xlabel('Count')\n",
    "plt.title('Jumlah Kategori Unik dan Total Data dalam Setiap Kolom')\n",
    "plt.yticks(index, columns)\n",
    "plt.gca().invert_yaxis()\n",
    "plt.legend()\n",
    "plt.show()\n"
   ]
  },
  {
   "cell_type": "markdown",
   "id": "c776fc07-4e5c-4514-ae1e-7fd2f56c5aae",
   "metadata": {},
   "source": [
    "Statistik deskriptif untuk kolom kategorikal:</br>\n",
    "\n",
    "1. Kolom 'gender' memiliki data yang hilang dan berisi jenis kelamin paling umum adalah 'Male' dengan jenis kelamin Unik ada 3 dan Jumlah data 14.650.\n",
    "2. Kolom 'enrolled_university' memiliki data yang hilang dan mayoritas tidak terdaftar di universitas jumlah Unik 3 dan Jumlah data 18.772.\n",
    "3. Kolom 'education_level' memiliki data yang hilang dan mayoritas adalah lulusan Nilai Unik: 5 Jumlah Data: 18,698\n",
    "4. Kolom 'major_discipline' memiliki beberapa nilai unik dan yang paling umum adalah 'STEM' Nilai Unik: 6 Jumlah Data: 16,345.\n",
    "5. Kolom 'company_size' memiliki data yang hilang dan ukuran '50-99' adalah yang paling umum Nilai Unik: 8 Jumlah Data: 13,220\n",
    "6. Kolom 'company_type' memiliki data yang hilang dan 'Pvt Ltd' adalah yang paling umum Nilai Unik: 6 Jumlah Data: 13,018\n",
    "7. Kolom 'last_new_job' memiliki data yang hilang dan '1' adalah yang paling umum Nilai Unik: 6 Jumlah Data: 18,735\n",
    "\n",
    "<b>!! Kolom gender memiliki 3 nilai unik (seharusnya terdapat 2 gender saja (Male dan Female))</b>"
   ]
  },
  {
   "cell_type": "code",
   "execution_count": 10,
   "id": "58d6c740-9678-4540-9d70-8e705a404f8e",
   "metadata": {
    "tags": []
   },
   "outputs": [
    {
     "name": "stdout",
     "output_type": "stream",
     "text": [
      "Missing Values\n",
      "enrollee_id                  0\n",
      "city                         0\n",
      "city_development_index       0\n",
      "gender                    4508\n",
      "relevent_experience          0\n",
      "enrolled_university        386\n",
      "education_level            460\n",
      "major_discipline          2813\n",
      "experience                  65\n",
      "company_size              5938\n",
      "company_type              6140\n",
      "last_new_job               423\n",
      "training_hours               0\n",
      "target                       0\n",
      "dtype: int64\n",
      "\n",
      "Missing Values Percentage\n",
      "enrollee_id               0.000000\n",
      "city                      0.000000\n",
      "city_development_index    0.000000\n",
      "gender                    0.235306\n",
      "relevent_experience       0.000000\n",
      "enrolled_university       0.020148\n",
      "education_level           0.024011\n",
      "major_discipline          0.146832\n",
      "experience                0.003393\n",
      "company_size              0.309949\n",
      "company_type              0.320493\n",
      "last_new_job              0.022080\n",
      "training_hours            0.000000\n",
      "target                    0.000000\n",
      "dtype: float64\n"
     ]
    }
   ],
   "source": [
    "# Menghitung jumlah NaN atau nilai yang kosong\n",
    "print(\"Missing Values\")\n",
    "print(df_train.isnull().sum())\n",
    "\n",
    "#Check for missing values Percentage\n",
    "print(\"\\nMissing Values Percentage\")\n",
    "print(df_train.isna().sum()/len(df_train))"
   ]
  },
  {
   "cell_type": "markdown",
   "id": "eef66be5-dc98-4fb7-ae48-78571f8337ce",
   "metadata": {
    "tags": []
   },
   "source": [
    "#### Data yang Tidak Lengkap (NaN): \n",
    "Beberapa kolom seperti <b>gender, enrolled_university, education_level, major_discipline, experience, company_size, dan company_type </b> memiliki nilai yang hilang (NaN)."
   ]
  },
  {
   "cell_type": "markdown",
   "id": "97d8d919-3a21-474a-9f91-99c551bbf381",
   "metadata": {
    "tags": []
   },
   "source": [
    "# 1. Descriptive Statistics (Kesimpulan)\n",
    "\n",
    "A. Semua tipe data sudah sesuai </br>\n",
    "B. Kolom <b> gender, enrolled_university, education_level, major_discipline, experience, company_size, company_type, last_new job, dan training_hours</b> memiliki nilai kosong </br>\n",
    "C. Kolom gender yang seharusnya memiliki 2 nilai unik ternyata memiliki 3 nilai unik."
   ]
  },
  {
   "cell_type": "markdown",
   "id": "13a88db1-e901-493b-accf-45b17277319f",
   "metadata": {},
   "source": [
    "# 2. Univariate Analysis\n",
    "\n",
    "Gunakan <b>visualisasi</b> untuk melihat distribusi masing-masing kolom (feature maupun target).</br>\n",
    "Tuliskan hasil observasinya, misalnya jika ada suatu kolom yang distribusinya\n",
    "menarik</br> (misal skewed, bimodal, ada outlier, ada nilai yang mendominasi, kategorinya\n",
    "terlalu banyak, dsb).</br> Jelaskan juga apa yang harus di-follow up saat data pre-processing."
   ]
  },
  {
   "cell_type": "markdown",
   "id": "29202fc7-6953-4c5d-adc5-7cefaf25c011",
   "metadata": {},
   "source": [
    "### Numerical Features"
   ]
  },
  {
   "cell_type": "code",
   "execution_count": 11,
   "id": "50d4b0e3-26b7-4b7d-be31-ef9889b486bb",
   "metadata": {
    "tags": []
   },
   "outputs": [
    {
     "data": {
      "image/png": "[encoded data removed]",
      "text/plain": [
       "<Figure size 1800x1000 with 6 Axes>"
      ]
     },
     "metadata": {},
     "output_type": "display_data"
    }
   ],
   "source": [
    "sns.set(style='whitegrid')\n",
    "\n",
    "fig, axes = plt.subplots(2, 3, figsize=(18, 10))\n",
    "plt.subplots_adjust(wspace=0.4, hspace=0.4)\n",
    "\n",
    "sns.histplot(ax=axes[0, 0], x=df_train['city_development_index'], bins=30, kde=True, color='skyblue')\n",
    "axes[0, 0].set_title('Distribution of City Development Index')\n",
    "axes[0, 0].set_xlabel('City Development Index')\n",
    "axes[0, 0].set_ylabel('Frequency')\n",
    "sns.boxplot(ax=axes[1, 0], x=df_train['city_development_index'], color='skyblue', width=0.2)\n",
    "\n",
    "sns.histplot(ax=axes[0, 1], x=df_train['training_hours'], bins=30, kde=True, color='skyblue')\n",
    "axes[0, 1].set_title('Distribution of Training Hours')\n",
    "axes[0, 1].set_xlabel('Training Hours')\n",
    "axes[0, 1].set_ylabel('Frequency')\n",
    "sns.boxplot(ax=axes[1, 1], x=df_train['training_hours'], color='skyblue', width=0.2)\n",
    "\n",
    "sns.histplot(ax=axes[0, 2], x=df_train['target'], bins=2, kde=True, color='skyblue')\n",
    "axes[0, 2].set_title('Distribution of Target')\n",
    "axes[0, 2].set_xlabel('Target')\n",
    "axes[0, 2].set_ylabel('Frequency')\n",
    "sns.boxplot(ax=axes[1, 2], x=df_train['target'], color='skyblue', width=0.2)\n",
    "\n",
    "plt.tight_layout()\n",
    "\n",
    "plt.show()\n"
   ]
  },
  {
   "cell_type": "markdown",
   "id": "2da4049b-b6a6-42d4-a77a-1455b7701a74",
   "metadata": {
    "tags": []
   },
   "source": [
    "#### Kesimpulan data numerikal\n",
    "\n",
    "1. Distribution of City Development Index (Distribusi Indeks Pembangunan Kota):\n",
    "CDI memiliki distribusi <b>bimodal</b> dengan dua puncak.</br>\n",
    "Mayoritas data terkonsentrasi di sekitar nilai tengah indeks pembangunan kota.</br>\n",
    "Terdapat beberapa nilai ekstrem yang diidentifikasi sebagai outlier dalam box plot.</br>\n",
    "2. Distribution of Training Hours (Distribusi Jam Pelatihan):\n",
    "Distribusi jam pelatihan <b>skew ke kanan</b> (positively skewed) dengan nilai<b> median yang lebih kecil daripada mean</b> (lihat df.describe pada no.1).\n",
    "Mayoritas data berpusat di sekitar nilai rendah hingga menengah jam pelatihan.\n",
    "Terdapat beberapa data yang diidentifikasi sebagai outlier dalam box plot, yang mengindikasikan jam pelatihan yang jauh lebih tinggi dari mayoritas.</br>\n",
    "3. Distribution of Target (Distribusi Target):\n",
    "Distribusi target menunjukkan bahwa mayoritas data adalah \"non-seeking\" (tidak mencari pekerjaan) dengan <b>persentase 3:1</b>.\n",
    "Dengan kata lain, hanya 25% enrollee adalah pencari pekerjaan baru."
   ]
  },
  {
   "cell_type": "markdown",
   "id": "7507ba7f-96e8-4106-a4b9-37a905c0b310",
   "metadata": {},
   "source": [
    "### Categorical Features"
   ]
  },
  {
   "cell_type": "code",
   "execution_count": null,
   "id": "40753599-4e88-4e47-bd44-8d4043b9875e",
   "metadata": {
    "tags": []
   },
   "outputs": [],
   "source": [
    "# Select the categorical features\n",
    "categorical_features = ['city', 'gender', 'relevent_experience', 'enrolled_university',\n",
    "                        'education_level', 'major_discipline', 'experience', 'company_size',\n",
    "                        'company_type', 'last_new_job']\n",
    "\n",
    "# Set up the figure and axes\n",
    "fig, axes = plt.subplots(nrows=5, ncols=2, figsize=(15, 25))\n",
    "\n",
    "# Flatten the axes for easy iteration\n",
    "axes = axes.flatten()\n",
    "\n",
    "# Loop through categorical features and plot bar charts\n",
    "for i, feature in enumerate(categorical_features):\n",
    "    sns.countplot(data=df_train, y=feature, ax=axes[i], order=df_train[feature].value_counts().index, color='skyblue')\n",
    "    axes[i].set_title(f'Countplot of {feature}')\n",
    "    axes[i].set_xlabel('Count')\n",
    "    axes[i].set_ylabel(feature)\n",
    "\n",
    "# Adjust layout and show the plots\n",
    "plt.tight_layout()\n",
    "plt.show()"
   ]
  },
  {
   "cell_type": "markdown",
   "id": "1dd0cf5b-5979-42c9-ac1c-e4d3fd81c7d5",
   "metadata": {},
   "source": [
    "#### Kesimpulan data kategorikal\n",
    "city: Distribusi kota agak <b>tidak merata</b>, beberapa kota memiliki <b>frekuensi yang tinggi</b>.</br>\n",
    "gender: Terdapat kategori <b>'Other'</b> yang mungkin perlu diperiksa lebih lanjut. Selain itu, <b>perbedaan frekuensi antara jenis kelamin cukup besar</b>.</br>\n",
    "relevent_experience: <b>Mayoritas</b> kandidat<B> memiliki pengalaman relevan</b>.</br>\n",
    "education_level: Kategori <b>'Primary School'</b> memiliki frekuensi yang <b>rendah</b> dibandingkan dengan kategori lainnya.</br>\n",
    "major_discipline: Mayoritas kandidat memiliki disiplin mayor di bidang <b>Engineering</b>.</br>\n",
    "experience: Distribusi pengalaman terlihat wajar, namun ada beberapa nilai yang mungkin perlu diinspeksi lebih lanjut.</br>\n",
    "company_size: Kategori <b>'50-99' dan '100-500' memiliki frekuensi tertinggi</b>. Nilai 10/49 perlu diubah menjadi 10-49</br>\n",
    "company_type: Mayoritas kandidat bekerja di perusahaan sektor <b>Private</b>.</br>\n",
    "last_new_job: Mayoritas kandidat telah mengganti pekerjaan dalam waktu <b>kurang dari satu tahun</b>.</br>\n",
    "target: <b>Distribusi target tidak seimbang</b>, dengan <b>mayoritas</b> kandidat <b>tidak mencari perubahan pekerjaan</b>.</br>"
   ]
  },
  {
   "cell_type": "markdown",
   "id": "d371776f-4632-4483-8120-c19b84551865",
   "metadata": {},
   "source": [
    "#### Follow-up <b>data preprocessing</b> yang dapat dilakukan meliputi:\n",
    "\n",
    "Handling Missing Values: Perlu memeriksa dan mengatasi nilai yang hilang pada kolom dengan missing values seperti 'gender','enrolled_university', 'education_level', dsb.</br>\n",
    "Outlier Detection and Handling: Memeriksa apakah ada outlier pada variabel numerik dan mengambil tindakan yang sesuai jika ada.</br>\n",
    "Encoding Categorical Variables: Melakukan encoding pada variabel kategorikal untuk mengubahnya menjadi bentuk numerik yang dapat digunakan dalam pemodelan.</br>\n",
    "Balancing Target: Mengambil tindakan untuk menangani ketidakseimbangan dalam target (oversampling, undersampling, atau metode lainnya).</br>\n",
    "Feature Scaling: Melakukan normalisasi atau standardisasi pada variabel numerik jika dibutuhkan.</br>\n",
    "Feature Engineering: Mungkin ada kemungkinan untuk menggabungkan, memisahkan, atau mengubah fitur untuk meningkatkan kinerja model.</br>\n",
    "Validasi Data: Memastikan bahwa dataset telah divalidasi dengan benar untuk mengidentifikasi potensi masalah atau anomali lain yang perlu ditangani."
   ]
  },
  {
   "cell_type": "markdown",
   "id": "49c8c0bd-4f86-4cae-b57b-bcb10f784d78",
   "metadata": {},
   "source": [
    "# 3. Multivariate Analysis + 4. Business Insight\n",
    "Lakukan multivariate analysis (seperti correlation heatmap dan category plots, sesuai yang\n",
    "diajarkan di kelas).</br> Tuliskan hasil observasinya, seperti:</br>\n",
    "A. Bagaimana korelasi antara masing-masing feature dan label. Kira-kira feature mana\n",
    "saja yang paling relevan dan harus dipertahankan?</br>\n",
    "B. Bagaimana korelasi antar-feature, apakah ada pola yang menarik? Apa yang perlu\n",
    "dilakukan terhadap feature itu?</br>\n",
    "* Tuliskan juga jika memang tidak ada feature yang saling berkorelasi"
   ]
  },
  {
   "cell_type": "code",
   "execution_count": null,
   "id": "b4ef0c30-e52f-4c1d-b986-8d6a173f9c63",
   "metadata": {
    "tags": []
   },
   "outputs": [],
   "source": [
    "# Selecting the numerical features and target\n",
    "numerical_features = ['city_development_index', 'training_hours', 'target']\n",
    "\n",
    "# Subset the DataFrame with only the numerical features\n",
    "numerical_df = df_train[numerical_features]\n",
    "\n",
    "# Calculate the correlation matrix\n",
    "correlation_matrix = numerical_df.corr()\n",
    "\n",
    "# Plot a heatmap to visualize the correlation matrix\n",
    "plt.figure(figsize=(10, 6))\n",
    "sns.heatmap(correlation_matrix, annot=True, cmap='Blues', fmt='.2f', square=True)\n",
    "plt.title('Correlation Heatmap')\n",
    "plt.show()"
   ]
  },
  {
   "cell_type": "markdown",
   "id": "89cf8b89-f263-4e5e-b09d-1318582415a2",
   "metadata": {},
   "source": [
    "\n",
    "Dari heatmap korelasi antara fitur-fitur numerik dan target (\"city_development_index\", \"training_hours,\" dan \"target\"), kita dapat membuat beberapa kesimpulan:\n",
    "\n",
    "1. City Development Index (CDI): Korelasi antara CDI dan target sangat rendah (0.04). Ini menunjukkan bahwa <b>CDI tidak memiliki pengaruh signifikan terhadap keputusan pencari kerja untuk mencari pekerjaan baru.</b>\n",
    "\n",
    "2. Training Hours: Korelasi antara jumlah jam pelatihan (\"training_hours\") dan target juga rendah (-0.021). Ini menunjukkan bahwa <b>jumlah jam pelatihan yang diambil oleh pencari kerja juga tidak memiliki pengaruh signifikan terhadap keputusan mereka untuk mencari pekerjaan baru.</b>\n",
    "\n",
    "Kesimpulannya, dari analisis korelasi, tidak ada fitur numerik yang memiliki korelasi yang kuat dengan kolom \"target.\" Ini menunjukkan bahwa keputusan pencari kerja untuk mencari pekerjaan baru <b>kemungkinan besar dipengaruhi oleh faktor-faktor lain yang tidak tercakup dalam fitur-fitur numerik ini.</b> Oleh karena itu, penting untuk mempertimbangkan fitur-fitur lain atau faktor-faktor kualitatif dalam analisis yang mungkin lebih memengaruhi keputusan pencari kerja."
   ]
  },
  {
   "cell_type": "code",
   "execution_count": null,
   "id": "924083bc-4378-4f9c-9768-4e7b64486227",
   "metadata": {
    "jupyter": {
     "source_hidden": true
    },
    "tags": []
   },
   "outputs": [],
   "source": [
    "custom_palette = [\"skyblue\", \"grey\"]\n",
    "\n",
    "# Define selected features for the pairplot\n",
    "selected_features = ['city_development_index', 'training_hours', 'target']\n",
    "\n",
    "# Create pairplot for selected features\n",
    "sns.pairplot(df_train[selected_features], hue='target', palette=custom_palette, diag_kind='kde')\n",
    "plt.show()"
   ]
  },
  {
   "cell_type": "markdown",
   "id": "c8dc8551-120f-4fcd-9952-dbcd85ba7cc1",
   "metadata": {},
   "source": [
    "Pairplot ini memvisualisasikan hubungan antara variabel 'city_development_index' dan 'training_hours' dengan membedakan berdasarkan variabel target.\n",
    "Seaborn pairplot digunakan untuk memahami sebaran data antara variabel 'city_development_index' dan 'training_hours' terhadap target (1 atau 0).\n",
    "Tidak ada perbedaan signifikan dalam pola antara orang yang mencari pekerjaan baru (target 1) dan yang tidak (target 0) berdasarkan hubungan antara 'city_development_index' dan 'training_hours'. Ini terlihat dari sebaran titik-titik yang relatif seragam.\n",
    "\n",
    "Hasil dari korelasi antara 'city_development_index' dan 'training_hours' terhadap target tidak ditampilkan dalam visualisasi. Namun, Anda dapat melihat korelasi ini di luar pairplot.\n",
    "Nilai korelasi antara 'city_development_index' dan 'training_hours' dengan target akan memberikan informasi lebih lanjut tentang sejauh mana kedua fitur ini berhubungan dengan variabel target.\n",
    "Kesimpulannya, pairplot mengungkapkan perbedaan yang signifikan dalam pola data antara variabel 'city_development_index' dan 'training_hours' dengan variabel target. "
   ]
  },
  {
   "cell_type": "code",
   "execution_count": null,
   "id": "e6baed08-4172-4e89-9113-9e5443ac480e",
   "metadata": {
    "tags": []
   },
   "outputs": [],
   "source": [
    "cats1 = ['gender', 'relevent_experience', 'enrolled_university', 'education_level', 'major_discipline', 'company_size', 'company_type', 'last_new_job']\n",
    "\n",
    "num_categories = len(cats1)\n",
    "subplots_per_row = 3\n",
    "num_rows = (num_categories + subplots_per_row - 1) // subplots_per_row\n",
    "\n",
    "fig, axes = plt.subplots(num_rows, subplots_per_row, figsize=(15, num_rows * 5))\n",
    "plt.subplots_adjust(wspace=0.4, hspace=0.4)\n",
    "\n",
    "# Define the colors for 'Non seeking' and 'Seeking'\n",
    "colors = ['skyblue', 'lightgrey']\n",
    "\n",
    "for i, cols in enumerate(cats1, 1):\n",
    "    data = df_train.groupby([cols, 'target'])['target'].count().unstack().fillna(0)\n",
    "    data_percentage = data.div(data.sum(axis=1), axis=0)\n",
    "\n",
    "    row = (i - 1) // subplots_per_row\n",
    "    col = (i - 1) % subplots_per_row\n",
    "\n",
    "    ax = data_percentage.plot(kind='bar', stacked=True, color=colors, ax=axes[row, col])\n",
    "    ax.set_title(f'Percentage of Job Seeking by {cols}')\n",
    "    ax.legend(labels=('Non seeking', 'Seeking'))\n",
    "    ax.set_xticklabels(data_percentage.index, rotation=25)\n",
    "    ax.set_yticklabels(['{:.0%}'.format(x) for x in ax.get_yticks()])\n",
    "\n",
    "for i in range(num_categories, num_rows * subplots_per_row):\n",
    "    row = i // subplots_per_row\n",
    "    col = i % subplots_per_row\n",
    "    fig.delaxes(axes[row, col])\n",
    "\n",
    "plt.tight_layout()\n",
    "plt.show()\n"
   ]
  },
  {
   "cell_type": "markdown",
   "id": "9fa85e12-e06b-4ee4-b09a-2d109478002e",
   "metadata": {},
   "source": [
    "Dari visualisasi yang disajikan, kita dapat menarik beberapa kesimpulan terkait dengan persentase pencari pekerjaan (seeking) berdasarkan berbagai kategori yang terdapat dalam dataset:\n",
    "\n",
    "1. <b>Gender</b> (Jenis Kelamin):\n",
    "Presentase \"Seeking' pada gender Female lebih tinggi dibandingkan Male. Mayoritas data menunjukkan persentase \"Non Seeking\" yang lebih tinggi daripada \"Seeking\" di semua kelompok jenis kelamin.\n",
    "\n",
    "2. <b>Relevant Experience </b>(Pengalaman Terkait):\n",
    "Orang-orang dengan pengalaman terkait cenderung memiliki persentase \"Non seeking\" yang lebih tinggi dibandingkan dengan yang tidak memiliki pengalaman terkait.\n",
    "\n",
    "3. <b>Enrolled University </b>(Status Pendaftaran Universitas):\n",
    "Orang-orang yang terdaftar di universitas memiliki persentase \"Seeking\" yang lebih tinggi dibandingkan dengan mereka yang tidak terdaftar di universitas.\n",
    "Mungkin ada korelasi antara tidak terdaftarnya di universitas dengan pencarian pekerjaan baru.\n",
    "\n",
    "4. <b>Education Level</b> (Tingkat Pendidikan):\n",
    "Tidak ada tren yang konsisten dalam persentase pencari pekerjaan berdasarkan tingkat pendidikan. Namun, individu dengan tingkat pendidikan \"Graduate\" cenderung memiliki persentase \"Seeking\" yang lebih tinggi.\n",
    "\n",
    "5. <b>Major Discipline </b>(Disiplin Ilmu Utama):\n",
    "Tidak ada perbedaan yang signifikan dalam persentase pencari pekerjaan berdasarkan disiplin ilmu utama.\n",
    "Persentase \"Non seeking\" lebih dominan dalam semua disiplin ilmu utama.\n",
    "\n",
    "6. <b>Company Size</b> (Ukuran Perusahaan):\n",
    "Individu yang bekerja di perusahaan dengan ukuran 10-49 orang cenderung memiliki persentase \"Seeking\" yang lebih tinggi.\n",
    "Perusahaan dengan ukuran 100-500 dan 1000-4999 memiliki persentase \"Non seeking\" yang lebih tinggi.\n",
    "\n",
    "7. <b>Company Type</b> (Jenis Perusahaan):\n",
    "Perusahaan berjenis 'Funded Startup' memiliki presentase 'Seeking' terkecil dibanding jenis perusahaan lainnya.\n",
    "\n",
    "8. <b>Last New Job</b> (Pekerjaan Terakhir):\n",
    "Orang-orang yang telah bekerja dalam pekerjaan sebelumnya selama 1 tahun memiliki persentase \"Seeking\" yang lebih tinggi.\n",
    "Individu dengan pekerjaan terakhir selama 4-5 tahun cenderung memiliki persentase \"Non seeking\" yang lebih tinggi."
   ]
  },
  {
   "cell_type": "code",
   "execution_count": null,
   "id": "ce078bb6-1424-45c8-b367-f762884869b0",
   "metadata": {
    "tags": []
   },
   "outputs": [],
   "source": [
    "df0 = df_train[df_train['target']==0]\n",
    "df1 = df_train[df_train['target']==1]\n",
    "\n",
    "fig = sns.kdeplot(df0['city_development_index'] , fill=True, color=\"skyblue\")\n",
    "fig = sns.kdeplot(df1['city_development_index'], fill=True, color=\"lightgrey\")\n",
    "plt.title('City Development Index comparison')\n",
    "plt.legend(labels=('Not seeking','Seeking'), loc='upper left')\n",
    "plt.show()"
   ]
  },
  {
   "cell_type": "code",
   "execution_count": null,
   "id": "7eae0e94-2e7d-4b54-a406-025aed09d184",
   "metadata": {
    "tags": []
   },
   "outputs": [],
   "source": [
    "df0 = df_train[df_train['target']==0]\n",
    "df1 = df_train[df_train['target']==1]\n",
    "\n",
    "fig = sns.kdeplot(df0['training_hours'] , fill=True, color=\"skyblue\")\n",
    "fig = sns.kdeplot(df1['training_hours'], fill=True, color=\"lightgrey\")\n",
    "plt.title('Training Hours Comparison')\n",
    "plt.legend(labels=('Not seeking','Seeking'), loc='upper right')\n",
    "plt.show()"
   ]
  },
  {
   "cell_type": "markdown",
   "id": "cbd16a8f-87e0-45f5-ad01-ec0c0c07f053",
   "metadata": {},
   "source": [
    "Dalam visualisasi \"City Development Index comparison\", terdapat dua distribusi yang dibandingkan, yaitu \"Not seeking\" (Tidak mencari pekerjaan) dan \"Seeking\" (Mencari pekerjaan) dengan menggunakan kernel density estimation (KDE). Berikut adalah kesimpulan dari grafik tersebut:\n",
    "\n",
    "1. Warna biru mewakili mereka yang tidak mencari pekerjaan (Not seeking).\n",
    "2. Warna abu-abu mewakili mereka yang sedang mencari pekerjaan (Seeking).\n",
    "3. Perpotongan antara grafik seeking dan non seeking pada CDI 0.75 menunjukan <b>mayoritas pencari pekerjaan baru (seeking) bertempat pada kota dengan CDI yang rendah (<0.75)</b>. Para <b>non-pencari kerja</b> bertempat mayoritas pada kota dengan <b>CDI > 0.75</b>."
   ]
  },
  {
   "cell_type": "markdown",
   "id": "67d97407-26fb-44f7-948c-05b6b6fcaf5b",
   "metadata": {
    "tags": []
   },
   "source": [
    "### Business Insight"
   ]
  },
  {
   "cell_type": "code",
   "execution_count": null,
   "id": "81ae82ac-dee7-40a0-b0a7-9452878531b0",
   "metadata": {
    "tags": []
   },
   "outputs": [],
   "source": [
    "plt.figure(figsize=(12, 6))\n",
    "custom_palette = [\"skyblue\", \"grey\"]\n",
    "sns.countplot(data=df_train, x='company_size', hue='target', order=df_train['company_size'].value_counts().index, palette=custom_palette)\n",
    "plt.title('Distribusi Ukuran Perusahaan berdasarkan Keinginan untuk Mengganti Pekerjaan')\n",
    "plt.xlabel('Ukuran Perusahaan')\n",
    "plt.ylabel('Jumlah')\n",
    "plt.xticks(rotation=45)\n",
    "plt.legend(title='Target', labels=['Tidak Ingin Mengganti', 'Ingin Mengganti'])\n",
    "plt.show()"
   ]
  },
  {
   "cell_type": "code",
   "execution_count": null,
   "id": "40a6a2a8-f28b-4a3b-85e6-ff45919eba23",
   "metadata": {
    "tags": []
   },
   "outputs": [],
   "source": [
    "plt.figure(figsize=(12,6))\n",
    "df_train.groupby('company_size')['target'].value_counts(normalize=True).unstack('target').plot.bar(stacked=True, color=custom_palette)\n",
    "plt.title(f'Percentage of Job Seeking by Company Size')\n",
    "plt.legend(labels=('Non seeking', 'Seeking'))\n",
    "plt.xticks(rotation = 25)\n",
    "    \n",
    "plt.tight_layout()\n",
    "plt.show()"
   ]
  },
  {
   "cell_type": "markdown",
   "id": "c9e9ff25-f4ff-4bab-b99d-35aa1cc741cc",
   "metadata": {},
   "source": [
    "Dalam plot distribusi ukuran perusahaan berdasarkan keinginan untuk mengganti pekerjaan, kami menggunakan warna \"skyblue\" untuk merepresentasikan kategori \"Tidak Ingin Mengganti\" dan warna \"grey\" untuk merepresentasikan kategori \"Ingin Mengganti\". Beberapa kesimpulan dari plot ini adalah:\n",
    "\n",
    "1. Walaupun secara jumlah, perusahaan berukuran \"50-99\" dan \"100-500\" menjadi perusahaan dengan jumlah sampel enrollee terbanyak, namun secara presentase, kedua perusahaan tersebut memiliki jumlah \"Seeker\" yang masih di bawah 20%.\n",
    "\n",
    "2. Begitupun dengan ukuran perusahaan \"500-999\" dan \"5000-9999\", dengan jumlah sampel yang sedikit, kedua perusahaan tersebut-pun masih memiliki presentase \"Seeker\" di bawah 20%.\n",
    "\n",
    "3. Sebaliknya, satu-satunya perusahaan yang memiliki presentase pencari pekerjaan lebih dari 20% adalah yang berukuran \"10-49\".\n",
    "\n",
    "Insight Bisnis :\n",
    "\n",
    "1. Penyelidikan Lanjutan: Meskipun tidak ada ukuran perusahaan yang secara signifikan mendominasi, perusahaan berukuran \"50-99\" tampaknya menarik bagi karyawan baik yang ingin mengganti pekerjaan maupun yang tidak. Bisnis dapat melakukan penyelidikan lebih lanjut untuk memahami faktor-faktor yang membuat ukuran perusahaan ini menarik.\n",
    "\n",
    "2. Perbedaan Preferensi: Distribusi ukuran perusahaan yang bervariasi menunjukkan bahwa preferensi karyawan dalam hal ukuran perusahaan dapat sangat beragam. Ini menyoroti pentingnya beragam dalam strategi rekrutmen dan retensi karyawan.\n",
    "\n",
    "3. Strategi HR: Analisis ini dapat membantu departemen sumber daya manusia (HR) dalam merancang strategi untuk menjaga karyawan yang sudah ada dan merekrut karyawan baru. Misalnya, perusahaan dengan ukuran \"50-99\" dapat menjadi fokus bagi upaya rekrutmen.\n",
    "\n",
    "4. Pemahaman Pasar Tenaga Kerja: Mengetahui preferensi karyawan terkait ukuran perusahaan dapat membantu bisnis dalam memahami pasar tenaga kerja dan merespons perubahan dalam preferensi karyawan.\n",
    "\n",
    "5. Bisa dipertimbangkan mengingat perusahaaan di kota dengan CDI >0.75 memiliki retention rate yang lebih tinggi untuk berfokus pada penempatan perusahaan baru di kota-kota dengan CDI yang lebih tinggi.\n",
    "\n",
    "6. Perlu penyelidikan lebih lanjut khusus untuk perusahaan berukuran <b> 10-49</b> untuk mengetahui penyebab tingginya presentase enrollee yang mencari pekerjaan baru.\n",
    "\n",
    "7. Pentingnya 'relevant experience': Karyawan yang memiliki pengalaman terkait dapat lebih diprioritaskan untuk training mengingat rate of retention mereka yang lebih tinggi.\n",
    "\n",
    "8. Rate of retention <b>'Graduate'</b> yang hanya sekitar 70% dapat diteliti lebih lanjut, apakah faktor kausalnya. "
   ]
  },
  {
   "cell_type": "markdown",
   "id": "ce6c7a9b",
   "metadata": {},
   "source": [
    "## Data Cleansing"
   ]
  },
  {
   "cell_type": "markdown",
   "id": "408dd704",
   "metadata": {},
   "source": [
    "### Handle missing values"
   ]
  },
  {
   "cell_type": "code",
   "execution_count": null,
   "id": "e09d5674",
   "metadata": {},
   "outputs": [],
   "source": [
    "# Menghitung jumlah NaN atau nilai yang kosong\n",
    "print(\"Missing Values\")\n",
    "print(df_train.isnull().sum())\n",
    "\n",
    "#Check for missing values Percentage\n",
    "print(\"\\nMissing Values Percentage\")\n",
    "print(df_train.isna().sum()/len(df_train))"
   ]
  },
  {
   "cell_type": "code",
   "execution_count": null,
   "id": "7990b734",
   "metadata": {},
   "outputs": [],
   "source": [
    "#Mengisi Missing Value\n",
    "for column in columns:\n",
    "    if df_train[column].isnull().sum()>0:\n",
    "        df_train[column].replace(np.nan,df_train[column].mode()[0],inplace=True)"
   ]
  },
  {
   "cell_type": "code",
   "execution_count": null,
   "id": "88f8cceb",
   "metadata": {},
   "outputs": [],
   "source": [
    "df_train.isnull().sum()"
   ]
  },
  {
   "cell_type": "markdown",
   "id": "cc5fee11",
   "metadata": {},
   "source": [
    "Handle Missing value di setiap kolom dengan modus"
   ]
  },
  {
   "cell_type": "markdown",
   "id": "7831b4ef",
   "metadata": {},
   "source": [
    "### Handle Duplicate Data"
   ]
  },
  {
   "cell_type": "code",
   "execution_count": null,
   "id": "4777e77a",
   "metadata": {},
   "outputs": [],
   "source": [
    "df_train.duplicated().sum()"
   ]
  },
  {
   "cell_type": "markdown",
   "id": "fe338009",
   "metadata": {},
   "source": [
    "Tidak ada data yang duplicate"
   ]
  },
  {
   "cell_type": "markdown",
   "id": "82339ff6",
   "metadata": {},
   "source": [
    "### Handle outliers"
   ]
  },
  {
   "cell_type": "code",
   "execution_count": null,
   "id": "604558a7",
   "metadata": {},
   "outputs": [],
   "source": [
    "#4. Filtering Outliers using Z-score\n",
    "# Penjelasan: Filtering hanya dilakukan pada kolom 'city_development_index','training_hours'\n",
    "# Kolom-kolom ini diharapkan menjadi fitur yang akan digunakan pada pemodelan dan dapat memprediksi \n",
    "\n",
    "from scipy import stats"
   ]
  },
  {
   "cell_type": "code",
   "execution_count": null,
   "id": "922520a6",
   "metadata": {},
   "outputs": [],
   "source": [
    "print(f'Jumlah baris sebelum memfilter outlier: {len(df_train)}')\n",
    "\n",
    "filtered_entries = np.array([True] * len(df_train))\n",
    "\n",
    "for col in ['city_development_index','training_hours']:\n",
    "    zscore = abs(stats.zscore(df_train[col])) # hitung absolute z-scorenya\n",
    "    filtered_entries = (zscore < 3) & filtered_entries # keep yang kurang dari 3 absolute z-scorenya\n",
    "    \n",
    "df = df_train[filtered_entries] # filter, cuma ambil yang z-scorenya dibawah 3\n",
    "\n",
    "print(f'Jumlah baris setelah memfilter outlier: {len(df)}')"
   ]
  },
  {
   "cell_type": "code",
   "execution_count": null,
   "id": "dd80d0cf",
   "metadata": {},
   "outputs": [],
   "source": [
    "#Distribusi data berdasarkan numerical setelah droping rows\n",
    "sns.set(style='whitegrid')\n",
    "\n",
    "fig, axes = plt.subplots(2, 3, figsize=(18, 10))\n",
    "plt.subplots_adjust(wspace=0.4, hspace=0.4)\n",
    "\n",
    "sns.histplot(ax=axes[0, 0], x=df['city_development_index'], bins=30, kde=True, color='skyblue')\n",
    "axes[0, 0].set_title('Distribution of City Development Index')\n",
    "axes[0, 0].set_xlabel('City Development Index')\n",
    "axes[0, 0].set_ylabel('Frequency')\n",
    "sns.boxplot(ax=axes[1, 0], x=df['city_development_index'], color='skyblue', width=0.2)\n",
    "\n",
    "sns.histplot(ax=axes[0, 1], x=df['training_hours'], bins=30, kde=True, color='skyblue')\n",
    "axes[0, 1].set_title('Distribution of Training Hours')\n",
    "axes[0, 1].set_xlabel('Training Hours')\n",
    "axes[0, 1].set_ylabel('Frequency')\n",
    "sns.boxplot(ax=axes[1, 1], x=df['training_hours'], color='skyblue', width=0.2)\n",
    "\n",
    "sns.histplot(ax=axes[0, 2], x=df['target'], bins=2, kde=True, color='skyblue')\n",
    "axes[0, 2].set_title('Distribution of Target')\n",
    "axes[0, 2].set_xlabel('Target')\n",
    "axes[0, 2].set_ylabel('Frequency')\n",
    "sns.boxplot(ax=axes[1, 2], x=df['target'], color='skyblue', width=0.2)\n",
    "\n",
    "plt.tight_layout()\n",
    "\n",
    "plt.show()"
   ]
  },
  {
   "cell_type": "markdown",
   "id": "ab7bfdee",
   "metadata": {},
   "source": [
    "### Feature Transformation"
   ]
  },
  {
   "cell_type": "code",
   "execution_count": null,
   "id": "da895f95",
   "metadata": {},
   "outputs": [],
   "source": [
    "df['th_log']= np.log(df['training_hours'])"
   ]
  },
  {
   "cell_type": "code",
   "execution_count": null,
   "id": "ebbc093e",
   "metadata": {},
   "outputs": [],
   "source": [
    "df.info()"
   ]
  },
  {
   "cell_type": "code",
   "execution_count": null,
   "id": "de25f76c",
   "metadata": {},
   "outputs": [],
   "source": [
    "#Melihat distribusi setelah transformasi fitur\n",
    "\n",
    "new_nums_df = df.select_dtypes(include='float64')\n",
    "new_nums = new_nums_df.columns\n",
    "\n",
    "\n",
    "plt.subplots_adjust(wspace=0.4, hspace=0.4)\n",
    "plt.figure( figsize=(18, 18))\n",
    "for i, cols in enumerate(new_nums, 0):\n",
    "    plt.subplot(5, 5, i+1)\n",
    "    sns.kdeplot(data=df, x=cols)\n",
    "    plt.title(f'KDE Plot of {cols}')\n",
    "    plt.xticks(rotation = 25)\n",
    "plt.tight_layout()\n",
    "plt.show()"
   ]
  },
  {
   "cell_type": "markdown",
   "id": "d012cc69",
   "metadata": {},
   "source": [
    "### Feature Encoding"
   ]
  },
  {
   "cell_type": "code",
   "execution_count": null,
   "id": "30b5904f",
   "metadata": {},
   "outputs": [],
   "source": [
    "# Mengganti tanda \"/\" dengan tanda \"-\"\n",
    "# Mengganti 10/49 menjadi 10-49\n",
    "\n",
    "df['company_size'] = df['company_size'].str.replace('/', '-')\n",
    "\n",
    "# Mengganti \"100-500\" menjadi \"100-499\"\n",
    "df['company_size'] = df['company_size'].str.replace('100-500', '100-499')"
   ]
  },
  {
   "cell_type": "code",
   "execution_count": null,
   "id": "f4453578-63ed-49da-a35d-c4f9e69f222c",
   "metadata": {
    "tags": []
   },
   "outputs": [],
   "source": [
    "categorical = ['enrolled_university','education_level','major_discipline','company_type']\n",
    "\n",
    "for cat in categorical:\n",
    "    onehots = pd.get_dummies(df[cat], prefix=cat)\n",
    "    df = df.join(onehots)"
   ]
  },
  {
   "cell_type": "code",
   "execution_count": null,
   "id": "36ed6e9a-efe5-40c7-9b36-cb6386baf36e",
   "metadata": {
    "tags": []
   },
   "outputs": [],
   "source": [
    "df.sample(3)"
   ]
  },
  {
   "cell_type": "code",
   "execution_count": null,
   "id": "94526d14",
   "metadata": {},
   "outputs": [],
   "source": [
    "#label encoding feature gender\n",
    "gender_mapping = {\n",
    "    'Female': 0,\n",
    "    'Male': 1,\n",
    "    'Other': 2\n",
    "}\n",
    "\n",
    "df['gender'] = df['gender'].map(gender_mapping)\n"
   ]
  },
  {
   "cell_type": "code",
   "execution_count": null,
   "id": "8352794b",
   "metadata": {},
   "outputs": [],
   "source": [
    "df.sample(5)"
   ]
  },
  {
   "cell_type": "code",
   "execution_count": null,
   "id": "135be6b5",
   "metadata": {},
   "outputs": [],
   "source": [
    "#label encoding feature relevant_experience\n",
    "relevent_experience_mapping = {\n",
    "    'No relevent experience': 0,\n",
    "    'Has relevent experience': 1\n",
    "}\n",
    "df['relevent_experience'] = df['relevent_experience'].map(relevent_experience_mapping)"
   ]
  },
  {
   "cell_type": "code",
   "execution_count": null,
   "id": "100434ce",
   "metadata": {},
   "outputs": [],
   "source": [
    "df.sample(5)"
   ]
  },
  {
   "cell_type": "code",
   "execution_count": null,
   "id": "da6f7aba",
   "metadata": {},
   "outputs": [],
   "source": [
    "#label encoding feature enrolled_university\n",
    "enrolled_university_mapping = {\n",
    "    'no_enrollment': 0,\n",
    "    'Part time course': 1,\n",
    "    'Full time course': 2\n",
    "}\n",
    "df['enrolled_university'] = df['enrolled_university'].map(enrolled_university_mapping)"
   ]
  },
  {
   "cell_type": "code",
   "execution_count": null,
   "id": "e5a1394e",
   "metadata": {},
   "outputs": [],
   "source": [
    "df.sample(5)"
   ]
  },
  {
   "cell_type": "code",
   "execution_count": null,
   "id": "94d3567f",
   "metadata": {},
   "outputs": [],
   "source": [
    "#label encoding feature education_level\n",
    "education_level_mapping = {\n",
    "    'Primary School': 0,\n",
    "    'High School': 1,\n",
    "    'Graduate': 2,\n",
    "    'Masters': 3,\n",
    "    'Phd': 4\n",
    "}\n",
    "df['education_level'] = df['education_level'].map(education_level_mapping)"
   ]
  },
  {
   "cell_type": "code",
   "execution_count": null,
   "id": "d62c770e",
   "metadata": {},
   "outputs": [],
   "source": [
    "df.sample(5)"
   ]
  },
  {
   "cell_type": "code",
   "execution_count": null,
   "id": "3198bc98",
   "metadata": {},
   "outputs": [],
   "source": [
    "#label encoding feature company_size\n",
    "company_size_mapping = {\n",
    "    '<10': 0,\n",
    "    '10-49': 1,\n",
    "    '50-99': 2,\n",
    "    '100-499': 3,\n",
    "    '500-999': 4,\n",
    "    '1000-4999': 5,\n",
    "    '5000-9999': 6,\n",
    "    '10000+': 7\n",
    "}\n",
    "df['company_size'] = df['company_size'].map(company_size_mapping)"
   ]
  },
  {
   "cell_type": "code",
   "execution_count": null,
   "id": "274e04c0-0b28-4ddb-b9be-efdf367514e9",
   "metadata": {},
   "outputs": [],
   "source": [
    "df.sample(5)"
   ]
  },
  {
   "cell_type": "code",
   "execution_count": null,
   "id": "730a94e5",
   "metadata": {},
   "outputs": [],
   "source": [
    "#label encoding feature last_new_job\n",
    "last_new_job_mapping = {\n",
    "    'never': 0,\n",
    "    '1': 1,\n",
    "    '2': 2,\n",
    "    '3': 3,\n",
    "    '4': 4,\n",
    "    '>4': 5\n",
    "}\n",
    "\n",
    "df['last_new_job'] = df['last_new_job'].map(last_new_job_mapping)"
   ]
  },
  {
   "cell_type": "code",
   "execution_count": null,
   "id": "39b2b16e-136e-4695-8a4a-6998670ac9df",
   "metadata": {},
   "outputs": [],
   "source": [
    "df.sample(5)"
   ]
  },
  {
   "cell_type": "code",
   "execution_count": null,
   "id": "e9c6879a-f6f4-46b0-be00-6ee65ad9a5ed",
   "metadata": {
    "tags": []
   },
   "outputs": [],
   "source": [
    "major_discipline_mapping = {\n",
    "    'STEM':0,\n",
    "    'Humanities':1,\n",
    "    'Business Degree':2,\n",
    "    'Arts': 3,\n",
    "    'No Major':4,\n",
    "    'Other':5\n",
    "}\n",
    "\n",
    "df['major_discipline'] = df['major_discipline'].map(major_discipline_mapping)"
   ]
  },
  {
   "cell_type": "code",
   "execution_count": null,
   "id": "dafd8954-411e-44a7-99bc-1d76cf7334dc",
   "metadata": {
    "tags": []
   },
   "outputs": [],
   "source": [
    "df.sample()"
   ]
  },
  {
   "cell_type": "code",
   "execution_count": null,
   "id": "d58da0d5-7457-46dc-bff6-2fdcca69edb0",
   "metadata": {
    "tags": []
   },
   "outputs": [],
   "source": [
    "experience_map = {\n",
    "    '<1': 0,\n",
    "    '1' : 1,\n",
    "    '2' : 2,\n",
    "    '3' : 3,\n",
    "    '4' : 4,\n",
    "    '5' : 5,\n",
    "    '6' : 6,\n",
    "    '7' : 7,\n",
    "    '8' : 8,\n",
    "    '9' : 9,\n",
    "    '10' : 10,\n",
    "    '11' : 11,\n",
    "    '12' : 12,\n",
    "    '13' : 13,\n",
    "    '14' : 14,\n",
    "    '15' : 15,\n",
    "    '16' : 16,\n",
    "    '17' : 17,\n",
    "    '18' : 18,\n",
    "    '19' : 19,\n",
    "    '20' : 20,\n",
    "    '>20' : 21\n",
    "}\n",
    "\n",
    "df['experience'] = df['experience'].map(experience_map)"
   ]
  },
  {
   "cell_type": "code",
   "execution_count": null,
   "id": "c321c75a-ad31-4466-afcb-727cd585d1a6",
   "metadata": {
    "tags": []
   },
   "outputs": [],
   "source": [
    "company_type_map = {\n",
    "    'Pvt Ltd': 0,\n",
    "    'Funded Startup':1,\n",
    "    'Public Sector':2,\n",
    "    'Early Stage Startup':3,\n",
    "    'NGO':4,\n",
    "    'Other':5\n",
    "}\n",
    "\n",
    "df['company_type'] = df['company_type'].map(company_type_map)"
   ]
  },
  {
   "cell_type": "code",
   "execution_count": null,
   "id": "56eb9286-f316-4575-a37c-c84a0b5861db",
   "metadata": {
    "tags": []
   },
   "outputs": [],
   "source": [
    "df.sample()"
   ]
  },
  {
   "cell_type": "code",
   "execution_count": null,
   "id": "a3892a5c-cbb3-42cf-9595-b9717beaeb71",
   "metadata": {
    "tags": []
   },
   "outputs": [],
   "source": [
    "df.info()"
   ]
  },
  {
   "cell_type": "markdown",
   "id": "59e25f66-610c-4229-ab03-0004b0b412bb",
   "metadata": {},
   "source": [
    "## Feature Engineering"
   ]
  },
  {
   "cell_type": "markdown",
   "id": "d34f440b-06ed-4957-b869-b82a7c6c0a77",
   "metadata": {},
   "source": [
    "### Feature Extraction"
   ]
  },
  {
   "cell_type": "code",
   "execution_count": null,
   "id": "95394051-9800-480f-a5a1-42c2b297f71d",
   "metadata": {
    "tags": []
   },
   "outputs": [],
   "source": [
    "def group_experience(experience):\n",
    "    if experience <= 5:\n",
    "        return 'Junior'\n",
    "    elif experience <= 10:\n",
    "        return 'Mid'\n",
    "    else:\n",
    "        return 'Senior'\n",
    "\n",
    "df['group_experience'] = df['experience'].apply(group_experience)"
   ]
  },
  {
   "cell_type": "code",
   "execution_count": null,
   "id": "036dc664-c5cd-4abc-bafb-b19e7a203314",
   "metadata": {
    "tags": []
   },
   "outputs": [],
   "source": [
    "def group_company_size(size):\n",
    "    if size <= 3:\n",
    "        return 'Small Company'\n",
    "    elif size <= 6:\n",
    "        return 'Medium Company'\n",
    "    else:\n",
    "        return 'Big Company'"
   ]
  },
  {
   "cell_type": "code",
   "execution_count": null,
   "id": "c7776100-f31c-4df7-9539-6ca08ffdfe31",
   "metadata": {
    "tags": []
   },
   "outputs": [],
   "source": [
    "df['group_company_size'] = df['company_size'].apply(group_company_size)"
   ]
  },
  {
   "cell_type": "code",
   "execution_count": null,
   "id": "01fd4989-ad04-43b7-90e4-8a8d1adda8a4",
   "metadata": {
    "tags": []
   },
   "outputs": [],
   "source": [
    "df.sample()"
   ]
  },
  {
   "cell_type": "code",
   "execution_count": null,
   "id": "e22059db-a34b-4a86-8efd-06befe465e48",
   "metadata": {
    "tags": []
   },
   "outputs": [],
   "source": [
    "group_experience = {\n",
    "    'Junior': 0,\n",
    "    'Mid': 1,\n",
    "    'Senior':2\n",
    "}\n",
    "\n",
    "df['group_experience'] = df['group_experience'].map(group_experience)"
   ]
  },
  {
   "cell_type": "code",
   "execution_count": null,
   "id": "6802c6f9-1700-4467-9590-41b002dcf943",
   "metadata": {
    "tags": []
   },
   "outputs": [],
   "source": [
    "group_company = {\n",
    "    'Small Company':0,\n",
    "    'Medium Company':1,\n",
    "    'Big Company':2\n",
    "}\n",
    "\n",
    "df['group_company_size'] = df['group_company_size'].map(group_company)"
   ]
  },
  {
   "cell_type": "code",
   "execution_count": null,
   "id": "7accb6c6-1cb1-47a8-b0d4-e34b5df439a3",
   "metadata": {
    "tags": []
   },
   "outputs": [],
   "source": [
    "plt.figure(figsize=(30, 30))\n",
    "sns.heatmap(df.corr(numeric_only=True), annot=True, cmap='Blues', fmt='.2f', square=True)\n",
    "plt.title('Correlation Heatmap')\n",
    "plt.show()"
   ]
  },
  {
   "cell_type": "markdown",
   "id": "d9536c6f-6bd5-4a4b-b9a4-9fb7eb3ed9da",
   "metadata": {},
   "source": [
    "### Feature Selection"
   ]
  },
  {
   "cell_type": "code",
   "execution_count": null,
   "id": "d96dbee8-b920-4589-97ec-e0fe27b534a1",
   "metadata": {
    "tags": []
   },
   "outputs": [],
   "source": [
    "drop = ['enrollee_id','gender','education_level','major_discipline','company_size','last_new_job','training_hours',\n",
    "        'th_log','enrolled_university_Part time course','education_level_Graduate','education_level_High School','group_company_size',\n",
    "       'education_level_Masters','education_level_Phd','education_level_Primary School','major_discipline_Arts','target',\n",
    "        'major_discipline_Business Degree','major_discipline_Humanities', 'major_discipline_No Major', 'experience',\n",
    "       'major_discipline_Other', 'major_discipline_STEM','company_type_Early Stage Startup', 'company_type_Funded Startup',\n",
    "       'company_type_NGO', 'company_type_Other', 'company_type_Public Sector','company_type_Pvt Ltd','city']\n",
    "\n",
    "X = df.drop(drop, axis=1)\n",
    "y = df['target']"
   ]
  },
  {
   "cell_type": "markdown",
   "id": "e01523b9-1f5d-46fa-8a2a-848fe66a76aa",
   "metadata": {},
   "source": [
    "### Standarisasi Fitur"
   ]
  },
  {
   "cell_type": "code",
   "execution_count": null,
   "id": "7906c92d-af14-4d4f-b87d-2afead5a2a81",
   "metadata": {
    "tags": []
   },
   "outputs": [],
   "source": [
    "from sklearn.preprocessing import StandardScaler\n",
    "ss = StandardScaler()\n",
    "\n",
    "numerical_features = X.columns.to_list()\n",
    "for n in numerical_features:\n",
    "  scaler = ss.fit(X[[n]])\n",
    "  X[n] = scaler.transform(X[[n]])"
   ]
  },
  {
   "cell_type": "markdown",
   "id": "ecb0075d-601e-46af-9859-d24b626f05e8",
   "metadata": {},
   "source": [
    "### Split Data"
   ]
  },
  {
   "cell_type": "code",
   "execution_count": null,
   "id": "0d074856-e98b-4787-87b9-bdbc519f3dc3",
   "metadata": {
    "tags": []
   },
   "outputs": [],
   "source": [
    "from sklearn.model_selection import train_test_split\n",
    "\n",
    "X_train, X_test,y_train, y_test = train_test_split(X, y, test_size=0.25, random_state=12345)"
   ]
  },
  {
   "cell_type": "markdown",
   "id": "5c97b981-b3d3-42a8-9a42-67f35c47f5d6",
   "metadata": {},
   "source": [
    "### Handle class imbalance"
   ]
  },
  {
   "cell_type": "code",
   "execution_count": null,
   "id": "9b20cffd-2d48-4fd9-9e99-eb3957730152",
   "metadata": {
    "tags": []
   },
   "outputs": [],
   "source": [
    "from imblearn.over_sampling import SMOTE\n",
    "\n",
    "smote = SMOTE()\n",
    "X_train, y_train = smote.fit_resample(X_train, y_train)"
   ]
  },
  {
   "cell_type": "code",
   "execution_count": null,
   "id": "24d96b3b-183b-425c-8e00-ec87300c2903",
   "metadata": {
    "tags": []
   },
   "outputs": [],
   "source": [
    "X_train.shape, y_train.shape"
   ]
  },
  {
   "cell_type": "code",
   "execution_count": null,
   "id": "4a2354fb-04d7-4620-8e66-e516f20501ab",
   "metadata": {
    "tags": []
   },
   "outputs": [],
   "source": [
    "print(f'Jumlah Data Train = {X_train.shape,y_train.shape}')\n",
    "print(f'Jumlah Data Test = {X_test.shape,y_test.shape}')"
   ]
  },
  {
   "cell_type": "code",
   "execution_count": null,
   "id": "68cd7b97-9f25-492c-8064-0ec94cabfb71",
   "metadata": {},
   "outputs": [],
   "source": []
  }
 ],
 "metadata": {
  "kernelspec": {
   "display_name": "Python 3 (ipykernel)",
   "language": "python",
   "name": "python3"
  },
  "language_info": {
   "codemirror_mode": {
    "name": "ipython",
    "version": 3
   },
   "file_extension": ".py",
   "mimetype": "text/x-python",
   "name": "python",
   "nbconvert_exporter": "python",
   "pygments_lexer": "ipython3",
   "version": "3.11.5"
  }
 },
 "nbformat": 4,
 "nbformat_minor": 5
}
